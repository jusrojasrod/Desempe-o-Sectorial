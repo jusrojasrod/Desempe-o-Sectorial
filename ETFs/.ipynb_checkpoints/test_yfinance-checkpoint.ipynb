{
 "cells": [
  {
   "cell_type": "code",
   "execution_count": 1,
   "id": "962bf819-ea02-486a-803f-51f0028660f1",
   "metadata": {
    "tags": []
   },
   "outputs": [],
   "source": [
    "# https://dev.to/1n0t/matplotlib-heatmap-calendar-3kbo"
   ]
  },
  {
   "cell_type": "code",
   "execution_count": 73,
   "id": "ac02e606-6848-4181-a851-f52f9dc44d93",
   "metadata": {
    "tags": []
   },
   "outputs": [],
   "source": [
    "#import libraries\n",
    "import pandas as pd\n",
    "import numpy as np\n",
    "import matplotlib.pyplot as plt\n",
    "from  matplotlib.colors import LinearSegmentedColormap\n",
    "\n",
    "import yfinance as yf\n",
    "\n",
    "from datetime import date\n",
    "from datetime import datetime\n",
    "\n",
    "import os"
   ]
  },
  {
   "cell_type": "code",
   "execution_count": 74,
   "id": "4074bd83-8b9a-4a1a-be94-465c2edc44c9",
   "metadata": {
    "tags": []
   },
   "outputs": [],
   "source": [
    "folderPath_rsrc = '/Resources/'\n",
    "folderPath_results = '/Results/'\n",
    "pictures = '/Pictures/'\n",
    "cwd = os.getcwd()\n",
    "path_rsrc = cwd + folderPath_rsrc\n",
    "path_results = cwd + folderPath_results\n",
    "path_pictures = cwd + pictures\n",
    "# read data\n",
    "ETFs = pd.read_excel(path_rsrc + \"ETFs list.xlsx\")"
   ]
  },
  {
   "cell_type": "code",
   "execution_count": 75,
   "id": "1df26f01-e6b5-4c36-8abb-d74edf3cd608",
   "metadata": {
    "tags": []
   },
   "outputs": [
    {
     "data": {
      "text/html": [
       "<div>\n",
       "<style scoped>\n",
       "    .dataframe tbody tr th:only-of-type {\n",
       "        vertical-align: middle;\n",
       "    }\n",
       "\n",
       "    .dataframe tbody tr th {\n",
       "        vertical-align: top;\n",
       "    }\n",
       "\n",
       "    .dataframe thead th {\n",
       "        text-align: right;\n",
       "    }\n",
       "</style>\n",
       "<table border=\"1\" class=\"dataframe\">\n",
       "  <thead>\n",
       "    <tr style=\"text-align: right;\">\n",
       "      <th></th>\n",
       "      <th>Technology</th>\n",
       "      <th>Energy</th>\n",
       "      <th>Telecom</th>\n",
       "      <th>Consumer Discretionary</th>\n",
       "      <th>Real Estate</th>\n",
       "      <th>Industrials</th>\n",
       "      <th>Utilities</th>\n",
       "      <th>Materials</th>\n",
       "      <th>Healthcare</th>\n",
       "      <th>Consumer Staples</th>\n",
       "      <th>Financials</th>\n",
       "    </tr>\n",
       "  </thead>\n",
       "  <tbody>\n",
       "    <tr>\n",
       "      <th>0</th>\n",
       "      <td>AAPB</td>\n",
       "      <td>ACES</td>\n",
       "      <td>FCOM</td>\n",
       "      <td>AMZD</td>\n",
       "      <td>BBRE</td>\n",
       "      <td>AIRR</td>\n",
       "      <td>BLLD</td>\n",
       "      <td>ALUM</td>\n",
       "      <td>AGNG</td>\n",
       "      <td>CHIS</td>\n",
       "      <td>BDCX</td>\n",
       "    </tr>\n",
       "    <tr>\n",
       "      <th>1</th>\n",
       "      <td>AAPD</td>\n",
       "      <td>AMJ</td>\n",
       "      <td>IXP</td>\n",
       "      <td>AMZU</td>\n",
       "      <td>BLDG</td>\n",
       "      <td>AQWA</td>\n",
       "      <td>CHIU</td>\n",
       "      <td>BATT</td>\n",
       "      <td>ARKG</td>\n",
       "      <td>CLIX</td>\n",
       "      <td>BDCZ</td>\n",
       "    </tr>\n",
       "    <tr>\n",
       "      <th>2</th>\n",
       "      <td>AAPU</td>\n",
       "      <td>AMLP</td>\n",
       "      <td>IYZ</td>\n",
       "      <td>BAD</td>\n",
       "      <td>BYRE</td>\n",
       "      <td>ARKX</td>\n",
       "      <td>ECLN</td>\n",
       "      <td>CHIM</td>\n",
       "      <td>BBC</td>\n",
       "      <td>EATV</td>\n",
       "      <td>BIZD</td>\n",
       "    </tr>\n",
       "    <tr>\n",
       "      <th>3</th>\n",
       "      <td>AIQ</td>\n",
       "      <td>AMNA</td>\n",
       "      <td>LTL</td>\n",
       "      <td>BEDZ</td>\n",
       "      <td>CHIR</td>\n",
       "      <td>AWAY</td>\n",
       "      <td>EMIF</td>\n",
       "      <td>CIRC</td>\n",
       "      <td>BBH</td>\n",
       "      <td>EATZ</td>\n",
       "      <td>BNKD</td>\n",
       "    </tr>\n",
       "    <tr>\n",
       "      <th>4</th>\n",
       "      <td>ARKK</td>\n",
       "      <td>AMND</td>\n",
       "      <td>NXTG</td>\n",
       "      <td>BETZ</td>\n",
       "      <td>DFGR</td>\n",
       "      <td>BDRY</td>\n",
       "      <td>FUTY</td>\n",
       "      <td>COPX</td>\n",
       "      <td>BBP</td>\n",
       "      <td>ECON</td>\n",
       "      <td>BNKU</td>\n",
       "    </tr>\n",
       "    <tr>\n",
       "      <th>...</th>\n",
       "      <td>...</td>\n",
       "      <td>...</td>\n",
       "      <td>...</td>\n",
       "      <td>...</td>\n",
       "      <td>...</td>\n",
       "      <td>...</td>\n",
       "      <td>...</td>\n",
       "      <td>...</td>\n",
       "      <td>...</td>\n",
       "      <td>...</td>\n",
       "      <td>...</td>\n",
       "    </tr>\n",
       "    <tr>\n",
       "      <th>163</th>\n",
       "      <td>XPND</td>\n",
       "      <td>NaN</td>\n",
       "      <td>NaN</td>\n",
       "      <td>NaN</td>\n",
       "      <td>NaN</td>\n",
       "      <td>NaN</td>\n",
       "      <td>NaN</td>\n",
       "      <td>NaN</td>\n",
       "      <td>NaN</td>\n",
       "      <td>NaN</td>\n",
       "      <td>NaN</td>\n",
       "    </tr>\n",
       "    <tr>\n",
       "      <th>164</th>\n",
       "      <td>XSD</td>\n",
       "      <td>NaN</td>\n",
       "      <td>NaN</td>\n",
       "      <td>NaN</td>\n",
       "      <td>NaN</td>\n",
       "      <td>NaN</td>\n",
       "      <td>NaN</td>\n",
       "      <td>NaN</td>\n",
       "      <td>NaN</td>\n",
       "      <td>NaN</td>\n",
       "      <td>NaN</td>\n",
       "    </tr>\n",
       "    <tr>\n",
       "      <th>165</th>\n",
       "      <td>XSW</td>\n",
       "      <td>NaN</td>\n",
       "      <td>NaN</td>\n",
       "      <td>NaN</td>\n",
       "      <td>NaN</td>\n",
       "      <td>NaN</td>\n",
       "      <td>NaN</td>\n",
       "      <td>NaN</td>\n",
       "      <td>NaN</td>\n",
       "      <td>NaN</td>\n",
       "      <td>NaN</td>\n",
       "    </tr>\n",
       "    <tr>\n",
       "      <th>166</th>\n",
       "      <td>XT</td>\n",
       "      <td>NaN</td>\n",
       "      <td>NaN</td>\n",
       "      <td>NaN</td>\n",
       "      <td>NaN</td>\n",
       "      <td>NaN</td>\n",
       "      <td>NaN</td>\n",
       "      <td>NaN</td>\n",
       "      <td>NaN</td>\n",
       "      <td>NaN</td>\n",
       "      <td>NaN</td>\n",
       "    </tr>\n",
       "    <tr>\n",
       "      <th>167</th>\n",
       "      <td>XWEB</td>\n",
       "      <td>NaN</td>\n",
       "      <td>NaN</td>\n",
       "      <td>NaN</td>\n",
       "      <td>NaN</td>\n",
       "      <td>NaN</td>\n",
       "      <td>NaN</td>\n",
       "      <td>NaN</td>\n",
       "      <td>NaN</td>\n",
       "      <td>NaN</td>\n",
       "      <td>NaN</td>\n",
       "    </tr>\n",
       "  </tbody>\n",
       "</table>\n",
       "<p>168 rows × 11 columns</p>\n",
       "</div>"
      ],
      "text/plain": [
       "    Technology Energy Telecom Consumer Discretionary Real Estate Industrials  \\\n",
       "0         AAPB   ACES    FCOM                   AMZD        BBRE        AIRR   \n",
       "1         AAPD    AMJ     IXP                   AMZU        BLDG        AQWA   \n",
       "2         AAPU   AMLP     IYZ                    BAD        BYRE        ARKX   \n",
       "3          AIQ   AMNA     LTL                   BEDZ        CHIR        AWAY   \n",
       "4         ARKK   AMND    NXTG                   BETZ        DFGR        BDRY   \n",
       "..         ...    ...     ...                    ...         ...         ...   \n",
       "163       XPND    NaN     NaN                    NaN         NaN         NaN   \n",
       "164        XSD    NaN     NaN                    NaN         NaN         NaN   \n",
       "165        XSW    NaN     NaN                    NaN         NaN         NaN   \n",
       "166         XT    NaN     NaN                    NaN         NaN         NaN   \n",
       "167       XWEB    NaN     NaN                    NaN         NaN         NaN   \n",
       "\n",
       "    Utilities Materials Healthcare Consumer Staples Financials  \n",
       "0        BLLD      ALUM       AGNG             CHIS       BDCX  \n",
       "1        CHIU      BATT       ARKG             CLIX       BDCZ  \n",
       "2        ECLN      CHIM        BBC             EATV       BIZD  \n",
       "3        EMIF      CIRC        BBH             EATZ       BNKD  \n",
       "4        FUTY      COPX        BBP             ECON       BNKU  \n",
       "..        ...       ...        ...              ...        ...  \n",
       "163       NaN       NaN        NaN              NaN        NaN  \n",
       "164       NaN       NaN        NaN              NaN        NaN  \n",
       "165       NaN       NaN        NaN              NaN        NaN  \n",
       "166       NaN       NaN        NaN              NaN        NaN  \n",
       "167       NaN       NaN        NaN              NaN        NaN  \n",
       "\n",
       "[168 rows x 11 columns]"
      ]
     },
     "execution_count": 75,
     "metadata": {},
     "output_type": "execute_result"
    }
   ],
   "source": [
    "ETFs"
   ]
  },
  {
   "cell_type": "code",
   "execution_count": 76,
   "id": "455e8db5-abe9-41cc-83f4-769bdaca60c0",
   "metadata": {
    "tags": []
   },
   "outputs": [],
   "source": [
    "sector = ETFs.columns[1]\n",
    "energy = ETFs[sector]\n",
    "energy.dropna(inplace=True)"
   ]
  },
  {
   "cell_type": "code",
   "execution_count": 77,
   "id": "3dcf95ec-9955-4ec7-97f5-0ed45c574b55",
   "metadata": {
    "tags": []
   },
   "outputs": [],
   "source": [
    "energy = energy.to_list()"
   ]
  },
  {
   "cell_type": "code",
   "execution_count": 78,
   "id": "6a7ea9e1-6961-4433-8d66-99214b7b2a2f",
   "metadata": {
    "tags": []
   },
   "outputs": [
    {
     "data": {
      "text/plain": [
       "['ACES', 'AMJ', 'AMLP', 'AMNA', 'AMND', 'AMTR', 'AMUB', 'AMZA', 'ATMP', 'BNE']"
      ]
     },
     "execution_count": 78,
     "metadata": {},
     "output_type": "execute_result"
    }
   ],
   "source": [
    "energy[:10]"
   ]
  },
  {
   "cell_type": "code",
   "execution_count": 79,
   "id": "bc6c6c86-2832-4453-91c4-ecc965644868",
   "metadata": {
    "tags": []
   },
   "outputs": [
    {
     "name": "stdout",
     "output_type": "stream",
     "text": [
      "[*********************100%%**********************]  86 of 86 completed"
     ]
    },
    {
     "name": "stderr",
     "output_type": "stream",
     "text": [
      "\n",
      "1 Failed download:\n",
      "['MLPO']: Exception('%ticker%: No price data found, symbol may be delisted (1wk 2023-10-20 00:00:00 -> 2023-11-20)')\n"
     ]
    },
    {
     "name": "stdout",
     "output_type": "stream",
     "text": [
      "\n"
     ]
    }
   ],
   "source": [
    "end_ = date.today()  # yyyy-mm-dd\n",
    "if end_.day == 31:\n",
    "    start_ = datetime(end_.year, end_.month - 1, 30)\n",
    "else:\n",
    "    start_ = datetime(end_.year, end_.month - 1, end_.day)\n",
    "\n",
    "data = yf.download(energy, start=start_, end=end_, interval=\"1wk\")"
   ]
  },
  {
   "cell_type": "code",
   "execution_count": 9,
   "id": "21ebf894-d758-4fac-ba63-bb8ce94396ff",
   "metadata": {
    "tags": []
   },
   "outputs": [
    {
     "data": {
      "text/plain": [
       "datetime.date(2023, 11, 20)"
      ]
     },
     "execution_count": 9,
     "metadata": {},
     "output_type": "execute_result"
    }
   ],
   "source": [
    "date.today()"
   ]
  },
  {
   "cell_type": "code",
   "execution_count": 10,
   "id": "6a759fe7-3ec3-4529-8c55-0c0d707a4d41",
   "metadata": {
    "tags": []
   },
   "outputs": [
    {
     "data": {
      "text/plain": [
       "datetime.datetime(2023, 10, 20, 0, 0)"
      ]
     },
     "execution_count": 10,
     "metadata": {},
     "output_type": "execute_result"
    }
   ],
   "source": [
    "start_ "
   ]
  },
  {
   "cell_type": "code",
   "execution_count": 11,
   "id": "830c9210-3270-445a-9461-bf39a76693a1",
   "metadata": {
    "tags": []
   },
   "outputs": [
    {
     "data": {
      "text/html": [
       "<div>\n",
       "<style scoped>\n",
       "    .dataframe tbody tr th:only-of-type {\n",
       "        vertical-align: middle;\n",
       "    }\n",
       "\n",
       "    .dataframe tbody tr th {\n",
       "        vertical-align: top;\n",
       "    }\n",
       "\n",
       "    .dataframe thead tr th {\n",
       "        text-align: left;\n",
       "    }\n",
       "\n",
       "    .dataframe thead tr:last-of-type th {\n",
       "        text-align: right;\n",
       "    }\n",
       "</style>\n",
       "<table border=\"1\" class=\"dataframe\">\n",
       "  <thead>\n",
       "    <tr>\n",
       "      <th></th>\n",
       "      <th colspan=\"10\" halign=\"left\">Adj Close</th>\n",
       "      <th>...</th>\n",
       "      <th colspan=\"10\" halign=\"left\">Volume</th>\n",
       "    </tr>\n",
       "    <tr>\n",
       "      <th></th>\n",
       "      <th>AAPB</th>\n",
       "      <th>AAPD</th>\n",
       "      <th>AAPU</th>\n",
       "      <th>AIQ</th>\n",
       "      <th>ARKK</th>\n",
       "      <th>ARKW</th>\n",
       "      <th>ARMR</th>\n",
       "      <th>ARVR</th>\n",
       "      <th>BABX</th>\n",
       "      <th>BCDF</th>\n",
       "      <th>...</th>\n",
       "      <th>WUGI</th>\n",
       "      <th>XDAT</th>\n",
       "      <th>XITK</th>\n",
       "      <th>XLK</th>\n",
       "      <th>XNTK</th>\n",
       "      <th>XPND</th>\n",
       "      <th>XSD</th>\n",
       "      <th>XSW</th>\n",
       "      <th>XT</th>\n",
       "      <th>XWEB</th>\n",
       "    </tr>\n",
       "    <tr>\n",
       "      <th>Date</th>\n",
       "      <th></th>\n",
       "      <th></th>\n",
       "      <th></th>\n",
       "      <th></th>\n",
       "      <th></th>\n",
       "      <th></th>\n",
       "      <th></th>\n",
       "      <th></th>\n",
       "      <th></th>\n",
       "      <th></th>\n",
       "      <th></th>\n",
       "      <th></th>\n",
       "      <th></th>\n",
       "      <th></th>\n",
       "      <th></th>\n",
       "      <th></th>\n",
       "      <th></th>\n",
       "      <th></th>\n",
       "      <th></th>\n",
       "      <th></th>\n",
       "      <th></th>\n",
       "    </tr>\n",
       "  </thead>\n",
       "  <tbody>\n",
       "    <tr>\n",
       "      <th>2023-10-16</th>\n",
       "      <td>23.100000</td>\n",
       "      <td>22.540001</td>\n",
       "      <td>23.809999</td>\n",
       "      <td>26.280001</td>\n",
       "      <td>36.029999</td>\n",
       "      <td>51.970001</td>\n",
       "      <td>19.389000</td>\n",
       "      <td>28.809999</td>\n",
       "      <td>16.959999</td>\n",
       "      <td>20.768000</td>\n",
       "      <td>...</td>\n",
       "      <td>1100</td>\n",
       "      <td>200</td>\n",
       "      <td>1100</td>\n",
       "      <td>7667700</td>\n",
       "      <td>8400</td>\n",
       "      <td>2400</td>\n",
       "      <td>80000</td>\n",
       "      <td>9500</td>\n",
       "      <td>89000</td>\n",
       "      <td>200</td>\n",
       "    </tr>\n",
       "    <tr>\n",
       "      <th>2023-10-23</th>\n",
       "      <td>21.980000</td>\n",
       "      <td>23.190001</td>\n",
       "      <td>22.840000</td>\n",
       "      <td>25.670000</td>\n",
       "      <td>34.099998</td>\n",
       "      <td>50.040001</td>\n",
       "      <td>18.422001</td>\n",
       "      <td>28.261000</td>\n",
       "      <td>18.010000</td>\n",
       "      <td>20.698000</td>\n",
       "      <td>...</td>\n",
       "      <td>8500</td>\n",
       "      <td>3100</td>\n",
       "      <td>7500</td>\n",
       "      <td>39373500</td>\n",
       "      <td>34900</td>\n",
       "      <td>27900</td>\n",
       "      <td>347100</td>\n",
       "      <td>66900</td>\n",
       "      <td>489000</td>\n",
       "      <td>3500</td>\n",
       "    </tr>\n",
       "    <tr>\n",
       "      <th>2023-10-30</th>\n",
       "      <td>23.860001</td>\n",
       "      <td>22.080000</td>\n",
       "      <td>24.490000</td>\n",
       "      <td>27.610001</td>\n",
       "      <td>40.439999</td>\n",
       "      <td>58.119999</td>\n",
       "      <td>19.110001</td>\n",
       "      <td>30.624001</td>\n",
       "      <td>18.920000</td>\n",
       "      <td>21.575001</td>\n",
       "      <td>...</td>\n",
       "      <td>3400</td>\n",
       "      <td>1100</td>\n",
       "      <td>10800</td>\n",
       "      <td>38936600</td>\n",
       "      <td>71100</td>\n",
       "      <td>1000</td>\n",
       "      <td>327300</td>\n",
       "      <td>54500</td>\n",
       "      <td>490700</td>\n",
       "      <td>5700</td>\n",
       "    </tr>\n",
       "    <tr>\n",
       "      <th>2023-11-06</th>\n",
       "      <td>26.150000</td>\n",
       "      <td>20.920000</td>\n",
       "      <td>26.559999</td>\n",
       "      <td>28.250000</td>\n",
       "      <td>39.730000</td>\n",
       "      <td>58.900002</td>\n",
       "      <td>19.250000</td>\n",
       "      <td>31.469999</td>\n",
       "      <td>17.889999</td>\n",
       "      <td>21.739000</td>\n",
       "      <td>...</td>\n",
       "      <td>13600</td>\n",
       "      <td>5100</td>\n",
       "      <td>13700</td>\n",
       "      <td>31286200</td>\n",
       "      <td>59300</td>\n",
       "      <td>8400</td>\n",
       "      <td>225700</td>\n",
       "      <td>83600</td>\n",
       "      <td>677200</td>\n",
       "      <td>16800</td>\n",
       "    </tr>\n",
       "    <tr>\n",
       "      <th>2023-11-13</th>\n",
       "      <td>26.969999</td>\n",
       "      <td>20.590000</td>\n",
       "      <td>27.270000</td>\n",
       "      <td>29.250000</td>\n",
       "      <td>43.700001</td>\n",
       "      <td>62.270000</td>\n",
       "      <td>19.825001</td>\n",
       "      <td>32.518002</td>\n",
       "      <td>15.850000</td>\n",
       "      <td>22.221001</td>\n",
       "      <td>...</td>\n",
       "      <td>8000</td>\n",
       "      <td>2700</td>\n",
       "      <td>12900</td>\n",
       "      <td>33106300</td>\n",
       "      <td>84800</td>\n",
       "      <td>32600</td>\n",
       "      <td>251300</td>\n",
       "      <td>79500</td>\n",
       "      <td>594500</td>\n",
       "      <td>6700</td>\n",
       "    </tr>\n",
       "  </tbody>\n",
       "</table>\n",
       "<p>5 rows × 1008 columns</p>\n",
       "</div>"
      ],
      "text/plain": [
       "            Adj Close                                                         \\\n",
       "                 AAPB       AAPD       AAPU        AIQ       ARKK       ARKW   \n",
       "Date                                                                           \n",
       "2023-10-16  23.100000  22.540001  23.809999  26.280001  36.029999  51.970001   \n",
       "2023-10-23  21.980000  23.190001  22.840000  25.670000  34.099998  50.040001   \n",
       "2023-10-30  23.860001  22.080000  24.490000  27.610001  40.439999  58.119999   \n",
       "2023-11-06  26.150000  20.920000  26.559999  28.250000  39.730000  58.900002   \n",
       "2023-11-13  26.969999  20.590000  27.270000  29.250000  43.700001  62.270000   \n",
       "\n",
       "                                                        ... Volume        \\\n",
       "                 ARMR       ARVR       BABX       BCDF  ...   WUGI  XDAT   \n",
       "Date                                                    ...                \n",
       "2023-10-16  19.389000  28.809999  16.959999  20.768000  ...   1100   200   \n",
       "2023-10-23  18.422001  28.261000  18.010000  20.698000  ...   8500  3100   \n",
       "2023-10-30  19.110001  30.624001  18.920000  21.575001  ...   3400  1100   \n",
       "2023-11-06  19.250000  31.469999  17.889999  21.739000  ...  13600  5100   \n",
       "2023-11-13  19.825001  32.518002  15.850000  22.221001  ...   8000  2700   \n",
       "\n",
       "                                                                         \n",
       "             XITK       XLK   XNTK   XPND     XSD    XSW      XT   XWEB  \n",
       "Date                                                                     \n",
       "2023-10-16   1100   7667700   8400   2400   80000   9500   89000    200  \n",
       "2023-10-23   7500  39373500  34900  27900  347100  66900  489000   3500  \n",
       "2023-10-30  10800  38936600  71100   1000  327300  54500  490700   5700  \n",
       "2023-11-06  13700  31286200  59300   8400  225700  83600  677200  16800  \n",
       "2023-11-13  12900  33106300  84800  32600  251300  79500  594500   6700  \n",
       "\n",
       "[5 rows x 1008 columns]"
      ]
     },
     "execution_count": 11,
     "metadata": {},
     "output_type": "execute_result"
    }
   ],
   "source": [
    "data"
   ]
  },
  {
   "cell_type": "code",
   "execution_count": 12,
   "id": "e3e0cb37-2a6e-4632-bc03-16bc33594aed",
   "metadata": {
    "tags": []
   },
   "outputs": [],
   "source": [
    "if end_.day == 31:\n",
    "    start_ = datetime(end_.year, end_.month - 1, 30)"
   ]
  },
  {
   "cell_type": "code",
   "execution_count": 13,
   "id": "3671b993-0fb3-489c-a0af-715269d99093",
   "metadata": {
    "tags": []
   },
   "outputs": [
    {
     "data": {
      "text/html": [
       "<div>\n",
       "<style scoped>\n",
       "    .dataframe tbody tr th:only-of-type {\n",
       "        vertical-align: middle;\n",
       "    }\n",
       "\n",
       "    .dataframe tbody tr th {\n",
       "        vertical-align: top;\n",
       "    }\n",
       "\n",
       "    .dataframe thead th {\n",
       "        text-align: right;\n",
       "    }\n",
       "</style>\n",
       "<table border=\"1\" class=\"dataframe\">\n",
       "  <thead>\n",
       "    <tr style=\"text-align: right;\">\n",
       "      <th></th>\n",
       "      <th>AAPB</th>\n",
       "      <th>AAPD</th>\n",
       "      <th>AAPU</th>\n",
       "      <th>AIQ</th>\n",
       "      <th>ARKK</th>\n",
       "      <th>ARKW</th>\n",
       "      <th>ARMR</th>\n",
       "      <th>ARVR</th>\n",
       "      <th>BABX</th>\n",
       "      <th>BCDF</th>\n",
       "      <th>...</th>\n",
       "      <th>WUGI</th>\n",
       "      <th>XDAT</th>\n",
       "      <th>XITK</th>\n",
       "      <th>XLK</th>\n",
       "      <th>XNTK</th>\n",
       "      <th>XPND</th>\n",
       "      <th>XSD</th>\n",
       "      <th>XSW</th>\n",
       "      <th>XT</th>\n",
       "      <th>XWEB</th>\n",
       "    </tr>\n",
       "    <tr>\n",
       "      <th>Date</th>\n",
       "      <th></th>\n",
       "      <th></th>\n",
       "      <th></th>\n",
       "      <th></th>\n",
       "      <th></th>\n",
       "      <th></th>\n",
       "      <th></th>\n",
       "      <th></th>\n",
       "      <th></th>\n",
       "      <th></th>\n",
       "      <th></th>\n",
       "      <th></th>\n",
       "      <th></th>\n",
       "      <th></th>\n",
       "      <th></th>\n",
       "      <th></th>\n",
       "      <th></th>\n",
       "      <th></th>\n",
       "      <th></th>\n",
       "      <th></th>\n",
       "      <th></th>\n",
       "    </tr>\n",
       "  </thead>\n",
       "  <tbody>\n",
       "    <tr>\n",
       "      <th>2023-10-16</th>\n",
       "      <td>23.100000</td>\n",
       "      <td>22.540001</td>\n",
       "      <td>23.809999</td>\n",
       "      <td>26.280001</td>\n",
       "      <td>36.029999</td>\n",
       "      <td>51.970001</td>\n",
       "      <td>19.389000</td>\n",
       "      <td>28.809999</td>\n",
       "      <td>16.959999</td>\n",
       "      <td>20.768000</td>\n",
       "      <td>...</td>\n",
       "      <td>42.945999</td>\n",
       "      <td>17.752001</td>\n",
       "      <td>115.776001</td>\n",
       "      <td>163.940002</td>\n",
       "      <td>133.710007</td>\n",
       "      <td>20.410000</td>\n",
       "      <td>178.979996</td>\n",
       "      <td>120.790001</td>\n",
       "      <td>49.709999</td>\n",
       "      <td>69.672997</td>\n",
       "    </tr>\n",
       "    <tr>\n",
       "      <th>2023-10-23</th>\n",
       "      <td>21.980000</td>\n",
       "      <td>23.190001</td>\n",
       "      <td>22.840000</td>\n",
       "      <td>25.670000</td>\n",
       "      <td>34.099998</td>\n",
       "      <td>50.040001</td>\n",
       "      <td>18.422001</td>\n",
       "      <td>28.261000</td>\n",
       "      <td>18.010000</td>\n",
       "      <td>20.698000</td>\n",
       "      <td>...</td>\n",
       "      <td>42.036999</td>\n",
       "      <td>17.228001</td>\n",
       "      <td>110.949997</td>\n",
       "      <td>161.119995</td>\n",
       "      <td>130.729996</td>\n",
       "      <td>19.660000</td>\n",
       "      <td>171.229996</td>\n",
       "      <td>117.570000</td>\n",
       "      <td>48.209999</td>\n",
       "      <td>66.066002</td>\n",
       "    </tr>\n",
       "    <tr>\n",
       "      <th>2023-10-30</th>\n",
       "      <td>23.860001</td>\n",
       "      <td>22.080000</td>\n",
       "      <td>24.490000</td>\n",
       "      <td>27.610001</td>\n",
       "      <td>40.439999</td>\n",
       "      <td>58.119999</td>\n",
       "      <td>19.110001</td>\n",
       "      <td>30.624001</td>\n",
       "      <td>18.920000</td>\n",
       "      <td>21.575001</td>\n",
       "      <td>...</td>\n",
       "      <td>44.998001</td>\n",
       "      <td>18.313000</td>\n",
       "      <td>121.498001</td>\n",
       "      <td>171.759995</td>\n",
       "      <td>141.070007</td>\n",
       "      <td>21.006001</td>\n",
       "      <td>181.889999</td>\n",
       "      <td>125.949997</td>\n",
       "      <td>51.660000</td>\n",
       "      <td>72.445000</td>\n",
       "    </tr>\n",
       "    <tr>\n",
       "      <th>2023-11-06</th>\n",
       "      <td>26.150000</td>\n",
       "      <td>20.920000</td>\n",
       "      <td>26.559999</td>\n",
       "      <td>28.250000</td>\n",
       "      <td>39.730000</td>\n",
       "      <td>58.900002</td>\n",
       "      <td>19.250000</td>\n",
       "      <td>31.469999</td>\n",
       "      <td>17.889999</td>\n",
       "      <td>21.739000</td>\n",
       "      <td>...</td>\n",
       "      <td>46.860001</td>\n",
       "      <td>19.014000</td>\n",
       "      <td>123.260002</td>\n",
       "      <td>179.520004</td>\n",
       "      <td>146.649994</td>\n",
       "      <td>21.730000</td>\n",
       "      <td>185.100006</td>\n",
       "      <td>127.540001</td>\n",
       "      <td>51.900002</td>\n",
       "      <td>72.886002</td>\n",
       "    </tr>\n",
       "    <tr>\n",
       "      <th>2023-11-13</th>\n",
       "      <td>26.969999</td>\n",
       "      <td>20.590000</td>\n",
       "      <td>27.270000</td>\n",
       "      <td>29.250000</td>\n",
       "      <td>43.700001</td>\n",
       "      <td>62.270000</td>\n",
       "      <td>19.825001</td>\n",
       "      <td>32.518002</td>\n",
       "      <td>15.850000</td>\n",
       "      <td>22.221001</td>\n",
       "      <td>...</td>\n",
       "      <td>47.978001</td>\n",
       "      <td>19.709000</td>\n",
       "      <td>129.401001</td>\n",
       "      <td>182.800003</td>\n",
       "      <td>150.979996</td>\n",
       "      <td>22.110001</td>\n",
       "      <td>198.009995</td>\n",
       "      <td>132.669998</td>\n",
       "      <td>54.180000</td>\n",
       "      <td>77.403999</td>\n",
       "    </tr>\n",
       "  </tbody>\n",
       "</table>\n",
       "<p>5 rows × 168 columns</p>\n",
       "</div>"
      ],
      "text/plain": [
       "                 AAPB       AAPD       AAPU        AIQ       ARKK       ARKW  \\\n",
       "Date                                                                           \n",
       "2023-10-16  23.100000  22.540001  23.809999  26.280001  36.029999  51.970001   \n",
       "2023-10-23  21.980000  23.190001  22.840000  25.670000  34.099998  50.040001   \n",
       "2023-10-30  23.860001  22.080000  24.490000  27.610001  40.439999  58.119999   \n",
       "2023-11-06  26.150000  20.920000  26.559999  28.250000  39.730000  58.900002   \n",
       "2023-11-13  26.969999  20.590000  27.270000  29.250000  43.700001  62.270000   \n",
       "\n",
       "                 ARMR       ARVR       BABX       BCDF  ...       WUGI  \\\n",
       "Date                                                    ...              \n",
       "2023-10-16  19.389000  28.809999  16.959999  20.768000  ...  42.945999   \n",
       "2023-10-23  18.422001  28.261000  18.010000  20.698000  ...  42.036999   \n",
       "2023-10-30  19.110001  30.624001  18.920000  21.575001  ...  44.998001   \n",
       "2023-11-06  19.250000  31.469999  17.889999  21.739000  ...  46.860001   \n",
       "2023-11-13  19.825001  32.518002  15.850000  22.221001  ...  47.978001   \n",
       "\n",
       "                 XDAT        XITK         XLK        XNTK       XPND  \\\n",
       "Date                                                                   \n",
       "2023-10-16  17.752001  115.776001  163.940002  133.710007  20.410000   \n",
       "2023-10-23  17.228001  110.949997  161.119995  130.729996  19.660000   \n",
       "2023-10-30  18.313000  121.498001  171.759995  141.070007  21.006001   \n",
       "2023-11-06  19.014000  123.260002  179.520004  146.649994  21.730000   \n",
       "2023-11-13  19.709000  129.401001  182.800003  150.979996  22.110001   \n",
       "\n",
       "                   XSD         XSW         XT       XWEB  \n",
       "Date                                                      \n",
       "2023-10-16  178.979996  120.790001  49.709999  69.672997  \n",
       "2023-10-23  171.229996  117.570000  48.209999  66.066002  \n",
       "2023-10-30  181.889999  125.949997  51.660000  72.445000  \n",
       "2023-11-06  185.100006  127.540001  51.900002  72.886002  \n",
       "2023-11-13  198.009995  132.669998  54.180000  77.403999  \n",
       "\n",
       "[5 rows x 168 columns]"
      ]
     },
     "execution_count": 13,
     "metadata": {},
     "output_type": "execute_result"
    }
   ],
   "source": [
    "df = data.Close\n",
    "df"
   ]
  },
  {
   "cell_type": "markdown",
   "id": "ac33b718-10c8-4f8f-be18-ee1ae16d8a04",
   "metadata": {
    "tags": []
   },
   "source": [
    "---\n",
    "## Calcular retornos"
   ]
  },
  {
   "cell_type": "code",
   "execution_count": 14,
   "id": "4871c136-d357-4adf-a858-ab97619d9d16",
   "metadata": {
    "tags": []
   },
   "outputs": [
    {
     "data": {
      "text/html": [
       "<div>\n",
       "<style scoped>\n",
       "    .dataframe tbody tr th:only-of-type {\n",
       "        vertical-align: middle;\n",
       "    }\n",
       "\n",
       "    .dataframe tbody tr th {\n",
       "        vertical-align: top;\n",
       "    }\n",
       "\n",
       "    .dataframe thead th {\n",
       "        text-align: right;\n",
       "    }\n",
       "</style>\n",
       "<table border=\"1\" class=\"dataframe\">\n",
       "  <thead>\n",
       "    <tr style=\"text-align: right;\">\n",
       "      <th></th>\n",
       "      <th>AAPB</th>\n",
       "      <th>AAPD</th>\n",
       "      <th>AAPU</th>\n",
       "      <th>AIQ</th>\n",
       "      <th>ARKK</th>\n",
       "      <th>ARKW</th>\n",
       "      <th>ARMR</th>\n",
       "      <th>ARVR</th>\n",
       "      <th>BABX</th>\n",
       "      <th>BCDF</th>\n",
       "      <th>...</th>\n",
       "      <th>WUGI</th>\n",
       "      <th>XDAT</th>\n",
       "      <th>XITK</th>\n",
       "      <th>XLK</th>\n",
       "      <th>XNTK</th>\n",
       "      <th>XPND</th>\n",
       "      <th>XSD</th>\n",
       "      <th>XSW</th>\n",
       "      <th>XT</th>\n",
       "      <th>XWEB</th>\n",
       "    </tr>\n",
       "    <tr>\n",
       "      <th>Date</th>\n",
       "      <th></th>\n",
       "      <th></th>\n",
       "      <th></th>\n",
       "      <th></th>\n",
       "      <th></th>\n",
       "      <th></th>\n",
       "      <th></th>\n",
       "      <th></th>\n",
       "      <th></th>\n",
       "      <th></th>\n",
       "      <th></th>\n",
       "      <th></th>\n",
       "      <th></th>\n",
       "      <th></th>\n",
       "      <th></th>\n",
       "      <th></th>\n",
       "      <th></th>\n",
       "      <th></th>\n",
       "      <th></th>\n",
       "      <th></th>\n",
       "      <th></th>\n",
       "    </tr>\n",
       "  </thead>\n",
       "  <tbody>\n",
       "    <tr>\n",
       "      <th>2023-10-16</th>\n",
       "      <td>NaN</td>\n",
       "      <td>NaN</td>\n",
       "      <td>NaN</td>\n",
       "      <td>NaN</td>\n",
       "      <td>NaN</td>\n",
       "      <td>NaN</td>\n",
       "      <td>NaN</td>\n",
       "      <td>NaN</td>\n",
       "      <td>NaN</td>\n",
       "      <td>NaN</td>\n",
       "      <td>...</td>\n",
       "      <td>NaN</td>\n",
       "      <td>NaN</td>\n",
       "      <td>NaN</td>\n",
       "      <td>NaN</td>\n",
       "      <td>NaN</td>\n",
       "      <td>NaN</td>\n",
       "      <td>NaN</td>\n",
       "      <td>NaN</td>\n",
       "      <td>NaN</td>\n",
       "      <td>NaN</td>\n",
       "    </tr>\n",
       "    <tr>\n",
       "      <th>2023-10-23</th>\n",
       "      <td>-0.048485</td>\n",
       "      <td>0.028838</td>\n",
       "      <td>-0.040739</td>\n",
       "      <td>-0.023212</td>\n",
       "      <td>-0.053566</td>\n",
       "      <td>-0.037137</td>\n",
       "      <td>-0.049874</td>\n",
       "      <td>-0.019056</td>\n",
       "      <td>0.061910</td>\n",
       "      <td>-0.003371</td>\n",
       "      <td>...</td>\n",
       "      <td>-0.021166</td>\n",
       "      <td>-0.029518</td>\n",
       "      <td>-0.041684</td>\n",
       "      <td>-0.017201</td>\n",
       "      <td>-0.022287</td>\n",
       "      <td>-0.036747</td>\n",
       "      <td>-0.043301</td>\n",
       "      <td>-0.026658</td>\n",
       "      <td>-0.030175</td>\n",
       "      <td>-0.051770</td>\n",
       "    </tr>\n",
       "    <tr>\n",
       "      <th>2023-10-30</th>\n",
       "      <td>0.085532</td>\n",
       "      <td>-0.047865</td>\n",
       "      <td>0.072242</td>\n",
       "      <td>0.075575</td>\n",
       "      <td>0.185924</td>\n",
       "      <td>0.161471</td>\n",
       "      <td>0.037347</td>\n",
       "      <td>0.083613</td>\n",
       "      <td>0.050527</td>\n",
       "      <td>0.042371</td>\n",
       "      <td>...</td>\n",
       "      <td>0.070438</td>\n",
       "      <td>0.062979</td>\n",
       "      <td>0.095070</td>\n",
       "      <td>0.066038</td>\n",
       "      <td>0.079094</td>\n",
       "      <td>0.068464</td>\n",
       "      <td>0.062255</td>\n",
       "      <td>0.071277</td>\n",
       "      <td>0.071562</td>\n",
       "      <td>0.096555</td>\n",
       "    </tr>\n",
       "    <tr>\n",
       "      <th>2023-11-06</th>\n",
       "      <td>0.095976</td>\n",
       "      <td>-0.052536</td>\n",
       "      <td>0.084524</td>\n",
       "      <td>0.023180</td>\n",
       "      <td>-0.017557</td>\n",
       "      <td>0.013421</td>\n",
       "      <td>0.007326</td>\n",
       "      <td>0.027625</td>\n",
       "      <td>-0.054440</td>\n",
       "      <td>0.007601</td>\n",
       "      <td>...</td>\n",
       "      <td>0.041380</td>\n",
       "      <td>0.038279</td>\n",
       "      <td>0.014502</td>\n",
       "      <td>0.045179</td>\n",
       "      <td>0.039555</td>\n",
       "      <td>0.034466</td>\n",
       "      <td>0.017648</td>\n",
       "      <td>0.012624</td>\n",
       "      <td>0.004646</td>\n",
       "      <td>0.006087</td>\n",
       "    </tr>\n",
       "    <tr>\n",
       "      <th>2023-11-13</th>\n",
       "      <td>0.031358</td>\n",
       "      <td>-0.015774</td>\n",
       "      <td>0.026732</td>\n",
       "      <td>0.035398</td>\n",
       "      <td>0.099925</td>\n",
       "      <td>0.057216</td>\n",
       "      <td>0.029870</td>\n",
       "      <td>0.033302</td>\n",
       "      <td>-0.114030</td>\n",
       "      <td>0.022172</td>\n",
       "      <td>...</td>\n",
       "      <td>0.023858</td>\n",
       "      <td>0.036552</td>\n",
       "      <td>0.049822</td>\n",
       "      <td>0.018271</td>\n",
       "      <td>0.029526</td>\n",
       "      <td>0.017487</td>\n",
       "      <td>0.069746</td>\n",
       "      <td>0.040223</td>\n",
       "      <td>0.043931</td>\n",
       "      <td>0.061987</td>\n",
       "    </tr>\n",
       "  </tbody>\n",
       "</table>\n",
       "<p>5 rows × 168 columns</p>\n",
       "</div>"
      ],
      "text/plain": [
       "                AAPB      AAPD      AAPU       AIQ      ARKK      ARKW  \\\n",
       "Date                                                                     \n",
       "2023-10-16       NaN       NaN       NaN       NaN       NaN       NaN   \n",
       "2023-10-23 -0.048485  0.028838 -0.040739 -0.023212 -0.053566 -0.037137   \n",
       "2023-10-30  0.085532 -0.047865  0.072242  0.075575  0.185924  0.161471   \n",
       "2023-11-06  0.095976 -0.052536  0.084524  0.023180 -0.017557  0.013421   \n",
       "2023-11-13  0.031358 -0.015774  0.026732  0.035398  0.099925  0.057216   \n",
       "\n",
       "                ARMR      ARVR      BABX      BCDF  ...      WUGI      XDAT  \\\n",
       "Date                                                ...                       \n",
       "2023-10-16       NaN       NaN       NaN       NaN  ...       NaN       NaN   \n",
       "2023-10-23 -0.049874 -0.019056  0.061910 -0.003371  ... -0.021166 -0.029518   \n",
       "2023-10-30  0.037347  0.083613  0.050527  0.042371  ...  0.070438  0.062979   \n",
       "2023-11-06  0.007326  0.027625 -0.054440  0.007601  ...  0.041380  0.038279   \n",
       "2023-11-13  0.029870  0.033302 -0.114030  0.022172  ...  0.023858  0.036552   \n",
       "\n",
       "                XITK       XLK      XNTK      XPND       XSD       XSW  \\\n",
       "Date                                                                     \n",
       "2023-10-16       NaN       NaN       NaN       NaN       NaN       NaN   \n",
       "2023-10-23 -0.041684 -0.017201 -0.022287 -0.036747 -0.043301 -0.026658   \n",
       "2023-10-30  0.095070  0.066038  0.079094  0.068464  0.062255  0.071277   \n",
       "2023-11-06  0.014502  0.045179  0.039555  0.034466  0.017648  0.012624   \n",
       "2023-11-13  0.049822  0.018271  0.029526  0.017487  0.069746  0.040223   \n",
       "\n",
       "                  XT      XWEB  \n",
       "Date                            \n",
       "2023-10-16       NaN       NaN  \n",
       "2023-10-23 -0.030175 -0.051770  \n",
       "2023-10-30  0.071562  0.096555  \n",
       "2023-11-06  0.004646  0.006087  \n",
       "2023-11-13  0.043931  0.061987  \n",
       "\n",
       "[5 rows x 168 columns]"
      ]
     },
     "execution_count": 14,
     "metadata": {},
     "output_type": "execute_result"
    }
   ],
   "source": [
    "returns = df.pct_change()\n",
    "returns"
   ]
  },
  {
   "cell_type": "code",
   "execution_count": 15,
   "id": "b043c53e-61ae-4150-ae4e-0bd26408ef4c",
   "metadata": {
    "tags": []
   },
   "outputs": [],
   "source": [
    "def currentRow(df):\n",
    "    \"\"\"\n",
    "    Choice the last row the present. Besides Takes the max and min values\n",
    "    of this row.\n",
    "    Parameters\n",
    "    ----------\n",
    "    df: pandas DataFrame\n",
    "        Dataframea containing returns data.\n",
    "        \n",
    "    Returns\n",
    "    -------\n",
    "    last_row: pandas Series\n",
    "        Last returns.\n",
    "    val_max: int\n",
    "        Maximum value in last_row.\n",
    "    val_min: int\n",
    "        Minimum value in last_row.\n",
    "    \"\"\"\n",
    "    # sort last row values\n",
    "    last_row = df.iloc[-1].sort_values(ascending=False)\n",
    "    # max and min values\n",
    "    val_max = last_row .max()\n",
    "    val_min = last_row .min()\n",
    "    \n",
    "    return last_row, val_max, val_min"
   ]
  },
  {
   "cell_type": "code",
   "execution_count": 16,
   "id": "542a640f-d724-451b-ac13-2596b4c47e77",
   "metadata": {},
   "outputs": [],
   "source": [
    "last_row, val_max, val_min = currentRow(returns)"
   ]
  },
  {
   "cell_type": "code",
   "execution_count": 17,
   "id": "363df11d-19b2-4f3a-af68-5c593a76d7fc",
   "metadata": {
    "tags": []
   },
   "outputs": [
    {
     "data": {
      "text/plain": [
       "TARK    0.203039\n",
       "SOXL    0.122815\n",
       "UBOT    0.105463\n",
       "JFWD    0.103956\n",
       "ARKK    0.099925\n",
       "          ...   \n",
       "WEBS   -0.091920\n",
       "SARK   -0.094199\n",
       "BERZ   -0.095588\n",
       "BABX   -0.114030\n",
       "SOXS   -0.121721\n",
       "Name: 2023-11-13 00:00:00, Length: 168, dtype: float64"
      ]
     },
     "execution_count": 17,
     "metadata": {},
     "output_type": "execute_result"
    }
   ],
   "source": [
    "last_row"
   ]
  },
  {
   "cell_type": "code",
   "execution_count": 18,
   "id": "8cc89866-a890-409c-8381-f6b468822a66",
   "metadata": {
    "tags": []
   },
   "outputs": [
    {
     "data": {
      "text/plain": [
       "(0.20303918655176023, -0.12172086882634714)"
      ]
     },
     "execution_count": 18,
     "metadata": {},
     "output_type": "execute_result"
    }
   ],
   "source": [
    "val_max, val_min"
   ]
  },
  {
   "cell_type": "markdown",
   "id": "4294b3ca-45db-448b-9d80-e8f2e659dece",
   "metadata": {
    "tags": []
   },
   "source": [
    "---\n",
    "## Selection\n",
    "we need to take the 10 best and 10 worst tickers for sector"
   ]
  },
  {
   "cell_type": "code",
   "execution_count": 37,
   "id": "d5d10b07-5b63-4764-86fe-94d665cfe772",
   "metadata": {
    "tags": []
   },
   "outputs": [],
   "source": [
    "def selection(serie, n=10, m_round=2):\n",
    "    \"\"\"\n",
    "    if n>= len(serie) an n*2 serie lenght is return. Otherwise the same\n",
    "    series is return.\n",
    "    \n",
    "    Parameters\n",
    "    ----------\n",
    "    serie: pandas Series\n",
    "        Returns.\n",
    "    n: int\n",
    "        Amount of best and worst datra selected (each one).\n",
    "        Default 10.\n",
    "    m_round_: int\n",
    "          Digits to Round.\n",
    "    \n",
    "    Returns\n",
    "    -------\n",
    "    selected: pandas Series\n",
    "        Series containing best and worst returns.\n",
    "    \"\"\"\n",
    " \n",
    "    if len(serie) >= n :         # how many values to select\n",
    "        best = serie.iloc[:n]\n",
    "        worst = serie.iloc[-n:]\n",
    "        selected = pd.concat([best, worst], axis=0)\n",
    "        selected = (selected * 100).round(m_round)       # porcentual change\n",
    "    else:\n",
    "        selected = serie\n",
    "        selected = (selected * 100).round(m_round)       # porcentual change\n",
    "        \n",
    "    return selected"
   ]
  },
  {
   "cell_type": "code",
   "execution_count": 20,
   "id": "fac97fa4-18dd-4885-bbbd-816fe061af1c",
   "metadata": {
    "tags": []
   },
   "outputs": [],
   "source": [
    "selection_ = selection(last_row)"
   ]
  },
  {
   "cell_type": "code",
   "execution_count": 21,
   "id": "3c82c271-fc5d-4c27-8ffb-e9e287c5c058",
   "metadata": {
    "tags": []
   },
   "outputs": [
    {
     "data": {
      "text/plain": [
       "TARK    20.30\n",
       "SOXL    12.28\n",
       "UBOT    10.55\n",
       "JFWD    10.40\n",
       "ARKK     9.99\n",
       "BULZ     9.89\n",
       "CONL     9.77\n",
       "WEBL     9.00\n",
       "MEME     7.92\n",
       "XSD      6.97\n",
       "WGMI    -2.72\n",
       "REW     -3.82\n",
       "TECS    -5.46\n",
       "SSG     -6.19\n",
       "FNGD    -6.78\n",
       "WEBS    -9.19\n",
       "SARK    -9.42\n",
       "BERZ    -9.56\n",
       "BABX   -11.40\n",
       "SOXS   -12.17\n",
       "Name: 2023-11-13 00:00:00, dtype: float64"
      ]
     },
     "execution_count": 21,
     "metadata": {},
     "output_type": "execute_result"
    }
   ],
   "source": [
    "selection_"
   ]
  },
  {
   "cell_type": "markdown",
   "id": "fa276342-705b-482a-803b-24e33876c352",
   "metadata": {
    "tags": []
   },
   "source": [
    "---\n",
    "## Heatmap Returns Plot"
   ]
  },
  {
   "cell_type": "code",
   "execution_count": 22,
   "id": "e0f76181-1705-4ca6-b3a3-d272da839900",
   "metadata": {},
   "outputs": [],
   "source": [
    "def matrix_to_plot(serie):\n",
    "    \"\"\"\n",
    "    Parameters\n",
    "    ----------\n",
    "    serie: pandas Series\n",
    "        Series containing best and worst returns.\n",
    "        \n",
    "    Returns\n",
    "    -------\n",
    "    new_names: numpy.ndarray\n",
    "        Names to plot.\n",
    "    new_array: numpy.ndarray\n",
    "        Values to plot.\n",
    "    \"\"\"\n",
    "    length = len(serie)\n",
    "    # the idea is to shape an a X b matrix\n",
    "    a = int(np.sqrt(length))\n",
    "    b = int(np.ceil(length/a))\n",
    "    m_length = a * b                # matrix \"length\"\n",
    "\n",
    "    if m_length >= length:\n",
    "        # compute how many elements need to be add to the array\n",
    "        diff = abs(length - m_length)\n",
    "        \n",
    "        # creatre a diff lenght array \n",
    "        add =np.full(diff, np.nan)\n",
    "        new_array = np.append(serie, add)\n",
    "        new_array = new_array.reshape(a, b)\n",
    "\n",
    "        # add names to the plot\n",
    "        names = serie.index.to_list()\n",
    "        add_names =np.full(diff, '---')\n",
    "        new_names = np.append(names, add_names)\n",
    "        new_names = new_names.reshape(a, b)\n",
    "        \n",
    "    return new_names, new_array"
   ]
  },
  {
   "cell_type": "code",
   "execution_count": 23,
   "id": "7b150f6a-63ad-4afc-9bf8-68c4b6369ab5",
   "metadata": {
    "tags": []
   },
   "outputs": [],
   "source": [
    "new_names, new_array = matrix_to_plot(selection_)"
   ]
  },
  {
   "cell_type": "code",
   "execution_count": 24,
   "id": "8d6acad2-d459-41f8-92e7-ec2ddf2bafcf",
   "metadata": {
    "tags": []
   },
   "outputs": [
    {
     "data": {
      "text/plain": [
       "array([['TARK', 'SOXL', 'UBOT', 'JFWD', 'ARKK'],\n",
       "       ['BULZ', 'CONL', 'WEBL', 'MEME', 'XSD'],\n",
       "       ['WGMI', 'REW', 'TECS', 'SSG', 'FNGD'],\n",
       "       ['WEBS', 'SARK', 'BERZ', 'BABX', 'SOXS']], dtype='<U4')"
      ]
     },
     "execution_count": 24,
     "metadata": {},
     "output_type": "execute_result"
    }
   ],
   "source": [
    "new_names"
   ]
  },
  {
   "cell_type": "code",
   "execution_count": 25,
   "id": "f47f6a60-a428-445a-ace8-80788fb1ace0",
   "metadata": {
    "tags": []
   },
   "outputs": [
    {
     "data": {
      "text/plain": [
       "array([[ 20.3 ,  12.28,  10.55,  10.4 ,   9.99],\n",
       "       [  9.89,   9.77,   9.  ,   7.92,   6.97],\n",
       "       [ -2.72,  -3.82,  -5.46,  -6.19,  -6.78],\n",
       "       [ -9.19,  -9.42,  -9.56, -11.4 , -12.17]])"
      ]
     },
     "execution_count": 25,
     "metadata": {},
     "output_type": "execute_result"
    }
   ],
   "source": [
    "new_array"
   ]
  },
  {
   "cell_type": "code",
   "execution_count": 27,
   "id": "fe226576-3be4-4c67-b069-05eaa50cb48a",
   "metadata": {
    "tags": []
   },
   "outputs": [],
   "source": [
    "def heatmap(values, labels, max_, min_, sector):\n",
    "    \"\"\"\n",
    "    Create a heatmap from a numpy array and two lists of labels\n",
    "    \n",
    "    Parameters\n",
    "    ----------\n",
    "    values: numpy.ndarray\n",
    "        Values to plot.\n",
    "    labels: numpy.ndarray\n",
    "        Names to plot.\n",
    "    max_: int\n",
    "        Max return value.\n",
    "    min_: int\n",
    "        Min return value.\n",
    "    sector: string\n",
    "        Sector name.\n",
    "    \n",
    "    \"\"\"\n",
    "    cmap_=LinearSegmentedColormap.from_list('rg',[\"r\", \"w\", \"g\"], N=256) \n",
    "\n",
    "    # \"RdYlGn\"\n",
    "    fig, ax = plt.subplots()\n",
    "\n",
    "    # Especificamos paleta de colores a usar y rango de valores a representar.\n",
    "    ax.imshow(values, cmap=cmap_, vmin=min_*100, vmax=max_*100)\n",
    "    # borrar axis labels\n",
    "    ax.set_yticklabels([])\n",
    "    ax.set_xticklabels([])\n",
    "\n",
    "    # Reducimos la longitud de las marcas a 0 para que no sean visibles\n",
    "    ax.tick_params(axis=u'both', which=u'both', length=0)\n",
    "    for lado in ['left', 'right', 'bottom', 'top']:\n",
    "        ax.spines[lado].set_visible(False)\n",
    "\n",
    "    # # Indicamos las posiciones donde dibujaremos la rejilla  \n",
    "    xmin, xmax = ax.get_xlim()\n",
    "    ymin, ymax = ax.get_ylim()\n",
    "\n",
    "    ax.set_xticks(np.arange(xmin, xmax+1), minor=True)\n",
    "    ax.set_yticks(np.arange(ymax, ymin+1), minor=True)\n",
    "\n",
    "    # Dibujamos la rejilla de color blanco para que actue como separador.\n",
    "    ax.grid(which='minor', color='w', linestyle='-', linewidth=2)\n",
    "    # ax.tick_params(which=\"minor\", bottom=False, left=False)\n",
    "\n",
    "    for i in range(values.shape[0]):\n",
    "        for j in range(values.shape[1]):\n",
    "            # print(i, j, values[i,j])\n",
    "            text = ax.text(j, i, str(labels[i, j]) + '\\n' + str(values[i, j])+'%',\n",
    "                           ha=\"center\", va=\"center\", color=\"k\", size=6)\n",
    "\n",
    "    ax.set_title(f\"{sector}\\n\")\n",
    "\n",
    "    plt.savefig(f\"{sector}.png\")\n",
    "    plt.show()"
   ]
  },
  {
   "cell_type": "code",
   "execution_count": 28,
   "id": "c503354c-a8e1-4d83-ab8d-a2954b733dcf",
   "metadata": {
    "tags": []
   },
   "outputs": [
    {
     "data": {
      "image/png": "[encoded data removed]",
      "text/plain": [
       "<Figure size 640x480 with 1 Axes>"
      ]
     },
     "metadata": {},
     "output_type": "display_data"
    }
   ],
   "source": [
    "heatmap(values=new_array, labels=new_names, max_=val_max, min_=val_min, sector=sector)"
   ]
  },
  {
   "cell_type": "markdown",
   "id": "90680d9d-f0fb-4e11-addd-0fe4bdb0b25d",
   "metadata": {
    "tags": []
   },
   "source": [
    "---\n",
    "# 2. Valuable Sector"
   ]
  },
  {
   "cell_type": "code",
   "execution_count": 121,
   "id": "05807def-49dd-4a97-8f6f-e1b7064a4c15",
   "metadata": {
    "tags": []
   },
   "outputs": [],
   "source": [
    "ETF_sectors = {\n",
    "    \"XLB\": \"Materials\",\n",
    "    \"XLC\": \"Telecom\",\n",
    "    \"XLE\": \"Energy\",\n",
    "    \"XLF\": \"Finantials\",\n",
    "    \"XLI\": \"Industrials\",\n",
    "    \"XLK\": \"Technology\",\n",
    "    \"XLRE\": \"Real Estate\",\n",
    "    \"XLP\": \"Consumer Staples\",\n",
    "    \"XLU\": \"Utilities\",\n",
    "    \"XLV\": \"Healthcare\",\n",
    "    \"XLY\": \"Consumer Discretionary\",\n",
    "    \"MDY\": \"mid-sized companies\",\n",
    "    \"SLY\": \"Small Cap ETF\",\n",
    "    \"TLT\": \"20+ Year Treasury Bond\",\n",
    "    \"VEA\": \"Developed Markets Index\",\n",
    "    \"VWO\": \"Emerging Markets Index\",\n",
    "    \"SPY\": \"S&P 500\"\n",
    "}"
   ]
  },
  {
   "cell_type": "markdown",
   "id": "7483b0ee-5740-4020-8cc3-6cd0e54f317e",
   "metadata": {
    "tags": []
   },
   "source": [
    "## download data"
   ]
  },
  {
   "cell_type": "code",
   "execution_count": 122,
   "id": "a4036d11-4024-4be5-9c9a-6d69d91df6a3",
   "metadata": {
    "tags": []
   },
   "outputs": [
    {
     "name": "stdout",
     "output_type": "stream",
     "text": [
      "[*********************100%%**********************]  17 of 17 completed"
     ]
    },
    {
     "name": "stderr",
     "output_type": "stream",
     "text": [
      "\n",
      "1 Failed download:\n"
     ]
    },
    {
     "name": "stdout",
     "output_type": "stream",
     "text": [
      "\n"
     ]
    },
    {
     "name": "stderr",
     "output_type": "stream",
     "text": [
      "['SLY']: Exception('%ticker%: No price data found, symbol may be delisted (1wk 2023-10-20 00:00:00 -> 2023-11-20)')\n"
     ]
    }
   ],
   "source": [
    "tickers = [i for i in ETF_sectors.keys()]\n",
    "\n",
    "end_ = date.today()  # yyyy-mm-dd\n",
    "if end_.day == 31:\n",
    "    start_ = datetime(end_.year, end_.month - 1, 30)\n",
    "else:\n",
    "    start_ = datetime(end_.year, end_.month - 1, end_.day)\n",
    "\n",
    "sectorsETF = yf.download(tickers, start=start_, end=end_, interval=\"1wk\")"
   ]
  },
  {
   "cell_type": "code",
   "execution_count": 123,
   "id": "fd424f4a-227e-45dd-a362-b2d6faaece76",
   "metadata": {
    "tags": []
   },
   "outputs": [
    {
     "data": {
      "text/html": [
       "<div>\n",
       "<style scoped>\n",
       "    .dataframe tbody tr th:only-of-type {\n",
       "        vertical-align: middle;\n",
       "    }\n",
       "\n",
       "    .dataframe tbody tr th {\n",
       "        vertical-align: top;\n",
       "    }\n",
       "\n",
       "    .dataframe thead th {\n",
       "        text-align: right;\n",
       "    }\n",
       "</style>\n",
       "<table border=\"1\" class=\"dataframe\">\n",
       "  <thead>\n",
       "    <tr style=\"text-align: right;\">\n",
       "      <th></th>\n",
       "      <th>MDY</th>\n",
       "      <th>SLY</th>\n",
       "      <th>SPY</th>\n",
       "      <th>TLT</th>\n",
       "      <th>VEA</th>\n",
       "      <th>VWO</th>\n",
       "      <th>XLB</th>\n",
       "      <th>XLC</th>\n",
       "      <th>XLE</th>\n",
       "      <th>XLF</th>\n",
       "      <th>XLI</th>\n",
       "      <th>XLK</th>\n",
       "      <th>XLP</th>\n",
       "      <th>XLRE</th>\n",
       "      <th>XLU</th>\n",
       "      <th>XLV</th>\n",
       "      <th>XLY</th>\n",
       "    </tr>\n",
       "    <tr>\n",
       "      <th>Date</th>\n",
       "      <th></th>\n",
       "      <th></th>\n",
       "      <th></th>\n",
       "      <th></th>\n",
       "      <th></th>\n",
       "      <th></th>\n",
       "      <th></th>\n",
       "      <th></th>\n",
       "      <th></th>\n",
       "      <th></th>\n",
       "      <th></th>\n",
       "      <th></th>\n",
       "      <th></th>\n",
       "      <th></th>\n",
       "      <th></th>\n",
       "      <th></th>\n",
       "      <th></th>\n",
       "    </tr>\n",
       "  </thead>\n",
       "  <tbody>\n",
       "    <tr>\n",
       "      <th>2023-10-16 00:00:00</th>\n",
       "      <td>437.160004</td>\n",
       "      <td>NaN</td>\n",
       "      <td>421.190002</td>\n",
       "      <td>83.239998</td>\n",
       "      <td>42.160000</td>\n",
       "      <td>37.900002</td>\n",
       "      <td>75.300003</td>\n",
       "      <td>66.519997</td>\n",
       "      <td>90.260002</td>\n",
       "      <td>32.200001</td>\n",
       "      <td>98.699997</td>\n",
       "      <td>163.940002</td>\n",
       "      <td>67.269997</td>\n",
       "      <td>32.750000</td>\n",
       "      <td>58.029999</td>\n",
       "      <td>128.059998</td>\n",
       "      <td>151.690002</td>\n",
       "    </tr>\n",
       "    <tr>\n",
       "      <th>2023-10-23 00:00:00</th>\n",
       "      <td>425.079987</td>\n",
       "      <td>NaN</td>\n",
       "      <td>410.679993</td>\n",
       "      <td>84.370003</td>\n",
       "      <td>41.580002</td>\n",
       "      <td>37.779999</td>\n",
       "      <td>74.949997</td>\n",
       "      <td>63.090000</td>\n",
       "      <td>84.629997</td>\n",
       "      <td>31.450001</td>\n",
       "      <td>96.440002</td>\n",
       "      <td>161.119995</td>\n",
       "      <td>66.580002</td>\n",
       "      <td>32.349998</td>\n",
       "      <td>58.730000</td>\n",
       "      <td>123.139999</td>\n",
       "      <td>149.589996</td>\n",
       "    </tr>\n",
       "    <tr>\n",
       "      <th>2023-10-30 00:00:00</th>\n",
       "      <td>453.010010</td>\n",
       "      <td>NaN</td>\n",
       "      <td>434.690002</td>\n",
       "      <td>87.629997</td>\n",
       "      <td>44.189999</td>\n",
       "      <td>39.509998</td>\n",
       "      <td>78.790001</td>\n",
       "      <td>67.559998</td>\n",
       "      <td>86.680000</td>\n",
       "      <td>33.779999</td>\n",
       "      <td>101.599998</td>\n",
       "      <td>171.759995</td>\n",
       "      <td>68.750000</td>\n",
       "      <td>35.110001</td>\n",
       "      <td>61.860001</td>\n",
       "      <td>127.410004</td>\n",
       "      <td>160.220001</td>\n",
       "    </tr>\n",
       "    <tr>\n",
       "      <th>2023-11-06 00:00:00</th>\n",
       "      <td>445.959991</td>\n",
       "      <td>NaN</td>\n",
       "      <td>440.609985</td>\n",
       "      <td>87.989998</td>\n",
       "      <td>43.830002</td>\n",
       "      <td>39.380001</td>\n",
       "      <td>77.360001</td>\n",
       "      <td>68.470001</td>\n",
       "      <td>83.410004</td>\n",
       "      <td>33.910000</td>\n",
       "      <td>102.550003</td>\n",
       "      <td>179.520004</td>\n",
       "      <td>68.959999</td>\n",
       "      <td>34.389999</td>\n",
       "      <td>60.320000</td>\n",
       "      <td>126.269997</td>\n",
       "      <td>161.399994</td>\n",
       "    </tr>\n",
       "    <tr>\n",
       "      <th>2023-11-13 00:00:00</th>\n",
       "      <td>463.730011</td>\n",
       "      <td>NaN</td>\n",
       "      <td>450.790009</td>\n",
       "      <td>90.040001</td>\n",
       "      <td>45.500000</td>\n",
       "      <td>40.389999</td>\n",
       "      <td>80.269997</td>\n",
       "      <td>70.070000</td>\n",
       "      <td>84.690002</td>\n",
       "      <td>35.009998</td>\n",
       "      <td>105.610001</td>\n",
       "      <td>182.800003</td>\n",
       "      <td>69.489998</td>\n",
       "      <td>35.970001</td>\n",
       "      <td>62.290001</td>\n",
       "      <td>128.250000</td>\n",
       "      <td>167.139999</td>\n",
       "    </tr>\n",
       "  </tbody>\n",
       "</table>\n",
       "</div>"
      ],
      "text/plain": [
       "                            MDY  SLY         SPY        TLT        VEA  \\\n",
       "Date                                                                     \n",
       "2023-10-16 00:00:00  437.160004  NaN  421.190002  83.239998  42.160000   \n",
       "2023-10-23 00:00:00  425.079987  NaN  410.679993  84.370003  41.580002   \n",
       "2023-10-30 00:00:00  453.010010  NaN  434.690002  87.629997  44.189999   \n",
       "2023-11-06 00:00:00  445.959991  NaN  440.609985  87.989998  43.830002   \n",
       "2023-11-13 00:00:00  463.730011  NaN  450.790009  90.040001  45.500000   \n",
       "\n",
       "                           VWO        XLB        XLC        XLE        XLF  \\\n",
       "Date                                                                         \n",
       "2023-10-16 00:00:00  37.900002  75.300003  66.519997  90.260002  32.200001   \n",
       "2023-10-23 00:00:00  37.779999  74.949997  63.090000  84.629997  31.450001   \n",
       "2023-10-30 00:00:00  39.509998  78.790001  67.559998  86.680000  33.779999   \n",
       "2023-11-06 00:00:00  39.380001  77.360001  68.470001  83.410004  33.910000   \n",
       "2023-11-13 00:00:00  40.389999  80.269997  70.070000  84.690002  35.009998   \n",
       "\n",
       "                            XLI         XLK        XLP       XLRE        XLU  \\\n",
       "Date                                                                           \n",
       "2023-10-16 00:00:00   98.699997  163.940002  67.269997  32.750000  58.029999   \n",
       "2023-10-23 00:00:00   96.440002  161.119995  66.580002  32.349998  58.730000   \n",
       "2023-10-30 00:00:00  101.599998  171.759995  68.750000  35.110001  61.860001   \n",
       "2023-11-06 00:00:00  102.550003  179.520004  68.959999  34.389999  60.320000   \n",
       "2023-11-13 00:00:00  105.610001  182.800003  69.489998  35.970001  62.290001   \n",
       "\n",
       "                            XLV         XLY  \n",
       "Date                                         \n",
       "2023-10-16 00:00:00  128.059998  151.690002  \n",
       "2023-10-23 00:00:00  123.139999  149.589996  \n",
       "2023-10-30 00:00:00  127.410004  160.220001  \n",
       "2023-11-06 00:00:00  126.269997  161.399994  \n",
       "2023-11-13 00:00:00  128.250000  167.139999  "
      ]
     },
     "execution_count": 123,
     "metadata": {},
     "output_type": "execute_result"
    }
   ],
   "source": [
    "sectors_df = sectorsETF.Close\n",
    "sectors_df"
   ]
  },
  {
   "cell_type": "markdown",
   "id": "d955e93b-0061-461d-bef7-706b490c3c8b",
   "metadata": {
    "tags": []
   },
   "source": [
    "## Compute returns"
   ]
  },
  {
   "cell_type": "code",
   "execution_count": 124,
   "id": "26e54750-a20d-4825-95cf-6a049e1188f4",
   "metadata": {
    "tags": []
   },
   "outputs": [],
   "source": [
    "sector_returns = sectors_df.pct_change()"
   ]
  },
  {
   "cell_type": "code",
   "execution_count": 125,
   "id": "f95cfc07-1832-4fbb-8e62-f9a77ae04feb",
   "metadata": {
    "tags": []
   },
   "outputs": [
    {
     "data": {
      "text/html": [
       "<div>\n",
       "<style scoped>\n",
       "    .dataframe tbody tr th:only-of-type {\n",
       "        vertical-align: middle;\n",
       "    }\n",
       "\n",
       "    .dataframe tbody tr th {\n",
       "        vertical-align: top;\n",
       "    }\n",
       "\n",
       "    .dataframe thead th {\n",
       "        text-align: right;\n",
       "    }\n",
       "</style>\n",
       "<table border=\"1\" class=\"dataframe\">\n",
       "  <thead>\n",
       "    <tr style=\"text-align: right;\">\n",
       "      <th></th>\n",
       "      <th>MDY</th>\n",
       "      <th>SLY</th>\n",
       "      <th>SPY</th>\n",
       "      <th>TLT</th>\n",
       "      <th>VEA</th>\n",
       "      <th>VWO</th>\n",
       "      <th>XLB</th>\n",
       "      <th>XLC</th>\n",
       "      <th>XLE</th>\n",
       "      <th>XLF</th>\n",
       "      <th>XLI</th>\n",
       "      <th>XLK</th>\n",
       "      <th>XLP</th>\n",
       "      <th>XLRE</th>\n",
       "      <th>XLU</th>\n",
       "      <th>XLV</th>\n",
       "      <th>XLY</th>\n",
       "    </tr>\n",
       "    <tr>\n",
       "      <th>Date</th>\n",
       "      <th></th>\n",
       "      <th></th>\n",
       "      <th></th>\n",
       "      <th></th>\n",
       "      <th></th>\n",
       "      <th></th>\n",
       "      <th></th>\n",
       "      <th></th>\n",
       "      <th></th>\n",
       "      <th></th>\n",
       "      <th></th>\n",
       "      <th></th>\n",
       "      <th></th>\n",
       "      <th></th>\n",
       "      <th></th>\n",
       "      <th></th>\n",
       "      <th></th>\n",
       "    </tr>\n",
       "  </thead>\n",
       "  <tbody>\n",
       "    <tr>\n",
       "      <th>2023-10-16 00:00:00</th>\n",
       "      <td>NaN</td>\n",
       "      <td>NaN</td>\n",
       "      <td>NaN</td>\n",
       "      <td>NaN</td>\n",
       "      <td>NaN</td>\n",
       "      <td>NaN</td>\n",
       "      <td>NaN</td>\n",
       "      <td>NaN</td>\n",
       "      <td>NaN</td>\n",
       "      <td>NaN</td>\n",
       "      <td>NaN</td>\n",
       "      <td>NaN</td>\n",
       "      <td>NaN</td>\n",
       "      <td>NaN</td>\n",
       "      <td>NaN</td>\n",
       "      <td>NaN</td>\n",
       "      <td>NaN</td>\n",
       "    </tr>\n",
       "    <tr>\n",
       "      <th>2023-10-23 00:00:00</th>\n",
       "      <td>-0.027633</td>\n",
       "      <td>NaN</td>\n",
       "      <td>-0.024953</td>\n",
       "      <td>0.013575</td>\n",
       "      <td>-0.013757</td>\n",
       "      <td>-0.003166</td>\n",
       "      <td>-0.004648</td>\n",
       "      <td>-0.051563</td>\n",
       "      <td>-0.062375</td>\n",
       "      <td>-0.023292</td>\n",
       "      <td>-0.022898</td>\n",
       "      <td>-0.017201</td>\n",
       "      <td>-0.010257</td>\n",
       "      <td>-0.012214</td>\n",
       "      <td>0.012063</td>\n",
       "      <td>-0.038419</td>\n",
       "      <td>-0.013844</td>\n",
       "    </tr>\n",
       "    <tr>\n",
       "      <th>2023-10-30 00:00:00</th>\n",
       "      <td>0.065705</td>\n",
       "      <td>NaN</td>\n",
       "      <td>0.058464</td>\n",
       "      <td>0.038639</td>\n",
       "      <td>0.062770</td>\n",
       "      <td>0.045791</td>\n",
       "      <td>0.051234</td>\n",
       "      <td>0.070851</td>\n",
       "      <td>0.024223</td>\n",
       "      <td>0.074086</td>\n",
       "      <td>0.053505</td>\n",
       "      <td>0.066038</td>\n",
       "      <td>0.032592</td>\n",
       "      <td>0.085317</td>\n",
       "      <td>0.053295</td>\n",
       "      <td>0.034676</td>\n",
       "      <td>0.071061</td>\n",
       "    </tr>\n",
       "    <tr>\n",
       "      <th>2023-11-06 00:00:00</th>\n",
       "      <td>-0.015563</td>\n",
       "      <td>NaN</td>\n",
       "      <td>0.013619</td>\n",
       "      <td>0.004108</td>\n",
       "      <td>-0.008147</td>\n",
       "      <td>-0.003290</td>\n",
       "      <td>-0.018150</td>\n",
       "      <td>0.013470</td>\n",
       "      <td>-0.037725</td>\n",
       "      <td>0.003848</td>\n",
       "      <td>0.009350</td>\n",
       "      <td>0.045179</td>\n",
       "      <td>0.003055</td>\n",
       "      <td>-0.020507</td>\n",
       "      <td>-0.024895</td>\n",
       "      <td>-0.008948</td>\n",
       "      <td>0.007365</td>\n",
       "    </tr>\n",
       "    <tr>\n",
       "      <th>2023-11-13 00:00:00</th>\n",
       "      <td>0.039847</td>\n",
       "      <td>NaN</td>\n",
       "      <td>0.023104</td>\n",
       "      <td>0.023298</td>\n",
       "      <td>0.038102</td>\n",
       "      <td>0.025647</td>\n",
       "      <td>0.037616</td>\n",
       "      <td>0.023368</td>\n",
       "      <td>0.015346</td>\n",
       "      <td>0.032439</td>\n",
       "      <td>0.029839</td>\n",
       "      <td>0.018271</td>\n",
       "      <td>0.007686</td>\n",
       "      <td>0.045944</td>\n",
       "      <td>0.032659</td>\n",
       "      <td>0.015681</td>\n",
       "      <td>0.035564</td>\n",
       "    </tr>\n",
       "  </tbody>\n",
       "</table>\n",
       "</div>"
      ],
      "text/plain": [
       "                          MDY  SLY       SPY       TLT       VEA       VWO  \\\n",
       "Date                                                                         \n",
       "2023-10-16 00:00:00       NaN  NaN       NaN       NaN       NaN       NaN   \n",
       "2023-10-23 00:00:00 -0.027633  NaN -0.024953  0.013575 -0.013757 -0.003166   \n",
       "2023-10-30 00:00:00  0.065705  NaN  0.058464  0.038639  0.062770  0.045791   \n",
       "2023-11-06 00:00:00 -0.015563  NaN  0.013619  0.004108 -0.008147 -0.003290   \n",
       "2023-11-13 00:00:00  0.039847  NaN  0.023104  0.023298  0.038102  0.025647   \n",
       "\n",
       "                          XLB       XLC       XLE       XLF       XLI  \\\n",
       "Date                                                                    \n",
       "2023-10-16 00:00:00       NaN       NaN       NaN       NaN       NaN   \n",
       "2023-10-23 00:00:00 -0.004648 -0.051563 -0.062375 -0.023292 -0.022898   \n",
       "2023-10-30 00:00:00  0.051234  0.070851  0.024223  0.074086  0.053505   \n",
       "2023-11-06 00:00:00 -0.018150  0.013470 -0.037725  0.003848  0.009350   \n",
       "2023-11-13 00:00:00  0.037616  0.023368  0.015346  0.032439  0.029839   \n",
       "\n",
       "                          XLK       XLP      XLRE       XLU       XLV  \\\n",
       "Date                                                                    \n",
       "2023-10-16 00:00:00       NaN       NaN       NaN       NaN       NaN   \n",
       "2023-10-23 00:00:00 -0.017201 -0.010257 -0.012214  0.012063 -0.038419   \n",
       "2023-10-30 00:00:00  0.066038  0.032592  0.085317  0.053295  0.034676   \n",
       "2023-11-06 00:00:00  0.045179  0.003055 -0.020507 -0.024895 -0.008948   \n",
       "2023-11-13 00:00:00  0.018271  0.007686  0.045944  0.032659  0.015681   \n",
       "\n",
       "                          XLY  \n",
       "Date                           \n",
       "2023-10-16 00:00:00       NaN  \n",
       "2023-10-23 00:00:00 -0.013844  \n",
       "2023-10-30 00:00:00  0.071061  \n",
       "2023-11-06 00:00:00  0.007365  \n",
       "2023-11-13 00:00:00  0.035564  "
      ]
     },
     "execution_count": 125,
     "metadata": {},
     "output_type": "execute_result"
    }
   ],
   "source": [
    "sector_returns"
   ]
  },
  {
   "cell_type": "code",
   "execution_count": 126,
   "id": "61988945-4e4f-4ffd-bc96-4e3d5c987f53",
   "metadata": {
    "tags": []
   },
   "outputs": [],
   "source": [
    "# select last row (curernt one)\n",
    "last_sec_ret, *_ = currentRow(sector_returns)"
   ]
  },
  {
   "cell_type": "code",
   "execution_count": 127,
   "id": "b1d3dfe7-00fb-4bb5-bd64-c62968c1ba1b",
   "metadata": {
    "tags": []
   },
   "outputs": [
    {
     "data": {
      "text/plain": [
       "XLRE    0.045944\n",
       "MDY     0.039847\n",
       "VEA     0.038102\n",
       "XLB     0.037616\n",
       "XLY     0.035564\n",
       "XLU     0.032659\n",
       "XLF     0.032439\n",
       "XLI     0.029839\n",
       "VWO     0.025647\n",
       "XLC     0.023368\n",
       "TLT     0.023298\n",
       "SPY     0.023104\n",
       "XLK     0.018271\n",
       "XLV     0.015681\n",
       "XLE     0.015346\n",
       "XLP     0.007686\n",
       "SLY          NaN\n",
       "Name: 2023-11-13 00:00:00, dtype: float64"
      ]
     },
     "execution_count": 127,
     "metadata": {},
     "output_type": "execute_result"
    }
   ],
   "source": [
    "last_sec_ret"
   ]
  },
  {
   "cell_type": "markdown",
   "id": "5c527fac-9f8f-4e6d-9194-4bb64e2498e9",
   "metadata": {
    "tags": []
   },
   "source": [
    "## Plot values"
   ]
  },
  {
   "cell_type": "code",
   "execution_count": 141,
   "id": "bdb9a2ee-eebd-4a1c-b9e5-a1c8f160f8ef",
   "metadata": {
    "tags": []
   },
   "outputs": [
    {
     "data": {
      "text/plain": [
       "array([4.59, 3.98, 3.81, 3.76, 3.56, 3.27, 3.24, 2.98, 2.56, 2.34, 2.33,\n",
       "       2.31, 1.83, 1.57, 1.53, 0.77,  nan])"
      ]
     },
     "execution_count": 141,
     "metadata": {},
     "output_type": "execute_result"
    }
   ],
   "source": [
    "(last_sec_ret.values*100).round(2)"
   ]
  },
  {
   "cell_type": "code",
   "execution_count": 149,
   "id": "5cdf4216-7e96-4dfe-b6e0-dfc515777c89",
   "metadata": {
    "tags": []
   },
   "outputs": [
    {
     "data": {
      "text/plain": [
       "array([ 1.,  2.,  3.,  4.,  5.,  6.,  7.,  8.,  9., 10., 11., 12., 13.,\n",
       "       14., 15., 16., 17.])"
      ]
     },
     "execution_count": 149,
     "metadata": {},
     "output_type": "execute_result"
    }
   ],
   "source": [
    "np.linspace(1, len(last_sec_ret), len(last_sec_ret))"
   ]
  },
  {
   "cell_type": "code",
   "execution_count": 152,
   "id": "001e78fc-44f3-4987-b5ed-22041dd3ae02",
   "metadata": {
    "tags": []
   },
   "outputs": [
    {
     "data": {
      "image/png": "[encoded data removed]",
      "text/plain": [
       "<Figure size 640x480 with 1 Axes>"
      ]
     },
     "metadata": {},
     "output_type": "display_data"
    }
   ],
   "source": [
    "import seaborn as sns\n",
    "# Establecer un tema\n",
    "sns.set_style(\"darkgrid\")\n",
    "\n",
    "\n",
    "plt.bar(x=last_sec_ret.index, height=(last_sec_ret.values*100).round(2))\n",
    "plt.xticks(np.linspace(0, len(last_sec_ret), len(last_sec_ret)), last_sec_ret.index, rotation='vertical')\n",
    "\n",
    "plt.show()"
   ]
  },
  {
   "cell_type": "code",
   "execution_count": 164,
   "id": "49626d5d-b3aa-4da5-b23c-c9f285dcb7a7",
   "metadata": {
    "tags": []
   },
   "outputs": [
    {
     "data": {
      "image/png": "[encoded data removed]",
      "text/plain": [
       "<Figure size 640x480 with 1 Axes>"
      ]
     },
     "metadata": {},
     "output_type": "display_data"
    }
   ],
   "source": [
    "ax = sns.barplot(x=last_sec_ret.index, y=(last_sec_ret.values*100).round(2), color=\"r\")\n",
    "ax.bar_label(ax.containers[0], fontsize=8);\n",
    "ax.set_xticklabels( \n",
    "    labels=last_sec_ret.index, rotation=90, size=8)\n",
    "\n",
    "ax.set(xlabel = 'Sectores', ylabel = 'Retorno (%)', title = 'Rendimiento en la última semana de los Sectores')\n",
    "\n",
    "plt.show()"
   ]
  }
 ],
 "metadata": {
  "kernelspec": {
   "display_name": "Python 3 (ipykernel)",
   "language": "python",
   "name": "python3"
  },
  "language_info": {
   "codemirror_mode": {
    "name": "ipython",
    "version": 3
   },
   "file_extension": ".py",
   "mimetype": "text/x-python",
   "name": "python",
   "nbconvert_exporter": "python",
   "pygments_lexer": "ipython3",
   "version": "3.11.5"
  }
 },
 "nbformat": 4,
 "nbformat_minor": 5
}
