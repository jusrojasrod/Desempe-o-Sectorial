{
 "cells": [
  {
   "cell_type": "code",
   "execution_count": 1,
   "id": "962bf819-ea02-486a-803f-51f0028660f1",
   "metadata": {
    "tags": []
   },
   "outputs": [],
   "source": [
    "# https://dev.to/1n0t/matplotlib-heatmap-calendar-3kbo"
   ]
  },
  {
   "cell_type": "code",
   "execution_count": 2,
   "id": "ac02e606-6848-4181-a851-f52f9dc44d93",
   "metadata": {
    "tags": []
   },
   "outputs": [],
   "source": [
    "#import libraries\n",
    "import pandas as pd\n",
    "import numpy as np\n",
    "import matplotlib.pyplot as plt\n",
    "\n",
    "import yfinance as yf\n",
    "\n",
    "from datetime import date\n",
    "from datetime import datetime\n",
    "\n",
    "import os\n",
    "\n",
    "import data as data_"
   ]
  },
  {
   "cell_type": "code",
   "execution_count": 3,
   "id": "4074bd83-8b9a-4a1a-be94-465c2edc44c9",
   "metadata": {
    "tags": []
   },
   "outputs": [],
   "source": [
    "folderPath_rsrc = '/Resources/'\n",
    "folderPath_results = '/Results/'\n",
    "cwd = os.getcwd()\n",
    "path_rsrc = cwd + folderPath_rsrc\n",
    "path_results = cwd + folderPath_results\n",
    "# read data\n",
    "ETFs = pd.read_excel(path_rsrc + \"ETFs list.xlsx\")"
   ]
  },
  {
   "cell_type": "code",
   "execution_count": 4,
   "id": "1df26f01-e6b5-4c36-8abb-d74edf3cd608",
   "metadata": {
    "tags": []
   },
   "outputs": [
    {
     "data": {
      "text/html": [
       "<div>\n",
       "<style scoped>\n",
       "    .dataframe tbody tr th:only-of-type {\n",
       "        vertical-align: middle;\n",
       "    }\n",
       "\n",
       "    .dataframe tbody tr th {\n",
       "        vertical-align: top;\n",
       "    }\n",
       "\n",
       "    .dataframe thead th {\n",
       "        text-align: right;\n",
       "    }\n",
       "</style>\n",
       "<table border=\"1\" class=\"dataframe\">\n",
       "  <thead>\n",
       "    <tr style=\"text-align: right;\">\n",
       "      <th></th>\n",
       "      <th>Technology</th>\n",
       "      <th>Energy</th>\n",
       "      <th>Telecom</th>\n",
       "      <th>Consumer Discretionary</th>\n",
       "      <th>Real Estate</th>\n",
       "      <th>Industrials</th>\n",
       "      <th>Utilities</th>\n",
       "      <th>Materials</th>\n",
       "      <th>Healthcare</th>\n",
       "      <th>Consumer Staples</th>\n",
       "      <th>Financials</th>\n",
       "    </tr>\n",
       "  </thead>\n",
       "  <tbody>\n",
       "    <tr>\n",
       "      <th>0</th>\n",
       "      <td>AAPB</td>\n",
       "      <td>ACES</td>\n",
       "      <td>FCOM</td>\n",
       "      <td>AMZD</td>\n",
       "      <td>BBRE</td>\n",
       "      <td>AIRR</td>\n",
       "      <td>BLLD</td>\n",
       "      <td>ALUM</td>\n",
       "      <td>AGNG</td>\n",
       "      <td>CHIS</td>\n",
       "      <td>BDCX</td>\n",
       "    </tr>\n",
       "    <tr>\n",
       "      <th>1</th>\n",
       "      <td>AAPD</td>\n",
       "      <td>AMJ</td>\n",
       "      <td>IXP</td>\n",
       "      <td>AMZU</td>\n",
       "      <td>BLDG</td>\n",
       "      <td>AQWA</td>\n",
       "      <td>CHIU</td>\n",
       "      <td>BATT</td>\n",
       "      <td>ARKG</td>\n",
       "      <td>CLIX</td>\n",
       "      <td>BDCZ</td>\n",
       "    </tr>\n",
       "    <tr>\n",
       "      <th>2</th>\n",
       "      <td>AAPU</td>\n",
       "      <td>AMLP</td>\n",
       "      <td>IYZ</td>\n",
       "      <td>BAD</td>\n",
       "      <td>BYRE</td>\n",
       "      <td>ARKX</td>\n",
       "      <td>ECLN</td>\n",
       "      <td>CHIM</td>\n",
       "      <td>BBC</td>\n",
       "      <td>EATV</td>\n",
       "      <td>BIZD</td>\n",
       "    </tr>\n",
       "    <tr>\n",
       "      <th>3</th>\n",
       "      <td>AIQ</td>\n",
       "      <td>AMNA</td>\n",
       "      <td>LTL</td>\n",
       "      <td>BEDZ</td>\n",
       "      <td>CHIR</td>\n",
       "      <td>AWAY</td>\n",
       "      <td>EMIF</td>\n",
       "      <td>CIRC</td>\n",
       "      <td>BBH</td>\n",
       "      <td>EATZ</td>\n",
       "      <td>BNKD</td>\n",
       "    </tr>\n",
       "    <tr>\n",
       "      <th>4</th>\n",
       "      <td>ARKK</td>\n",
       "      <td>AMND</td>\n",
       "      <td>NXTG</td>\n",
       "      <td>BETZ</td>\n",
       "      <td>DFGR</td>\n",
       "      <td>BDRY</td>\n",
       "      <td>FUTY</td>\n",
       "      <td>COPX</td>\n",
       "      <td>BBP</td>\n",
       "      <td>ECON</td>\n",
       "      <td>BNKU</td>\n",
       "    </tr>\n",
       "    <tr>\n",
       "      <th>...</th>\n",
       "      <td>...</td>\n",
       "      <td>...</td>\n",
       "      <td>...</td>\n",
       "      <td>...</td>\n",
       "      <td>...</td>\n",
       "      <td>...</td>\n",
       "      <td>...</td>\n",
       "      <td>...</td>\n",
       "      <td>...</td>\n",
       "      <td>...</td>\n",
       "      <td>...</td>\n",
       "    </tr>\n",
       "    <tr>\n",
       "      <th>163</th>\n",
       "      <td>XPND</td>\n",
       "      <td>NaN</td>\n",
       "      <td>NaN</td>\n",
       "      <td>NaN</td>\n",
       "      <td>NaN</td>\n",
       "      <td>NaN</td>\n",
       "      <td>NaN</td>\n",
       "      <td>NaN</td>\n",
       "      <td>NaN</td>\n",
       "      <td>NaN</td>\n",
       "      <td>NaN</td>\n",
       "    </tr>\n",
       "    <tr>\n",
       "      <th>164</th>\n",
       "      <td>XSD</td>\n",
       "      <td>NaN</td>\n",
       "      <td>NaN</td>\n",
       "      <td>NaN</td>\n",
       "      <td>NaN</td>\n",
       "      <td>NaN</td>\n",
       "      <td>NaN</td>\n",
       "      <td>NaN</td>\n",
       "      <td>NaN</td>\n",
       "      <td>NaN</td>\n",
       "      <td>NaN</td>\n",
       "    </tr>\n",
       "    <tr>\n",
       "      <th>165</th>\n",
       "      <td>XSW</td>\n",
       "      <td>NaN</td>\n",
       "      <td>NaN</td>\n",
       "      <td>NaN</td>\n",
       "      <td>NaN</td>\n",
       "      <td>NaN</td>\n",
       "      <td>NaN</td>\n",
       "      <td>NaN</td>\n",
       "      <td>NaN</td>\n",
       "      <td>NaN</td>\n",
       "      <td>NaN</td>\n",
       "    </tr>\n",
       "    <tr>\n",
       "      <th>166</th>\n",
       "      <td>XT</td>\n",
       "      <td>NaN</td>\n",
       "      <td>NaN</td>\n",
       "      <td>NaN</td>\n",
       "      <td>NaN</td>\n",
       "      <td>NaN</td>\n",
       "      <td>NaN</td>\n",
       "      <td>NaN</td>\n",
       "      <td>NaN</td>\n",
       "      <td>NaN</td>\n",
       "      <td>NaN</td>\n",
       "    </tr>\n",
       "    <tr>\n",
       "      <th>167</th>\n",
       "      <td>XWEB</td>\n",
       "      <td>NaN</td>\n",
       "      <td>NaN</td>\n",
       "      <td>NaN</td>\n",
       "      <td>NaN</td>\n",
       "      <td>NaN</td>\n",
       "      <td>NaN</td>\n",
       "      <td>NaN</td>\n",
       "      <td>NaN</td>\n",
       "      <td>NaN</td>\n",
       "      <td>NaN</td>\n",
       "    </tr>\n",
       "  </tbody>\n",
       "</table>\n",
       "<p>168 rows × 11 columns</p>\n",
       "</div>"
      ],
      "text/plain": [
       "    Technology Energy Telecom Consumer Discretionary Real Estate Industrials  \\\n",
       "0         AAPB   ACES    FCOM                   AMZD        BBRE        AIRR   \n",
       "1         AAPD    AMJ     IXP                   AMZU        BLDG        AQWA   \n",
       "2         AAPU   AMLP     IYZ                    BAD        BYRE        ARKX   \n",
       "3          AIQ   AMNA     LTL                   BEDZ        CHIR        AWAY   \n",
       "4         ARKK   AMND    NXTG                   BETZ        DFGR        BDRY   \n",
       "..         ...    ...     ...                    ...         ...         ...   \n",
       "163       XPND    NaN     NaN                    NaN         NaN         NaN   \n",
       "164        XSD    NaN     NaN                    NaN         NaN         NaN   \n",
       "165        XSW    NaN     NaN                    NaN         NaN         NaN   \n",
       "166         XT    NaN     NaN                    NaN         NaN         NaN   \n",
       "167       XWEB    NaN     NaN                    NaN         NaN         NaN   \n",
       "\n",
       "    Utilities Materials Healthcare Consumer Staples Financials  \n",
       "0        BLLD      ALUM       AGNG             CHIS       BDCX  \n",
       "1        CHIU      BATT       ARKG             CLIX       BDCZ  \n",
       "2        ECLN      CHIM        BBC             EATV       BIZD  \n",
       "3        EMIF      CIRC        BBH             EATZ       BNKD  \n",
       "4        FUTY      COPX        BBP             ECON       BNKU  \n",
       "..        ...       ...        ...              ...        ...  \n",
       "163       NaN       NaN        NaN              NaN        NaN  \n",
       "164       NaN       NaN        NaN              NaN        NaN  \n",
       "165       NaN       NaN        NaN              NaN        NaN  \n",
       "166       NaN       NaN        NaN              NaN        NaN  \n",
       "167       NaN       NaN        NaN              NaN        NaN  \n",
       "\n",
       "[168 rows x 11 columns]"
      ]
     },
     "execution_count": 4,
     "metadata": {},
     "output_type": "execute_result"
    }
   ],
   "source": [
    "ETFs"
   ]
  },
  {
   "cell_type": "code",
   "execution_count": 5,
   "id": "455e8db5-abe9-41cc-83f4-769bdaca60c0",
   "metadata": {
    "tags": []
   },
   "outputs": [],
   "source": [
    "sector = \"Energy\"\n",
    "energy = ETFs[sector]\n",
    "energy.dropna(inplace=True)"
   ]
  },
  {
   "cell_type": "code",
   "execution_count": 6,
   "id": "3dcf95ec-9955-4ec7-97f5-0ed45c574b55",
   "metadata": {
    "tags": []
   },
   "outputs": [],
   "source": [
    "energy = energy.to_list()"
   ]
  },
  {
   "cell_type": "code",
   "execution_count": 10,
   "id": "bc6c6c86-2832-4453-91c4-ecc965644868",
   "metadata": {
    "tags": []
   },
   "outputs": [],
   "source": [
    "end_ = date.today()  # yyyy-mm-dd\n",
    "if end_.day == 31:\n",
    "    start_ = datetime(end_.year, end_.month - 1, 30)\n",
    "else:\n",
    "    start_ = datetime(end_.year, end_.month - 1, end_.day)\n",
    "\n",
    "# data = yf.download(energy, start=start_, end=end_, interval=\"1wk\")\n",
    "data_.downloadAllTickers(tickers=energy, start=start_, end=end_)\n",
    "# data_.downloadTicker(ticker=\"XT\", start=start_, end=end_)"
   ]
  },
  {
   "cell_type": "code",
   "execution_count": 8,
   "id": "e59772fb-7b44-4091-b1ca-b7db78648856",
   "metadata": {
    "tags": []
   },
   "outputs": [
    {
     "data": {
      "text/plain": [
       "'C:\\\\Users\\\\Usuario\\\\Documents\\\\GitHub\\\\Desempe-o-Sectorial\\\\ETFs'"
      ]
     },
     "execution_count": 8,
     "metadata": {},
     "output_type": "execute_result"
    }
   ],
   "source": [
    "os.getcwd()"
   ]
  },
  {
   "cell_type": "code",
   "execution_count": 11,
   "id": "e8480553-83b3-4bf1-9e3f-799b9a6439a8",
   "metadata": {
    "tags": []
   },
   "outputs": [],
   "source": [
    "cwd = os.getcwd()\n",
    "folderPath_rsrc = '/Resources/'\n",
    "path_results = cwd + folderPath_rsrc\n",
    "data = pd.read_pickle(f\"{path_results}{energy[0]}\")"
   ]
  },
  {
   "cell_type": "code",
   "execution_count": 13,
   "id": "d95d6295-d896-43af-b25a-075697d82769",
   "metadata": {
    "tags": []
   },
   "outputs": [
    {
     "data": {
      "text/html": [
       "<div>\n",
       "<style scoped>\n",
       "    .dataframe tbody tr th:only-of-type {\n",
       "        vertical-align: middle;\n",
       "    }\n",
       "\n",
       "    .dataframe tbody tr th {\n",
       "        vertical-align: top;\n",
       "    }\n",
       "\n",
       "    .dataframe thead th {\n",
       "        text-align: right;\n",
       "    }\n",
       "</style>\n",
       "<table border=\"1\" class=\"dataframe\">\n",
       "  <thead>\n",
       "    <tr style=\"text-align: right;\">\n",
       "      <th></th>\n",
       "      <th>date</th>\n",
       "      <th>open</th>\n",
       "      <th>high</th>\n",
       "      <th>low</th>\n",
       "      <th>close</th>\n",
       "      <th>adjusted_close</th>\n",
       "      <th>volume</th>\n",
       "    </tr>\n",
       "  </thead>\n",
       "  <tbody>\n",
       "    <tr>\n",
       "      <th>0</th>\n",
       "      <td>2023-10-02</td>\n",
       "      <td>36.39</td>\n",
       "      <td>36.390</td>\n",
       "      <td>34.720</td>\n",
       "      <td>34.95</td>\n",
       "      <td>34.95</td>\n",
       "      <td>26400</td>\n",
       "    </tr>\n",
       "    <tr>\n",
       "      <th>1</th>\n",
       "      <td>2023-10-03</td>\n",
       "      <td>34.50</td>\n",
       "      <td>34.500</td>\n",
       "      <td>33.522</td>\n",
       "      <td>33.69</td>\n",
       "      <td>33.69</td>\n",
       "      <td>27900</td>\n",
       "    </tr>\n",
       "    <tr>\n",
       "      <th>2</th>\n",
       "      <td>2023-10-04</td>\n",
       "      <td>33.82</td>\n",
       "      <td>34.260</td>\n",
       "      <td>33.255</td>\n",
       "      <td>34.13</td>\n",
       "      <td>34.13</td>\n",
       "      <td>372100</td>\n",
       "    </tr>\n",
       "    <tr>\n",
       "      <th>3</th>\n",
       "      <td>2023-10-05</td>\n",
       "      <td>33.75</td>\n",
       "      <td>33.750</td>\n",
       "      <td>32.700</td>\n",
       "      <td>32.76</td>\n",
       "      <td>32.76</td>\n",
       "      <td>54800</td>\n",
       "    </tr>\n",
       "    <tr>\n",
       "      <th>4</th>\n",
       "      <td>2023-10-06</td>\n",
       "      <td>32.32</td>\n",
       "      <td>33.645</td>\n",
       "      <td>32.200</td>\n",
       "      <td>33.37</td>\n",
       "      <td>33.37</td>\n",
       "      <td>128600</td>\n",
       "    </tr>\n",
       "  </tbody>\n",
       "</table>\n",
       "</div>"
      ],
      "text/plain": [
       "         date   open    high     low  close  adjusted_close  volume\n",
       "0  2023-10-02  36.39  36.390  34.720  34.95           34.95   26400\n",
       "1  2023-10-03  34.50  34.500  33.522  33.69           33.69   27900\n",
       "2  2023-10-04  33.82  34.260  33.255  34.13           34.13  372100\n",
       "3  2023-10-05  33.75  33.750  32.700  32.76           32.76   54800\n",
       "4  2023-10-06  32.32  33.645  32.200  33.37           33.37  128600"
      ]
     },
     "execution_count": 13,
     "metadata": {},
     "output_type": "execute_result"
    }
   ],
   "source": [
    "data.head()"
   ]
  },
  {
   "cell_type": "code",
   "execution_count": null,
   "id": "e3e0cb37-2a6e-4632-bc03-16bc33594aed",
   "metadata": {
    "tags": []
   },
   "outputs": [],
   "source": [
    "if end_.day == 31:\n",
    "    start_ = datetime(end_.year, end_.month - 1, 30)"
   ]
  },
  {
   "cell_type": "code",
   "execution_count": null,
   "id": "3671b993-0fb3-489c-a0af-715269d99093",
   "metadata": {
    "tags": []
   },
   "outputs": [],
   "source": [
    "df = data.Close\n",
    "df"
   ]
  },
  {
   "cell_type": "markdown",
   "id": "ac33b718-10c8-4f8f-be18-ee1ae16d8a04",
   "metadata": {
    "tags": []
   },
   "source": [
    "## Calcular retornos"
   ]
  },
  {
   "cell_type": "code",
   "execution_count": null,
   "id": "4871c136-d357-4adf-a858-ab97619d9d16",
   "metadata": {
    "tags": []
   },
   "outputs": [],
   "source": [
    "returns = df.pct_change()\n",
    "returns"
   ]
  },
  {
   "cell_type": "code",
   "execution_count": null,
   "id": "cbc1c0ce-1470-454f-a845-b686c9347541",
   "metadata": {
    "tags": []
   },
   "outputs": [],
   "source": [
    "values = returns.iloc[-1].sort_values(ascending=False)\n",
    "val_max = values.max()\n",
    "val_min = values.min()\n",
    "values"
   ]
  },
  {
   "cell_type": "code",
   "execution_count": null,
   "id": "2897049f-3a83-46da-a1bd-0247c7c3a3bc",
   "metadata": {
    "tags": []
   },
   "outputs": [],
   "source": [
    "values.values"
   ]
  },
  {
   "cell_type": "code",
   "execution_count": null,
   "id": "ddf34607-cfe7-4b42-b071-0f6de16ee9a3",
   "metadata": {
    "tags": []
   },
   "outputs": [],
   "source": [
    "test = [round(i*100,2) for i in values]\n",
    "test[:10]"
   ]
  },
  {
   "cell_type": "code",
   "execution_count": null,
   "id": "8e2decc1-e51f-47e6-abee-af31c6af4a85",
   "metadata": {
    "tags": []
   },
   "outputs": [],
   "source": [
    "length = len(test)\n",
    "# the idea is to shape an a X b matrix\n",
    "a = int(np.sqrt(length))\n",
    "b = int(np.ceil(length/a))\n",
    "m_length = a * b                # matrix \"length\"\n",
    "\n",
    "if m_length >= length:\n",
    "    # compute how many elements need to be add to the array\n",
    "    diff = abs(length - m_length)\n",
    "    \n",
    "    add =np.full(diff, np.nan)\n",
    "    new_array = np.append(test, add)\n",
    "    new_array = new_array.reshape(a, b)\n",
    "    \n",
    "    # add names to the plot\n",
    "    names = values.index.to_list()\n",
    "    add_names =np.full(diff, '---')\n",
    "    new_names = np.append(names, add_names)\n",
    "    new_names = new_names.reshape(a, b)"
   ]
  },
  {
   "cell_type": "code",
   "execution_count": null,
   "id": "f47f6a60-a428-445a-ace8-80788fb1ace0",
   "metadata": {
    "tags": []
   },
   "outputs": [],
   "source": [
    "new_array"
   ]
  },
  {
   "cell_type": "code",
   "execution_count": null,
   "id": "35c228a2-1382-42aa-976f-a767de44b1a4",
   "metadata": {
    "tags": []
   },
   "outputs": [],
   "source": [
    "valores = new_array\n",
    "from  matplotlib.colors import LinearSegmentedColormap\n",
    "cmap_=LinearSegmentedColormap.from_list('rg',[\"r\", \"w\", \"g\"], N=256) \n",
    "\n",
    "# \"RdYlGn\"\n",
    "fig, ax = plt.subplots()\n",
    "\n",
    "# Especificamos paleta de colores a usar y rango de valores a representar.\n",
    "ax.imshow(valores, cmap=cmap_, vmin=val_min*100, vmax=val_max*100)\n",
    "# borrar axis labels\n",
    "ax.set_yticklabels([])\n",
    "ax.set_xticklabels([])\n",
    "\n",
    "# Reducimos la longitud de las marcas a 0 para que no sean visibles\n",
    "ax.tick_params(axis=u'both', which=u'both', length=0)\n",
    "for lado in ['left', 'right', 'bottom', 'top']:\n",
    "    ax.spines[lado].set_visible(False)\n",
    "\n",
    "# # Indicamos las posiciones donde dibujaremos la rejilla  \n",
    "xmin,xmax = ax.get_xlim()\n",
    "ymin,ymax = ax.get_ylim()\n",
    "\n",
    "ax.set_yticks(np.arange(ymax, ymin+1), minor=True)\n",
    "ax.set_xticks(np.arange(xmin, xmax+1), minor=True)\n",
    "# Dibujamos la rejilla de color blanco para que actue como separador.\n",
    "ax.grid(which='minor', color='w', linestyle='-', linewidth=2)\n",
    "\n",
    "for i in range(new_array.shape[0]):\n",
    "    for j in range(new_array.shape[1]):\n",
    "        # print(i, j, valores[i,j])\n",
    "        text = ax.text(j, i, str(new_names[i, j]) + '\\n' + str(valores[i, j])+'%',\n",
    "                       ha=\"center\", va=\"center\", color=\"k\", size=6)\n",
    "\n",
    "ax.set_title(f\"{sector}\\n\")\n",
    "        \n",
    "plt.savefig(f\"{sector}.png\")\n",
    "plt.show()\n"
   ]
  }
 ],
 "metadata": {
  "kernelspec": {
   "display_name": "Python 3 (ipykernel)",
   "language": "python",
   "name": "python3"
  },
  "language_info": {
   "codemirror_mode": {
    "name": "ipython",
    "version": 3
   },
   "file_extension": ".py",
   "mimetype": "text/x-python",
   "name": "python",
   "nbconvert_exporter": "python",
   "pygments_lexer": "ipython3",
   "version": "3.11.5"
  }
 },
 "nbformat": 4,
 "nbformat_minor": 5
}
