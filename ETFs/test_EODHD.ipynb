{
 "cells": [
  {
   "cell_type": "code",
   "execution_count": 16,
   "id": "0604a9a5-1666-4359-9cad-c256c9671c7d",
   "metadata": {
    "tags": []
   },
   "outputs": [
    {
     "name": "stdout",
     "output_type": "stream",
     "text": [
      "The autoreload extension is already loaded. To reload it, use:\n",
      "  %reload_ext autoreload\n"
     ]
    }
   ],
   "source": [
    "%load_ext autoreload\n",
    "%autoreload 2\n",
    "\n",
    "#import libraries\n",
    "import pandas as pd\n",
    "import numpy as np\n",
    "import matplotlib.pyplot as plt\n",
    "\n",
    "from datetime import date\n",
    "from datetime import datetime\n",
    "import os\n",
    "\n",
    "import data as data_\n",
    "import shared"
   ]
  },
  {
   "cell_type": "code",
   "execution_count": 2,
   "id": "b9650fe0-2adb-4fc4-8387-7b140cc9c485",
   "metadata": {
    "tags": []
   },
   "outputs": [],
   "source": [
    "# Paths\n",
    "\n",
    "folderPath_rsrc = '/Resources/'\n",
    "folderPath_results = '/Results/'\n",
    "cwd = os.getcwd()\n",
    "path_rsrc = cwd + folderPath_rsrc\n",
    "path_results = cwd + folderPath_results\n",
    "# read data\n",
    "ETFs = pd.read_excel(path_rsrc + \"ETFs list.xlsx\")"
   ]
  },
  {
   "cell_type": "code",
   "execution_count": 3,
   "id": "f44095da-94c4-49d6-be1b-d20d854fd757",
   "metadata": {
    "tags": []
   },
   "outputs": [
    {
     "data": {
      "text/html": [
       "<div>\n",
       "<style scoped>\n",
       "    .dataframe tbody tr th:only-of-type {\n",
       "        vertical-align: middle;\n",
       "    }\n",
       "\n",
       "    .dataframe tbody tr th {\n",
       "        vertical-align: top;\n",
       "    }\n",
       "\n",
       "    .dataframe thead th {\n",
       "        text-align: right;\n",
       "    }\n",
       "</style>\n",
       "<table border=\"1\" class=\"dataframe\">\n",
       "  <thead>\n",
       "    <tr style=\"text-align: right;\">\n",
       "      <th></th>\n",
       "      <th>Technology</th>\n",
       "      <th>Energy</th>\n",
       "      <th>Telecom</th>\n",
       "      <th>Consumer Discretionary</th>\n",
       "      <th>Real Estate</th>\n",
       "      <th>Industrials</th>\n",
       "      <th>Utilities</th>\n",
       "      <th>Materials</th>\n",
       "      <th>Healthcare</th>\n",
       "      <th>Consumer Staples</th>\n",
       "      <th>Financials</th>\n",
       "    </tr>\n",
       "  </thead>\n",
       "  <tbody>\n",
       "    <tr>\n",
       "      <th>0</th>\n",
       "      <td>AAPB</td>\n",
       "      <td>ACES</td>\n",
       "      <td>FCOM</td>\n",
       "      <td>AMZD</td>\n",
       "      <td>BBRE</td>\n",
       "      <td>AIRR</td>\n",
       "      <td>BLLD</td>\n",
       "      <td>ALUM</td>\n",
       "      <td>AGNG</td>\n",
       "      <td>CHIS</td>\n",
       "      <td>BDCX</td>\n",
       "    </tr>\n",
       "    <tr>\n",
       "      <th>1</th>\n",
       "      <td>AAPD</td>\n",
       "      <td>AMJ</td>\n",
       "      <td>IXP</td>\n",
       "      <td>AMZU</td>\n",
       "      <td>BLDG</td>\n",
       "      <td>AQWA</td>\n",
       "      <td>CHIU</td>\n",
       "      <td>BATT</td>\n",
       "      <td>ARKG</td>\n",
       "      <td>CLIX</td>\n",
       "      <td>BDCZ</td>\n",
       "    </tr>\n",
       "    <tr>\n",
       "      <th>2</th>\n",
       "      <td>AAPU</td>\n",
       "      <td>AMLP</td>\n",
       "      <td>IYZ</td>\n",
       "      <td>BAD</td>\n",
       "      <td>BYRE</td>\n",
       "      <td>ARKX</td>\n",
       "      <td>ECLN</td>\n",
       "      <td>CHIM</td>\n",
       "      <td>BBC</td>\n",
       "      <td>EATV</td>\n",
       "      <td>BIZD</td>\n",
       "    </tr>\n",
       "    <tr>\n",
       "      <th>3</th>\n",
       "      <td>AIQ</td>\n",
       "      <td>AMNA</td>\n",
       "      <td>LTL</td>\n",
       "      <td>BEDZ</td>\n",
       "      <td>CHIR</td>\n",
       "      <td>AWAY</td>\n",
       "      <td>EMIF</td>\n",
       "      <td>CIRC</td>\n",
       "      <td>BBH</td>\n",
       "      <td>EATZ</td>\n",
       "      <td>BNKD</td>\n",
       "    </tr>\n",
       "    <tr>\n",
       "      <th>4</th>\n",
       "      <td>ARKK</td>\n",
       "      <td>AMND</td>\n",
       "      <td>NXTG</td>\n",
       "      <td>BETZ</td>\n",
       "      <td>DFGR</td>\n",
       "      <td>BDRY</td>\n",
       "      <td>FUTY</td>\n",
       "      <td>COPX</td>\n",
       "      <td>BBP</td>\n",
       "      <td>ECON</td>\n",
       "      <td>BNKU</td>\n",
       "    </tr>\n",
       "    <tr>\n",
       "      <th>...</th>\n",
       "      <td>...</td>\n",
       "      <td>...</td>\n",
       "      <td>...</td>\n",
       "      <td>...</td>\n",
       "      <td>...</td>\n",
       "      <td>...</td>\n",
       "      <td>...</td>\n",
       "      <td>...</td>\n",
       "      <td>...</td>\n",
       "      <td>...</td>\n",
       "      <td>...</td>\n",
       "    </tr>\n",
       "    <tr>\n",
       "      <th>163</th>\n",
       "      <td>XPND</td>\n",
       "      <td>NaN</td>\n",
       "      <td>NaN</td>\n",
       "      <td>NaN</td>\n",
       "      <td>NaN</td>\n",
       "      <td>NaN</td>\n",
       "      <td>NaN</td>\n",
       "      <td>NaN</td>\n",
       "      <td>NaN</td>\n",
       "      <td>NaN</td>\n",
       "      <td>NaN</td>\n",
       "    </tr>\n",
       "    <tr>\n",
       "      <th>164</th>\n",
       "      <td>XSD</td>\n",
       "      <td>NaN</td>\n",
       "      <td>NaN</td>\n",
       "      <td>NaN</td>\n",
       "      <td>NaN</td>\n",
       "      <td>NaN</td>\n",
       "      <td>NaN</td>\n",
       "      <td>NaN</td>\n",
       "      <td>NaN</td>\n",
       "      <td>NaN</td>\n",
       "      <td>NaN</td>\n",
       "    </tr>\n",
       "    <tr>\n",
       "      <th>165</th>\n",
       "      <td>XSW</td>\n",
       "      <td>NaN</td>\n",
       "      <td>NaN</td>\n",
       "      <td>NaN</td>\n",
       "      <td>NaN</td>\n",
       "      <td>NaN</td>\n",
       "      <td>NaN</td>\n",
       "      <td>NaN</td>\n",
       "      <td>NaN</td>\n",
       "      <td>NaN</td>\n",
       "      <td>NaN</td>\n",
       "    </tr>\n",
       "    <tr>\n",
       "      <th>166</th>\n",
       "      <td>XT</td>\n",
       "      <td>NaN</td>\n",
       "      <td>NaN</td>\n",
       "      <td>NaN</td>\n",
       "      <td>NaN</td>\n",
       "      <td>NaN</td>\n",
       "      <td>NaN</td>\n",
       "      <td>NaN</td>\n",
       "      <td>NaN</td>\n",
       "      <td>NaN</td>\n",
       "      <td>NaN</td>\n",
       "    </tr>\n",
       "    <tr>\n",
       "      <th>167</th>\n",
       "      <td>XWEB</td>\n",
       "      <td>NaN</td>\n",
       "      <td>NaN</td>\n",
       "      <td>NaN</td>\n",
       "      <td>NaN</td>\n",
       "      <td>NaN</td>\n",
       "      <td>NaN</td>\n",
       "      <td>NaN</td>\n",
       "      <td>NaN</td>\n",
       "      <td>NaN</td>\n",
       "      <td>NaN</td>\n",
       "    </tr>\n",
       "  </tbody>\n",
       "</table>\n",
       "<p>168 rows × 11 columns</p>\n",
       "</div>"
      ],
      "text/plain": [
       "    Technology Energy Telecom Consumer Discretionary Real Estate Industrials  \\\n",
       "0         AAPB   ACES    FCOM                   AMZD        BBRE        AIRR   \n",
       "1         AAPD    AMJ     IXP                   AMZU        BLDG        AQWA   \n",
       "2         AAPU   AMLP     IYZ                    BAD        BYRE        ARKX   \n",
       "3          AIQ   AMNA     LTL                   BEDZ        CHIR        AWAY   \n",
       "4         ARKK   AMND    NXTG                   BETZ        DFGR        BDRY   \n",
       "..         ...    ...     ...                    ...         ...         ...   \n",
       "163       XPND    NaN     NaN                    NaN         NaN         NaN   \n",
       "164        XSD    NaN     NaN                    NaN         NaN         NaN   \n",
       "165        XSW    NaN     NaN                    NaN         NaN         NaN   \n",
       "166         XT    NaN     NaN                    NaN         NaN         NaN   \n",
       "167       XWEB    NaN     NaN                    NaN         NaN         NaN   \n",
       "\n",
       "    Utilities Materials Healthcare Consumer Staples Financials  \n",
       "0        BLLD      ALUM       AGNG             CHIS       BDCX  \n",
       "1        CHIU      BATT       ARKG             CLIX       BDCZ  \n",
       "2        ECLN      CHIM        BBC             EATV       BIZD  \n",
       "3        EMIF      CIRC        BBH             EATZ       BNKD  \n",
       "4        FUTY      COPX        BBP             ECON       BNKU  \n",
       "..        ...       ...        ...              ...        ...  \n",
       "163       NaN       NaN        NaN              NaN        NaN  \n",
       "164       NaN       NaN        NaN              NaN        NaN  \n",
       "165       NaN       NaN        NaN              NaN        NaN  \n",
       "166       NaN       NaN        NaN              NaN        NaN  \n",
       "167       NaN       NaN        NaN              NaN        NaN  \n",
       "\n",
       "[168 rows x 11 columns]"
      ]
     },
     "execution_count": 3,
     "metadata": {},
     "output_type": "execute_result"
    }
   ],
   "source": [
    "ETFs"
   ]
  },
  {
   "cell_type": "code",
   "execution_count": 4,
   "id": "f23c2d23-0564-45be-bf7c-4f97fa9e9dc5",
   "metadata": {
    "tags": []
   },
   "outputs": [],
   "source": [
    "sector = \"Energy\"\n",
    "energy = ETFs[sector]\n",
    "energy.dropna(inplace=True)"
   ]
  },
  {
   "cell_type": "code",
   "execution_count": 5,
   "id": "0b76aa2f-c1fd-466c-b474-a0e8fa104e7a",
   "metadata": {
    "tags": []
   },
   "outputs": [],
   "source": [
    "energy = energy.to_list()"
   ]
  },
  {
   "cell_type": "code",
   "execution_count": 6,
   "id": "7210bf05-1a56-48dc-87cd-1e73180f6d06",
   "metadata": {
    "tags": []
   },
   "outputs": [
    {
     "data": {
      "text/plain": [
       "86"
      ]
     },
     "execution_count": 6,
     "metadata": {},
     "output_type": "execute_result"
    }
   ],
   "source": [
    "len(energy)"
   ]
  },
  {
   "cell_type": "code",
   "execution_count": 7,
   "id": "cc9afa26-b3de-4946-a384-55e08df57e36",
   "metadata": {
    "tags": []
   },
   "outputs": [
    {
     "name": "stdout",
     "output_type": "stream",
     "text": [
      "['ACES', 'AMJ', 'AMLP', 'AMNA', 'AMND', 'AMTR', 'AMUB', 'AMZA', 'ATMP', 'BNE', 'CHIE', 'CNRG', 'CRAK', 'CTEC', 'CTEX', 'DIG', 'DRIP', 'DRLL', 'DUG', 'EINC', 'EMLP', 'ENFR', 'ENRG', 'ERTH', 'ERUS', 'ERX', 'ERY', 'FAN', 'FCG', 'FENY', 'FILL', 'FRNW', 'FTXN', 'FXN', 'GCLN', 'GUSH', 'HDRO', 'HJEN', 'HYDR', 'ICLN', 'IEO', 'IEZ', 'IXC', 'IYE', 'KLNE', 'KWT', 'LCTD', 'LNGG', 'MLPA', 'MLPB', 'MLPO', 'MLPR', 'MLPX', 'NBCT', 'NETZ', 'NLR', 'NRGD', 'NRGU', 'NTZG', 'NZAC', 'NZUS', 'OIH', 'PBD', 'PBW', 'PSCE', 'PXE', 'PXI', 'PXJ', 'QCLN', 'RAYS', 'RNRG', 'RNWZ', 'RSPG', 'SMOG', 'SOLR', 'TAN', 'TPYP', 'UMI', 'USAI', 'VCLN', 'VDE', 'VMAT', 'WNDY', 'XES', 'XLE', 'XOP']\n"
     ]
    }
   ],
   "source": [
    "# energy = energy[:10]\n",
    "print(energy)"
   ]
  },
  {
   "cell_type": "markdown",
   "id": "20f05e67-9031-4d94-bba9-c2dcd4b92df5",
   "metadata": {
    "tags": []
   },
   "source": [
    "## Handling data\n",
    "---"
   ]
  },
  {
   "cell_type": "markdown",
   "id": "0aa2e294-82d6-46b4-872f-7ae040a4eb09",
   "metadata": {
    "tags": []
   },
   "source": [
    "### Download data"
   ]
  },
  {
   "cell_type": "code",
   "execution_count": 8,
   "id": "5c650f74-18d0-472b-a67a-03a89926cd40",
   "metadata": {
    "tags": []
   },
   "outputs": [],
   "source": [
    "# download data\n",
    "\n",
    "end_ = date.today()  # yyyy-mm-dd\n",
    "if end_.day == 31:\n",
    "    start_ = datetime(end_.year, end_.month - 1, 30)\n",
    "else:\n",
    "    start_ = datetime(end_.year, end_.month - 1, end_.day)\n",
    "\n",
    "download = True\n",
    "if download:\n",
    "    df = data_.downloadAllTickers(tickers=energy, start=start_, end=end_, period='w', group_by='column')"
   ]
  },
  {
   "cell_type": "markdown",
   "id": "d8c3c018-190b-40e8-919b-6ca00c527b42",
   "metadata": {
    "tags": []
   },
   "source": [
    "df.head()"
   ]
  },
  {
   "cell_type": "code",
   "execution_count": 9,
   "id": "d5af0b88-ed51-4c63-b0bf-a67532c33484",
   "metadata": {
    "tags": []
   },
   "outputs": [],
   "source": [
    "closes_df = df.close"
   ]
  },
  {
   "cell_type": "code",
   "execution_count": 10,
   "id": "a4d121ed-be96-4fa4-8a0a-7868294bc1d9",
   "metadata": {
    "tags": []
   },
   "outputs": [
    {
     "data": {
      "text/html": [
       "<div>\n",
       "<style scoped>\n",
       "    .dataframe tbody tr th:only-of-type {\n",
       "        vertical-align: middle;\n",
       "    }\n",
       "\n",
       "    .dataframe tbody tr th {\n",
       "        vertical-align: top;\n",
       "    }\n",
       "\n",
       "    .dataframe thead th {\n",
       "        text-align: right;\n",
       "    }\n",
       "</style>\n",
       "<table border=\"1\" class=\"dataframe\">\n",
       "  <thead>\n",
       "    <tr style=\"text-align: right;\">\n",
       "      <th></th>\n",
       "      <th>RAYS</th>\n",
       "      <th>RNRG</th>\n",
       "      <th>RNWZ</th>\n",
       "      <th>RSPG</th>\n",
       "      <th>SMOG</th>\n",
       "      <th>SOLR</th>\n",
       "      <th>TAN</th>\n",
       "      <th>TPYP</th>\n",
       "      <th>UMI</th>\n",
       "      <th>USAI</th>\n",
       "      <th>VCLN</th>\n",
       "      <th>VMAT</th>\n",
       "      <th>WNDY</th>\n",
       "      <th>XES</th>\n",
       "      <th>XLE</th>\n",
       "      <th>XOP</th>\n",
       "    </tr>\n",
       "    <tr>\n",
       "      <th>date</th>\n",
       "      <th></th>\n",
       "      <th></th>\n",
       "      <th></th>\n",
       "      <th></th>\n",
       "      <th></th>\n",
       "      <th></th>\n",
       "      <th></th>\n",
       "      <th></th>\n",
       "      <th></th>\n",
       "      <th></th>\n",
       "      <th></th>\n",
       "      <th></th>\n",
       "      <th></th>\n",
       "      <th></th>\n",
       "      <th></th>\n",
       "      <th></th>\n",
       "    </tr>\n",
       "  </thead>\n",
       "  <tbody>\n",
       "    <tr>\n",
       "      <th>2023-10-23</th>\n",
       "      <td>11.830</td>\n",
       "      <td>9.24</td>\n",
       "      <td>18.855</td>\n",
       "      <td>77.56</td>\n",
       "      <td>95.18</td>\n",
       "      <td>23.9572</td>\n",
       "      <td>43.68</td>\n",
       "      <td>24.600</td>\n",
       "      <td>35.482</td>\n",
       "      <td>27.5214</td>\n",
       "      <td>15.631</td>\n",
       "      <td>25.330</td>\n",
       "      <td>11.900</td>\n",
       "      <td>92.02</td>\n",
       "      <td>88.80</td>\n",
       "      <td>147.92</td>\n",
       "    </tr>\n",
       "    <tr>\n",
       "      <th>2023-10-24</th>\n",
       "      <td>12.045</td>\n",
       "      <td>9.42</td>\n",
       "      <td>19.382</td>\n",
       "      <td>76.68</td>\n",
       "      <td>97.60</td>\n",
       "      <td>24.2367</td>\n",
       "      <td>44.26</td>\n",
       "      <td>24.580</td>\n",
       "      <td>35.368</td>\n",
       "      <td>27.4926</td>\n",
       "      <td>15.928</td>\n",
       "      <td>25.490</td>\n",
       "      <td>12.160</td>\n",
       "      <td>91.65</td>\n",
       "      <td>87.55</td>\n",
       "      <td>146.75</td>\n",
       "    </tr>\n",
       "    <tr>\n",
       "      <th>2023-10-25</th>\n",
       "      <td>11.660</td>\n",
       "      <td>9.29</td>\n",
       "      <td>19.308</td>\n",
       "      <td>76.48</td>\n",
       "      <td>95.53</td>\n",
       "      <td>23.6930</td>\n",
       "      <td>42.64</td>\n",
       "      <td>24.550</td>\n",
       "      <td>35.317</td>\n",
       "      <td>27.4420</td>\n",
       "      <td>15.736</td>\n",
       "      <td>25.225</td>\n",
       "      <td>11.930</td>\n",
       "      <td>90.18</td>\n",
       "      <td>87.39</td>\n",
       "      <td>146.52</td>\n",
       "    </tr>\n",
       "    <tr>\n",
       "      <th>2023-10-26</th>\n",
       "      <td>11.600</td>\n",
       "      <td>9.41</td>\n",
       "      <td>19.370</td>\n",
       "      <td>76.07</td>\n",
       "      <td>95.75</td>\n",
       "      <td>23.7010</td>\n",
       "      <td>43.05</td>\n",
       "      <td>24.586</td>\n",
       "      <td>35.268</td>\n",
       "      <td>27.2990</td>\n",
       "      <td>15.852</td>\n",
       "      <td>25.020</td>\n",
       "      <td>12.000</td>\n",
       "      <td>88.22</td>\n",
       "      <td>86.71</td>\n",
       "      <td>145.84</td>\n",
       "    </tr>\n",
       "    <tr>\n",
       "      <th>2023-10-27</th>\n",
       "      <td>11.430</td>\n",
       "      <td>9.26</td>\n",
       "      <td>19.282</td>\n",
       "      <td>74.83</td>\n",
       "      <td>94.31</td>\n",
       "      <td>23.4000</td>\n",
       "      <td>40.95</td>\n",
       "      <td>24.200</td>\n",
       "      <td>34.816</td>\n",
       "      <td>26.9250</td>\n",
       "      <td>15.435</td>\n",
       "      <td>24.968</td>\n",
       "      <td>11.887</td>\n",
       "      <td>88.29</td>\n",
       "      <td>84.63</td>\n",
       "      <td>143.90</td>\n",
       "    </tr>\n",
       "  </tbody>\n",
       "</table>\n",
       "</div>"
      ],
      "text/plain": [
       "              RAYS  RNRG    RNWZ   RSPG   SMOG     SOLR    TAN    TPYP  \\\n",
       "date                                                                     \n",
       "2023-10-23  11.830  9.24  18.855  77.56  95.18  23.9572  43.68  24.600   \n",
       "2023-10-24  12.045  9.42  19.382  76.68  97.60  24.2367  44.26  24.580   \n",
       "2023-10-25  11.660  9.29  19.308  76.48  95.53  23.6930  42.64  24.550   \n",
       "2023-10-26  11.600  9.41  19.370  76.07  95.75  23.7010  43.05  24.586   \n",
       "2023-10-27  11.430  9.26  19.282  74.83  94.31  23.4000  40.95  24.200   \n",
       "\n",
       "               UMI     USAI    VCLN    VMAT    WNDY    XES    XLE     XOP  \n",
       "date                                                                       \n",
       "2023-10-23  35.482  27.5214  15.631  25.330  11.900  92.02  88.80  147.92  \n",
       "2023-10-24  35.368  27.4926  15.928  25.490  12.160  91.65  87.55  146.75  \n",
       "2023-10-25  35.317  27.4420  15.736  25.225  11.930  90.18  87.39  146.52  \n",
       "2023-10-26  35.268  27.2990  15.852  25.020  12.000  88.22  86.71  145.84  \n",
       "2023-10-27  34.816  26.9250  15.435  24.968  11.887  88.29  84.63  143.90  "
      ]
     },
     "execution_count": 10,
     "metadata": {},
     "output_type": "execute_result"
    }
   ],
   "source": [
    "closes_df.head()"
   ]
  },
  {
   "cell_type": "code",
   "execution_count": 11,
   "id": "8a04b926-efd5-4ee0-a439-ea349e5384fc",
   "metadata": {
    "tags": []
   },
   "outputs": [
    {
     "data": {
      "text/plain": [
       "Index(['RAYS', 'RNRG', 'RNWZ', 'RSPG', 'SMOG', 'SOLR', 'TAN', 'TPYP', 'UMI',\n",
       "       'USAI', 'VCLN', 'VMAT', 'WNDY', 'XES', 'XLE', 'XOP'],\n",
       "      dtype='object')"
      ]
     },
     "execution_count": 11,
     "metadata": {},
     "output_type": "execute_result"
    }
   ],
   "source": [
    "closes_df.columns"
   ]
  },
  {
   "cell_type": "code",
   "execution_count": 20,
   "id": "d5becd5e-450d-4b49-a62e-2b0f6ac52e6e",
   "metadata": {
    "tags": []
   },
   "outputs": [
    {
     "data": {
      "text/plain": [
       "dict_keys(['VMAT', 'SOLR', 'USAI', 'RAYS', 'WNDY', 'RSPG', 'SMOG', 'UMI', 'TPYP', 'XES', 'RNRG', 'XLE', 'RNWZ', 'VCLN', 'TAN', 'XOP'])"
      ]
     },
     "execution_count": 20,
     "metadata": {},
     "output_type": "execute_result"
    }
   ],
   "source": [
    "shared._DFS.keys()"
   ]
  },
  {
   "cell_type": "code",
   "execution_count": 12,
   "id": "a3f24a67-d08d-494a-b076-caac1932a176",
   "metadata": {
    "tags": []
   },
   "outputs": [
    {
     "ename": "NameError",
     "evalue": "name 'asdf' is not defined",
     "output_type": "error",
     "traceback": [
      "\u001b[1;31m---------------------------------------------------------------------------\u001b[0m",
      "\u001b[1;31mNameError\u001b[0m                                 Traceback (most recent call last)",
      "Cell \u001b[1;32mIn[12], line 1\u001b[0m\n\u001b[1;32m----> 1\u001b[0m asdf\n",
      "\u001b[1;31mNameError\u001b[0m: name 'asdf' is not defined"
     ]
    }
   ],
   "source": [
    "asdf"
   ]
  },
  {
   "cell_type": "markdown",
   "id": "62952f72-71eb-4152-9172-c2e2206c1b86",
   "metadata": {
    "tags": []
   },
   "source": [
    "## Calcular retornos"
   ]
  },
  {
   "cell_type": "code",
   "execution_count": null,
   "id": "ef1b1a06-d459-404f-b721-2a283da0af91",
   "metadata": {
    "tags": []
   },
   "outputs": [],
   "source": [
    "returns = closes_df.pct_change()"
   ]
  },
  {
   "cell_type": "code",
   "execution_count": null,
   "id": "310e113a-94e0-4f27-a00f-d114fc01d39a",
   "metadata": {
    "tags": []
   },
   "outputs": [],
   "source": [
    "returns.tail()"
   ]
  },
  {
   "cell_type": "code",
   "execution_count": null,
   "id": "412ceeb4-e728-49e2-ad61-6aed04fa99cb",
   "metadata": {
    "tags": []
   },
   "outputs": [],
   "source": [
    "# sort last row values\n",
    "values = returns.iloc[-1].sort_values(ascending=False)\n",
    "# max and min values\n",
    "val_max = values.max()\n",
    "val_min = values.min()"
   ]
  },
  {
   "cell_type": "code",
   "execution_count": null,
   "id": "7f1ca30e-cd6f-4aa0-be06-1712d119c02c",
   "metadata": {
    "tags": []
   },
   "outputs": [],
   "source": [
    "values"
   ]
  },
  {
   "cell_type": "code",
   "execution_count": null,
   "id": "be034505-40f5-491c-865a-9e0e62265c6c",
   "metadata": {
    "tags": []
   },
   "outputs": [],
   "source": [
    "# round values to two decimal\n",
    "test = [round(i*100,2) for i in values]\n",
    "test"
   ]
  },
  {
   "cell_type": "code",
   "execution_count": null,
   "id": "dfa8a719-ef4d-4973-9c59-fb8cfe62ea70",
   "metadata": {
    "tags": []
   },
   "outputs": [],
   "source": [
    "length = len(test)\n",
    "# the idea is to shape an a X b matrix\n",
    "a = int(np.sqrt(length))\n",
    "b = int(np.ceil(length/a))\n",
    "m_length = a * b                # matrix \"length\"\n",
    "\n",
    "if m_length >= length:\n",
    "    # compute how many elements need to be add to the array\n",
    "    diff = abs(length - m_length)\n",
    "    \n",
    "    add =np.full(diff, np.nan)\n",
    "    new_array = np.append(test, add)\n",
    "    new_array = new_array.reshape(a, b)\n",
    "    \n",
    "    # add names to the plot\n",
    "    names = values.index.to_list()\n",
    "    add_names =np.full(diff, '---')\n",
    "    new_names = np.append(names, add_names)\n",
    "    new_names = new_names.reshape(a, b)"
   ]
  },
  {
   "cell_type": "code",
   "execution_count": null,
   "id": "dc172fc5-cf0e-4447-b64f-5ce1183b7de7",
   "metadata": {
    "tags": []
   },
   "outputs": [],
   "source": [
    "new_array"
   ]
  },
  {
   "cell_type": "code",
   "execution_count": null,
   "id": "aa5b8a7f-40eb-4710-9a1b-f8283c00b4a7",
   "metadata": {
    "tags": []
   },
   "outputs": [],
   "source": [
    "valores = new_array\n",
    "from  matplotlib.colors import LinearSegmentedColormap\n",
    "cmap_=LinearSegmentedColormap.from_list('rg',[\"r\", \"w\", \"g\"], N=256) \n",
    "\n",
    "# \"RdYlGn\"\n",
    "fig, ax = plt.subplots()\n",
    "\n",
    "# Especificamos paleta de colores a usar y rango de valores a representar.\n",
    "ax.imshow(valores, cmap=cmap_, vmin=val_min*100, vmax=val_max*100)\n",
    "# borrar axis labels\n",
    "ax.set_yticklabels([])\n",
    "ax.set_xticklabels([])\n",
    "\n",
    "# Reducimos la longitud de las marcas a 0 para que no sean visibles\n",
    "ax.tick_params(axis=u'both', which=u'both', length=0)\n",
    "for lado in ['left', 'right', 'bottom', 'top']:\n",
    "    ax.spines[lado].set_visible(False)\n",
    "\n",
    "# # Indicamos las posiciones donde dibujaremos la rejilla  \n",
    "xmin,xmax = ax.get_xlim()\n",
    "ymin,ymax = ax.get_ylim()\n",
    "\n",
    "ax.set_yticks(np.arange(ymax, ymin+1), minor=True)\n",
    "ax.set_xticks(np.arange(xmin, xmax+1), minor=True)\n",
    "# Dibujamos la rejilla de color blanco para que actue como separador.\n",
    "ax.grid(which='minor', color='w', linestyle='-', linewidth=2)\n",
    "\n",
    "for i in range(new_array.shape[0]):\n",
    "    for j in range(new_array.shape[1]):\n",
    "        # print(i, j, valores[i,j])\n",
    "        text = ax.text(j, i, str(new_names[i, j]) + '\\n' + str(valores[i, j])+'%',\n",
    "                       ha=\"center\", va=\"center\", color=\"k\", size=6)\n",
    "\n",
    "ax.set_title(f\"{sector}\\n\")\n",
    "        \n",
    "plt.savefig(f\"{sector}.png\")\n",
    "plt.show()\n"
   ]
  }
 ],
 "metadata": {
  "kernelspec": {
   "display_name": "Python 3 (ipykernel)",
   "language": "python",
   "name": "python3"
  },
  "language_info": {
   "codemirror_mode": {
    "name": "ipython",
    "version": 3
   },
   "file_extension": ".py",
   "mimetype": "text/x-python",
   "name": "python",
   "nbconvert_exporter": "python",
   "pygments_lexer": "ipython3",
   "version": "3.11.5"
  }
 },
 "nbformat": 4,
 "nbformat_minor": 5
}
