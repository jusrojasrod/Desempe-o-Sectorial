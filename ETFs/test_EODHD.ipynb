{
 "cells": [
  {
   "cell_type": "code",
   "execution_count": 2,
   "id": "0604a9a5-1666-4359-9cad-c256c9671c7d",
   "metadata": {
    "tags": []
   },
   "outputs": [
    {
     "name": "stdout",
     "output_type": "stream",
     "text": [
      "The autoreload extension is already loaded. To reload it, use:\n",
      "  %reload_ext autoreload\n"
     ]
    }
   ],
   "source": [
    "%load_ext autoreload\n",
    "%autoreload 2\n",
    "\n",
    "#import libraries\n",
    "import pandas as pd\n",
    "import numpy as np\n",
    "import matplotlib.pyplot as plt\n",
    "\n",
    "from datetime import date\n",
    "from datetime import datetime\n",
    "import os\n",
    "\n",
    "import data as data_\n",
    "# import shared"
   ]
  },
  {
   "cell_type": "code",
   "execution_count": 3,
   "id": "b9650fe0-2adb-4fc4-8387-7b140cc9c485",
   "metadata": {
    "tags": []
   },
   "outputs": [],
   "source": [
    "# Paths\n",
    "\n",
    "folderPath_rsrc = '/Resources/'\n",
    "folderPath_results = '/Results/'\n",
    "cwd = os.getcwd()\n",
    "path_rsrc = cwd + folderPath_rsrc\n",
    "path_results = cwd + folderPath_results\n",
    "# read data\n",
    "ETFs = pd.read_excel(path_rsrc + \"ETFs list.xlsx\")"
   ]
  },
  {
   "cell_type": "code",
   "execution_count": 4,
   "id": "f44095da-94c4-49d6-be1b-d20d854fd757",
   "metadata": {
    "tags": []
   },
   "outputs": [
    {
     "data": {
      "text/html": [
       "<div>\n",
       "<style scoped>\n",
       "    .dataframe tbody tr th:only-of-type {\n",
       "        vertical-align: middle;\n",
       "    }\n",
       "\n",
       "    .dataframe tbody tr th {\n",
       "        vertical-align: top;\n",
       "    }\n",
       "\n",
       "    .dataframe thead th {\n",
       "        text-align: right;\n",
       "    }\n",
       "</style>\n",
       "<table border=\"1\" class=\"dataframe\">\n",
       "  <thead>\n",
       "    <tr style=\"text-align: right;\">\n",
       "      <th></th>\n",
       "      <th>Technology</th>\n",
       "      <th>Energy</th>\n",
       "      <th>Telecom</th>\n",
       "      <th>Consumer Discretionary</th>\n",
       "      <th>Real Estate</th>\n",
       "      <th>Industrials</th>\n",
       "      <th>Utilities</th>\n",
       "      <th>Materials</th>\n",
       "      <th>Healthcare</th>\n",
       "      <th>Consumer Staples</th>\n",
       "      <th>Financials</th>\n",
       "    </tr>\n",
       "  </thead>\n",
       "  <tbody>\n",
       "    <tr>\n",
       "      <th>0</th>\n",
       "      <td>AAPB</td>\n",
       "      <td>ACES</td>\n",
       "      <td>FCOM</td>\n",
       "      <td>AMZD</td>\n",
       "      <td>BBRE</td>\n",
       "      <td>AIRR</td>\n",
       "      <td>BLLD</td>\n",
       "      <td>ALUM</td>\n",
       "      <td>AGNG</td>\n",
       "      <td>CHIS</td>\n",
       "      <td>BDCX</td>\n",
       "    </tr>\n",
       "    <tr>\n",
       "      <th>1</th>\n",
       "      <td>AAPD</td>\n",
       "      <td>AMJ</td>\n",
       "      <td>IXP</td>\n",
       "      <td>AMZU</td>\n",
       "      <td>BLDG</td>\n",
       "      <td>AQWA</td>\n",
       "      <td>CHIU</td>\n",
       "      <td>BATT</td>\n",
       "      <td>ARKG</td>\n",
       "      <td>CLIX</td>\n",
       "      <td>BDCZ</td>\n",
       "    </tr>\n",
       "    <tr>\n",
       "      <th>2</th>\n",
       "      <td>AAPU</td>\n",
       "      <td>AMLP</td>\n",
       "      <td>IYZ</td>\n",
       "      <td>BAD</td>\n",
       "      <td>BYRE</td>\n",
       "      <td>ARKX</td>\n",
       "      <td>ECLN</td>\n",
       "      <td>CHIM</td>\n",
       "      <td>BBC</td>\n",
       "      <td>EATV</td>\n",
       "      <td>BIZD</td>\n",
       "    </tr>\n",
       "    <tr>\n",
       "      <th>3</th>\n",
       "      <td>AIQ</td>\n",
       "      <td>AMNA</td>\n",
       "      <td>LTL</td>\n",
       "      <td>BEDZ</td>\n",
       "      <td>CHIR</td>\n",
       "      <td>AWAY</td>\n",
       "      <td>EMIF</td>\n",
       "      <td>CIRC</td>\n",
       "      <td>BBH</td>\n",
       "      <td>EATZ</td>\n",
       "      <td>BNKD</td>\n",
       "    </tr>\n",
       "    <tr>\n",
       "      <th>4</th>\n",
       "      <td>ARKK</td>\n",
       "      <td>AMND</td>\n",
       "      <td>NXTG</td>\n",
       "      <td>BETZ</td>\n",
       "      <td>DFGR</td>\n",
       "      <td>BDRY</td>\n",
       "      <td>FUTY</td>\n",
       "      <td>COPX</td>\n",
       "      <td>BBP</td>\n",
       "      <td>ECON</td>\n",
       "      <td>BNKU</td>\n",
       "    </tr>\n",
       "    <tr>\n",
       "      <th>...</th>\n",
       "      <td>...</td>\n",
       "      <td>...</td>\n",
       "      <td>...</td>\n",
       "      <td>...</td>\n",
       "      <td>...</td>\n",
       "      <td>...</td>\n",
       "      <td>...</td>\n",
       "      <td>...</td>\n",
       "      <td>...</td>\n",
       "      <td>...</td>\n",
       "      <td>...</td>\n",
       "    </tr>\n",
       "    <tr>\n",
       "      <th>163</th>\n",
       "      <td>XPND</td>\n",
       "      <td>NaN</td>\n",
       "      <td>NaN</td>\n",
       "      <td>NaN</td>\n",
       "      <td>NaN</td>\n",
       "      <td>NaN</td>\n",
       "      <td>NaN</td>\n",
       "      <td>NaN</td>\n",
       "      <td>NaN</td>\n",
       "      <td>NaN</td>\n",
       "      <td>NaN</td>\n",
       "    </tr>\n",
       "    <tr>\n",
       "      <th>164</th>\n",
       "      <td>XSD</td>\n",
       "      <td>NaN</td>\n",
       "      <td>NaN</td>\n",
       "      <td>NaN</td>\n",
       "      <td>NaN</td>\n",
       "      <td>NaN</td>\n",
       "      <td>NaN</td>\n",
       "      <td>NaN</td>\n",
       "      <td>NaN</td>\n",
       "      <td>NaN</td>\n",
       "      <td>NaN</td>\n",
       "    </tr>\n",
       "    <tr>\n",
       "      <th>165</th>\n",
       "      <td>XSW</td>\n",
       "      <td>NaN</td>\n",
       "      <td>NaN</td>\n",
       "      <td>NaN</td>\n",
       "      <td>NaN</td>\n",
       "      <td>NaN</td>\n",
       "      <td>NaN</td>\n",
       "      <td>NaN</td>\n",
       "      <td>NaN</td>\n",
       "      <td>NaN</td>\n",
       "      <td>NaN</td>\n",
       "    </tr>\n",
       "    <tr>\n",
       "      <th>166</th>\n",
       "      <td>XT</td>\n",
       "      <td>NaN</td>\n",
       "      <td>NaN</td>\n",
       "      <td>NaN</td>\n",
       "      <td>NaN</td>\n",
       "      <td>NaN</td>\n",
       "      <td>NaN</td>\n",
       "      <td>NaN</td>\n",
       "      <td>NaN</td>\n",
       "      <td>NaN</td>\n",
       "      <td>NaN</td>\n",
       "    </tr>\n",
       "    <tr>\n",
       "      <th>167</th>\n",
       "      <td>XWEB</td>\n",
       "      <td>NaN</td>\n",
       "      <td>NaN</td>\n",
       "      <td>NaN</td>\n",
       "      <td>NaN</td>\n",
       "      <td>NaN</td>\n",
       "      <td>NaN</td>\n",
       "      <td>NaN</td>\n",
       "      <td>NaN</td>\n",
       "      <td>NaN</td>\n",
       "      <td>NaN</td>\n",
       "    </tr>\n",
       "  </tbody>\n",
       "</table>\n",
       "<p>168 rows × 11 columns</p>\n",
       "</div>"
      ],
      "text/plain": [
       "    Technology Energy Telecom Consumer Discretionary Real Estate Industrials  \\\n",
       "0         AAPB   ACES    FCOM                   AMZD        BBRE        AIRR   \n",
       "1         AAPD    AMJ     IXP                   AMZU        BLDG        AQWA   \n",
       "2         AAPU   AMLP     IYZ                    BAD        BYRE        ARKX   \n",
       "3          AIQ   AMNA     LTL                   BEDZ        CHIR        AWAY   \n",
       "4         ARKK   AMND    NXTG                   BETZ        DFGR        BDRY   \n",
       "..         ...    ...     ...                    ...         ...         ...   \n",
       "163       XPND    NaN     NaN                    NaN         NaN         NaN   \n",
       "164        XSD    NaN     NaN                    NaN         NaN         NaN   \n",
       "165        XSW    NaN     NaN                    NaN         NaN         NaN   \n",
       "166         XT    NaN     NaN                    NaN         NaN         NaN   \n",
       "167       XWEB    NaN     NaN                    NaN         NaN         NaN   \n",
       "\n",
       "    Utilities Materials Healthcare Consumer Staples Financials  \n",
       "0        BLLD      ALUM       AGNG             CHIS       BDCX  \n",
       "1        CHIU      BATT       ARKG             CLIX       BDCZ  \n",
       "2        ECLN      CHIM        BBC             EATV       BIZD  \n",
       "3        EMIF      CIRC        BBH             EATZ       BNKD  \n",
       "4        FUTY      COPX        BBP             ECON       BNKU  \n",
       "..        ...       ...        ...              ...        ...  \n",
       "163       NaN       NaN        NaN              NaN        NaN  \n",
       "164       NaN       NaN        NaN              NaN        NaN  \n",
       "165       NaN       NaN        NaN              NaN        NaN  \n",
       "166       NaN       NaN        NaN              NaN        NaN  \n",
       "167       NaN       NaN        NaN              NaN        NaN  \n",
       "\n",
       "[168 rows x 11 columns]"
      ]
     },
     "execution_count": 4,
     "metadata": {},
     "output_type": "execute_result"
    }
   ],
   "source": [
    "ETFs"
   ]
  },
  {
   "cell_type": "code",
   "execution_count": 5,
   "id": "f23c2d23-0564-45be-bf7c-4f97fa9e9dc5",
   "metadata": {
    "tags": []
   },
   "outputs": [],
   "source": [
    "sector = \"Energy\"\n",
    "energy = ETFs[sector]\n",
    "energy.dropna(inplace=True)"
   ]
  },
  {
   "cell_type": "code",
   "execution_count": 6,
   "id": "0b76aa2f-c1fd-466c-b474-a0e8fa104e7a",
   "metadata": {
    "tags": []
   },
   "outputs": [],
   "source": [
    "energy = energy.to_list()"
   ]
  },
  {
   "cell_type": "code",
   "execution_count": 7,
   "id": "7210bf05-1a56-48dc-87cd-1e73180f6d06",
   "metadata": {
    "tags": []
   },
   "outputs": [
    {
     "data": {
      "text/plain": [
       "86"
      ]
     },
     "execution_count": 7,
     "metadata": {},
     "output_type": "execute_result"
    }
   ],
   "source": [
    "len(energy)"
   ]
  },
  {
   "cell_type": "code",
   "execution_count": 8,
   "id": "cc9afa26-b3de-4946-a384-55e08df57e36",
   "metadata": {
    "tags": []
   },
   "outputs": [
    {
     "data": {
      "text/plain": [
       "['ACES', 'AMJ', 'AMLP', 'AMNA', 'AMND', 'AMTR', 'AMUB', 'AMZA', 'ATMP', 'BNE']"
      ]
     },
     "execution_count": 8,
     "metadata": {},
     "output_type": "execute_result"
    }
   ],
   "source": [
    "energy[:10]"
   ]
  },
  {
   "cell_type": "markdown",
   "id": "20f05e67-9031-4d94-bba9-c2dcd4b92df5",
   "metadata": {
    "tags": []
   },
   "source": [
    "## Handling data\n",
    "---"
   ]
  },
  {
   "cell_type": "markdown",
   "id": "0aa2e294-82d6-46b4-872f-7ae040a4eb09",
   "metadata": {
    "tags": []
   },
   "source": [
    "### Download data"
   ]
  },
  {
   "cell_type": "code",
   "execution_count": 9,
   "id": "5c650f74-18d0-472b-a67a-03a89926cd40",
   "metadata": {
    "tags": []
   },
   "outputs": [],
   "source": [
    "# download data\n",
    "\n",
    "end_ = date.today()  # yyyy-mm-dd\n",
    "if end_.day == 31:\n",
    "    start_ = datetime(end_.year, end_.month - 1, 30)\n",
    "else:\n",
    "    start_ = datetime(end_.year, end_.month - 1, end_.day)\n",
    "\n",
    "download = True\n",
    "if download:\n",
    "    df = data_.downloadAllTickers(tickers=energy, start=start_, end=end_, period='w', group_by='column')"
   ]
  },
  {
   "cell_type": "code",
   "execution_count": 10,
   "id": "f0bd114a-bd51-40ff-8502-63596147c180",
   "metadata": {
    "tags": []
   },
   "outputs": [
    {
     "data": {
      "text/html": [
       "<div>\n",
       "<style scoped>\n",
       "    .dataframe tbody tr th:only-of-type {\n",
       "        vertical-align: middle;\n",
       "    }\n",
       "\n",
       "    .dataframe tbody tr th {\n",
       "        vertical-align: top;\n",
       "    }\n",
       "\n",
       "    .dataframe thead tr th {\n",
       "        text-align: left;\n",
       "    }\n",
       "\n",
       "    .dataframe thead tr:last-of-type th {\n",
       "        text-align: right;\n",
       "    }\n",
       "</style>\n",
       "<table border=\"1\" class=\"dataframe\">\n",
       "  <thead>\n",
       "    <tr>\n",
       "      <th></th>\n",
       "      <th colspan=\"5\" halign=\"left\">adjusted_close</th>\n",
       "      <th colspan=\"5\" halign=\"left\">close</th>\n",
       "      <th>...</th>\n",
       "      <th colspan=\"5\" halign=\"left\">open</th>\n",
       "      <th colspan=\"5\" halign=\"left\">volume</th>\n",
       "    </tr>\n",
       "    <tr>\n",
       "      <th></th>\n",
       "      <th>VMAT</th>\n",
       "      <th>WNDY</th>\n",
       "      <th>XES</th>\n",
       "      <th>XLE</th>\n",
       "      <th>XOP</th>\n",
       "      <th>VMAT</th>\n",
       "      <th>WNDY</th>\n",
       "      <th>XES</th>\n",
       "      <th>XLE</th>\n",
       "      <th>XOP</th>\n",
       "      <th>...</th>\n",
       "      <th>VMAT</th>\n",
       "      <th>WNDY</th>\n",
       "      <th>XES</th>\n",
       "      <th>XLE</th>\n",
       "      <th>XOP</th>\n",
       "      <th>VMAT</th>\n",
       "      <th>WNDY</th>\n",
       "      <th>XES</th>\n",
       "      <th>XLE</th>\n",
       "      <th>XOP</th>\n",
       "    </tr>\n",
       "    <tr>\n",
       "      <th>date</th>\n",
       "      <th></th>\n",
       "      <th></th>\n",
       "      <th></th>\n",
       "      <th></th>\n",
       "      <th></th>\n",
       "      <th></th>\n",
       "      <th></th>\n",
       "      <th></th>\n",
       "      <th></th>\n",
       "      <th></th>\n",
       "      <th></th>\n",
       "      <th></th>\n",
       "      <th></th>\n",
       "      <th></th>\n",
       "      <th></th>\n",
       "      <th></th>\n",
       "      <th></th>\n",
       "      <th></th>\n",
       "      <th></th>\n",
       "      <th></th>\n",
       "      <th></th>\n",
       "    </tr>\n",
       "  </thead>\n",
       "  <tbody>\n",
       "    <tr>\n",
       "      <th>2023-10-20</th>\n",
       "      <td>25.303</td>\n",
       "      <td>11.94</td>\n",
       "      <td>92.98</td>\n",
       "      <td>90.26</td>\n",
       "      <td>150.11</td>\n",
       "      <td>25.303</td>\n",
       "      <td>11.94</td>\n",
       "      <td>92.98</td>\n",
       "      <td>90.26</td>\n",
       "      <td>150.11</td>\n",
       "      <td>...</td>\n",
       "      <td>25.303</td>\n",
       "      <td>11.87</td>\n",
       "      <td>94.86</td>\n",
       "      <td>91.64</td>\n",
       "      <td>152.39</td>\n",
       "      <td>0</td>\n",
       "      <td>1400</td>\n",
       "      <td>65400</td>\n",
       "      <td>23274777</td>\n",
       "      <td>4764800</td>\n",
       "    </tr>\n",
       "    <tr>\n",
       "      <th>2023-10-23</th>\n",
       "      <td>25.330</td>\n",
       "      <td>11.90</td>\n",
       "      <td>92.02</td>\n",
       "      <td>88.80</td>\n",
       "      <td>147.92</td>\n",
       "      <td>25.330</td>\n",
       "      <td>11.90</td>\n",
       "      <td>92.02</td>\n",
       "      <td>88.80</td>\n",
       "      <td>147.92</td>\n",
       "      <td>...</td>\n",
       "      <td>25.330</td>\n",
       "      <td>11.93</td>\n",
       "      <td>92.10</td>\n",
       "      <td>89.74</td>\n",
       "      <td>148.80</td>\n",
       "      <td>0</td>\n",
       "      <td>400</td>\n",
       "      <td>132800</td>\n",
       "      <td>25944070</td>\n",
       "      <td>4924900</td>\n",
       "    </tr>\n",
       "    <tr>\n",
       "      <th>2023-10-24</th>\n",
       "      <td>25.490</td>\n",
       "      <td>12.16</td>\n",
       "      <td>91.65</td>\n",
       "      <td>87.55</td>\n",
       "      <td>146.75</td>\n",
       "      <td>25.490</td>\n",
       "      <td>12.16</td>\n",
       "      <td>91.65</td>\n",
       "      <td>87.55</td>\n",
       "      <td>146.75</td>\n",
       "      <td>...</td>\n",
       "      <td>25.490</td>\n",
       "      <td>12.10</td>\n",
       "      <td>92.28</td>\n",
       "      <td>89.02</td>\n",
       "      <td>148.68</td>\n",
       "      <td>100</td>\n",
       "      <td>12300</td>\n",
       "      <td>77200</td>\n",
       "      <td>22135801</td>\n",
       "      <td>4573100</td>\n",
       "    </tr>\n",
       "    <tr>\n",
       "      <th>2023-10-25</th>\n",
       "      <td>25.225</td>\n",
       "      <td>11.93</td>\n",
       "      <td>90.18</td>\n",
       "      <td>87.39</td>\n",
       "      <td>146.52</td>\n",
       "      <td>25.225</td>\n",
       "      <td>11.93</td>\n",
       "      <td>90.18</td>\n",
       "      <td>87.39</td>\n",
       "      <td>146.52</td>\n",
       "      <td>...</td>\n",
       "      <td>25.225</td>\n",
       "      <td>12.00</td>\n",
       "      <td>91.19</td>\n",
       "      <td>87.61</td>\n",
       "      <td>146.49</td>\n",
       "      <td>0</td>\n",
       "      <td>400</td>\n",
       "      <td>65300</td>\n",
       "      <td>20706324</td>\n",
       "      <td>4440300</td>\n",
       "    </tr>\n",
       "    <tr>\n",
       "      <th>2023-10-26</th>\n",
       "      <td>25.020</td>\n",
       "      <td>12.00</td>\n",
       "      <td>88.22</td>\n",
       "      <td>86.71</td>\n",
       "      <td>145.84</td>\n",
       "      <td>25.020</td>\n",
       "      <td>12.00</td>\n",
       "      <td>88.22</td>\n",
       "      <td>86.71</td>\n",
       "      <td>145.84</td>\n",
       "      <td>...</td>\n",
       "      <td>25.020</td>\n",
       "      <td>11.93</td>\n",
       "      <td>89.35</td>\n",
       "      <td>86.59</td>\n",
       "      <td>144.61</td>\n",
       "      <td>100</td>\n",
       "      <td>900</td>\n",
       "      <td>128700</td>\n",
       "      <td>22385166</td>\n",
       "      <td>4610200</td>\n",
       "    </tr>\n",
       "  </tbody>\n",
       "</table>\n",
       "<p>5 rows × 30 columns</p>\n",
       "</div>"
      ],
      "text/plain": [
       "           adjusted_close                                close                \\\n",
       "                     VMAT   WNDY    XES    XLE     XOP    VMAT   WNDY    XES   \n",
       "date                                                                           \n",
       "2023-10-20         25.303  11.94  92.98  90.26  150.11  25.303  11.94  92.98   \n",
       "2023-10-23         25.330  11.90  92.02  88.80  147.92  25.330  11.90  92.02   \n",
       "2023-10-24         25.490  12.16  91.65  87.55  146.75  25.490  12.16  91.65   \n",
       "2023-10-25         25.225  11.93  90.18  87.39  146.52  25.225  11.93  90.18   \n",
       "2023-10-26         25.020  12.00  88.22  86.71  145.84  25.020  12.00  88.22   \n",
       "\n",
       "                           ...    open                              volume  \\\n",
       "              XLE     XOP  ...    VMAT   WNDY    XES    XLE     XOP   VMAT   \n",
       "date                       ...                                               \n",
       "2023-10-20  90.26  150.11  ...  25.303  11.87  94.86  91.64  152.39      0   \n",
       "2023-10-23  88.80  147.92  ...  25.330  11.93  92.10  89.74  148.80      0   \n",
       "2023-10-24  87.55  146.75  ...  25.490  12.10  92.28  89.02  148.68    100   \n",
       "2023-10-25  87.39  146.52  ...  25.225  12.00  91.19  87.61  146.49      0   \n",
       "2023-10-26  86.71  145.84  ...  25.020  11.93  89.35  86.59  144.61    100   \n",
       "\n",
       "                                              \n",
       "             WNDY     XES       XLE      XOP  \n",
       "date                                          \n",
       "2023-10-20   1400   65400  23274777  4764800  \n",
       "2023-10-23    400  132800  25944070  4924900  \n",
       "2023-10-24  12300   77200  22135801  4573100  \n",
       "2023-10-25    400   65300  20706324  4440300  \n",
       "2023-10-26    900  128700  22385166  4610200  \n",
       "\n",
       "[5 rows x 30 columns]"
      ]
     },
     "execution_count": 10,
     "metadata": {},
     "output_type": "execute_result"
    }
   ],
   "source": [
    "df.head()"
   ]
  },
  {
   "cell_type": "code",
   "execution_count": 11,
   "id": "d5af0b88-ed51-4c63-b0bf-a67532c33484",
   "metadata": {
    "tags": []
   },
   "outputs": [],
   "source": [
    "closes_df = df.close"
   ]
  },
  {
   "cell_type": "code",
   "execution_count": 12,
   "id": "a4d121ed-be96-4fa4-8a0a-7868294bc1d9",
   "metadata": {
    "tags": []
   },
   "outputs": [
    {
     "data": {
      "text/html": [
       "<div>\n",
       "<style scoped>\n",
       "    .dataframe tbody tr th:only-of-type {\n",
       "        vertical-align: middle;\n",
       "    }\n",
       "\n",
       "    .dataframe tbody tr th {\n",
       "        vertical-align: top;\n",
       "    }\n",
       "\n",
       "    .dataframe thead th {\n",
       "        text-align: right;\n",
       "    }\n",
       "</style>\n",
       "<table border=\"1\" class=\"dataframe\">\n",
       "  <thead>\n",
       "    <tr style=\"text-align: right;\">\n",
       "      <th></th>\n",
       "      <th>VMAT</th>\n",
       "      <th>WNDY</th>\n",
       "      <th>XES</th>\n",
       "      <th>XLE</th>\n",
       "      <th>XOP</th>\n",
       "    </tr>\n",
       "    <tr>\n",
       "      <th>date</th>\n",
       "      <th></th>\n",
       "      <th></th>\n",
       "      <th></th>\n",
       "      <th></th>\n",
       "      <th></th>\n",
       "    </tr>\n",
       "  </thead>\n",
       "  <tbody>\n",
       "    <tr>\n",
       "      <th>2023-10-20</th>\n",
       "      <td>25.303</td>\n",
       "      <td>11.94</td>\n",
       "      <td>92.98</td>\n",
       "      <td>90.26</td>\n",
       "      <td>150.11</td>\n",
       "    </tr>\n",
       "    <tr>\n",
       "      <th>2023-10-23</th>\n",
       "      <td>25.330</td>\n",
       "      <td>11.90</td>\n",
       "      <td>92.02</td>\n",
       "      <td>88.80</td>\n",
       "      <td>147.92</td>\n",
       "    </tr>\n",
       "    <tr>\n",
       "      <th>2023-10-24</th>\n",
       "      <td>25.490</td>\n",
       "      <td>12.16</td>\n",
       "      <td>91.65</td>\n",
       "      <td>87.55</td>\n",
       "      <td>146.75</td>\n",
       "    </tr>\n",
       "    <tr>\n",
       "      <th>2023-10-25</th>\n",
       "      <td>25.225</td>\n",
       "      <td>11.93</td>\n",
       "      <td>90.18</td>\n",
       "      <td>87.39</td>\n",
       "      <td>146.52</td>\n",
       "    </tr>\n",
       "    <tr>\n",
       "      <th>2023-10-26</th>\n",
       "      <td>25.020</td>\n",
       "      <td>12.00</td>\n",
       "      <td>88.22</td>\n",
       "      <td>86.71</td>\n",
       "      <td>145.84</td>\n",
       "    </tr>\n",
       "  </tbody>\n",
       "</table>\n",
       "</div>"
      ],
      "text/plain": [
       "              VMAT   WNDY    XES    XLE     XOP\n",
       "date                                           \n",
       "2023-10-20  25.303  11.94  92.98  90.26  150.11\n",
       "2023-10-23  25.330  11.90  92.02  88.80  147.92\n",
       "2023-10-24  25.490  12.16  91.65  87.55  146.75\n",
       "2023-10-25  25.225  11.93  90.18  87.39  146.52\n",
       "2023-10-26  25.020  12.00  88.22  86.71  145.84"
      ]
     },
     "execution_count": 12,
     "metadata": {},
     "output_type": "execute_result"
    }
   ],
   "source": [
    "closes_df.head()"
   ]
  },
  {
   "cell_type": "markdown",
   "id": "62952f72-71eb-4152-9172-c2e2206c1b86",
   "metadata": {
    "tags": []
   },
   "source": [
    "## Calcular retornos"
   ]
  },
  {
   "cell_type": "code",
   "execution_count": 13,
   "id": "ef1b1a06-d459-404f-b721-2a283da0af91",
   "metadata": {
    "tags": []
   },
   "outputs": [],
   "source": [
    "returns = closes_df.pct_change()"
   ]
  },
  {
   "cell_type": "code",
   "execution_count": 14,
   "id": "310e113a-94e0-4f27-a00f-d114fc01d39a",
   "metadata": {
    "tags": []
   },
   "outputs": [
    {
     "data": {
      "text/html": [
       "<div>\n",
       "<style scoped>\n",
       "    .dataframe tbody tr th:only-of-type {\n",
       "        vertical-align: middle;\n",
       "    }\n",
       "\n",
       "    .dataframe tbody tr th {\n",
       "        vertical-align: top;\n",
       "    }\n",
       "\n",
       "    .dataframe thead th {\n",
       "        text-align: right;\n",
       "    }\n",
       "</style>\n",
       "<table border=\"1\" class=\"dataframe\">\n",
       "  <thead>\n",
       "    <tr style=\"text-align: right;\">\n",
       "      <th></th>\n",
       "      <th>VMAT</th>\n",
       "      <th>WNDY</th>\n",
       "      <th>XES</th>\n",
       "      <th>XLE</th>\n",
       "      <th>XOP</th>\n",
       "    </tr>\n",
       "    <tr>\n",
       "      <th>date</th>\n",
       "      <th></th>\n",
       "      <th></th>\n",
       "      <th></th>\n",
       "      <th></th>\n",
       "      <th></th>\n",
       "    </tr>\n",
       "  </thead>\n",
       "  <tbody>\n",
       "    <tr>\n",
       "      <th>2023-11-13</th>\n",
       "      <td>0.002349</td>\n",
       "      <td>-0.008065</td>\n",
       "      <td>0.008034</td>\n",
       "      <td>0.007193</td>\n",
       "      <td>0.007946</td>\n",
       "    </tr>\n",
       "    <tr>\n",
       "      <th>2023-11-14</th>\n",
       "      <td>0.018116</td>\n",
       "      <td>0.054472</td>\n",
       "      <td>0.022621</td>\n",
       "      <td>0.008928</td>\n",
       "      <td>0.016563</td>\n",
       "    </tr>\n",
       "    <tr>\n",
       "      <th>2023-11-15</th>\n",
       "      <td>0.000548</td>\n",
       "      <td>-0.002313</td>\n",
       "      <td>-0.018338</td>\n",
       "      <td>-0.001888</td>\n",
       "      <td>0.001138</td>\n",
       "    </tr>\n",
       "    <tr>\n",
       "      <th>2023-11-16</th>\n",
       "      <td>0.005477</td>\n",
       "      <td>-0.016229</td>\n",
       "      <td>-0.039580</td>\n",
       "      <td>-0.019504</td>\n",
       "      <td>-0.028854</td>\n",
       "    </tr>\n",
       "    <tr>\n",
       "      <th>2023-11-17</th>\n",
       "      <td>0.004322</td>\n",
       "      <td>0.009819</td>\n",
       "      <td>0.026988</td>\n",
       "      <td>0.020976</td>\n",
       "      <td>0.022027</td>\n",
       "    </tr>\n",
       "  </tbody>\n",
       "</table>\n",
       "</div>"
      ],
      "text/plain": [
       "                VMAT      WNDY       XES       XLE       XOP\n",
       "date                                                        \n",
       "2023-11-13  0.002349 -0.008065  0.008034  0.007193  0.007946\n",
       "2023-11-14  0.018116  0.054472  0.022621  0.008928  0.016563\n",
       "2023-11-15  0.000548 -0.002313 -0.018338 -0.001888  0.001138\n",
       "2023-11-16  0.005477 -0.016229 -0.039580 -0.019504 -0.028854\n",
       "2023-11-17  0.004322  0.009819  0.026988  0.020976  0.022027"
      ]
     },
     "execution_count": 14,
     "metadata": {},
     "output_type": "execute_result"
    }
   ],
   "source": [
    "returns.tail()"
   ]
  },
  {
   "cell_type": "code",
   "execution_count": 15,
   "id": "412ceeb4-e728-49e2-ad61-6aed04fa99cb",
   "metadata": {
    "tags": []
   },
   "outputs": [],
   "source": [
    "# sort last row values\n",
    "values = returns.iloc[-1].sort_values(ascending=False)\n",
    "# max and min values\n",
    "val_max = values.max()\n",
    "val_min = values.min()"
   ]
  },
  {
   "cell_type": "code",
   "execution_count": 16,
   "id": "7f1ca30e-cd6f-4aa0-be06-1712d119c02c",
   "metadata": {
    "tags": []
   },
   "outputs": [
    {
     "data": {
      "text/plain": [
       "XES     0.026988\n",
       "XOP     0.022027\n",
       "XLE     0.020976\n",
       "WNDY    0.009819\n",
       "VMAT    0.004322\n",
       "Name: 2023-11-17, dtype: float64"
      ]
     },
     "execution_count": 16,
     "metadata": {},
     "output_type": "execute_result"
    }
   ],
   "source": [
    "values"
   ]
  },
  {
   "cell_type": "code",
   "execution_count": 23,
   "id": "be034505-40f5-491c-865a-9e0e62265c6c",
   "metadata": {
    "tags": []
   },
   "outputs": [
    {
     "data": {
      "text/plain": [
       "[2.7, 2.2, 2.1, 0.98, 0.43]"
      ]
     },
     "execution_count": 23,
     "metadata": {},
     "output_type": "execute_result"
    }
   ],
   "source": [
    "# round values to two decimal\n",
    "test = [round(i*100,2) for i in values]\n",
    "test"
   ]
  },
  {
   "cell_type": "code",
   "execution_count": 19,
   "id": "dfa8a719-ef4d-4973-9c59-fb8cfe62ea70",
   "metadata": {
    "tags": []
   },
   "outputs": [],
   "source": [
    "length = len(test)\n",
    "# the idea is to shape an a X b matrix\n",
    "a = int(np.sqrt(length))\n",
    "b = int(np.ceil(length/a))\n",
    "m_length = a * b                # matrix \"length\"\n",
    "\n",
    "if m_length >= length:\n",
    "    # compute how many elements need to be add to the array\n",
    "    diff = abs(length - m_length)\n",
    "    \n",
    "    add =np.full(diff, np.nan)\n",
    "    new_array = np.append(test, add)\n",
    "    new_array = new_array.reshape(a, b)\n",
    "    \n",
    "    # add names to the plot\n",
    "    names = values.index.to_list()\n",
    "    add_names =np.full(diff, '---')\n",
    "    new_names = np.append(names, add_names)\n",
    "    new_names = new_names.reshape(a, b)"
   ]
  },
  {
   "cell_type": "code",
   "execution_count": 20,
   "id": "dc172fc5-cf0e-4447-b64f-5ce1183b7de7",
   "metadata": {
    "tags": []
   },
   "outputs": [
    {
     "data": {
      "text/plain": [
       "array([[2.7 , 2.2 , 2.1 ],\n",
       "       [0.98, 0.43,  nan]])"
      ]
     },
     "execution_count": 20,
     "metadata": {},
     "output_type": "execute_result"
    }
   ],
   "source": [
    "new_array"
   ]
  },
  {
   "cell_type": "code",
   "execution_count": 21,
   "id": "aa5b8a7f-40eb-4710-9a1b-f8283c00b4a7",
   "metadata": {
    "tags": []
   },
   "outputs": [
    {
     "data": {
      "image/png": "[encoded data removed]",
      "text/plain": [
       "<Figure size 640x480 with 1 Axes>"
      ]
     },
     "metadata": {},
     "output_type": "display_data"
    }
   ],
   "source": [
    "valores = new_array\n",
    "from  matplotlib.colors import LinearSegmentedColormap\n",
    "cmap_=LinearSegmentedColormap.from_list('rg',[\"r\", \"w\", \"g\"], N=256) \n",
    "\n",
    "# \"RdYlGn\"\n",
    "fig, ax = plt.subplots()\n",
    "\n",
    "# Especificamos paleta de colores a usar y rango de valores a representar.\n",
    "ax.imshow(valores, cmap=cmap_, vmin=val_min*100, vmax=val_max*100)\n",
    "# borrar axis labels\n",
    "ax.set_yticklabels([])\n",
    "ax.set_xticklabels([])\n",
    "\n",
    "# Reducimos la longitud de las marcas a 0 para que no sean visibles\n",
    "ax.tick_params(axis=u'both', which=u'both', length=0)\n",
    "for lado in ['left', 'right', 'bottom', 'top']:\n",
    "    ax.spines[lado].set_visible(False)\n",
    "\n",
    "# # Indicamos las posiciones donde dibujaremos la rejilla  \n",
    "xmin,xmax = ax.get_xlim()\n",
    "ymin,ymax = ax.get_ylim()\n",
    "\n",
    "ax.set_yticks(np.arange(ymax, ymin+1), minor=True)\n",
    "ax.set_xticks(np.arange(xmin, xmax+1), minor=True)\n",
    "# Dibujamos la rejilla de color blanco para que actue como separador.\n",
    "ax.grid(which='minor', color='w', linestyle='-', linewidth=2)\n",
    "\n",
    "for i in range(new_array.shape[0]):\n",
    "    for j in range(new_array.shape[1]):\n",
    "        # print(i, j, valores[i,j])\n",
    "        text = ax.text(j, i, str(new_names[i, j]) + '\\n' + str(valores[i, j])+'%',\n",
    "                       ha=\"center\", va=\"center\", color=\"k\", size=6)\n",
    "\n",
    "ax.set_title(f\"{sector}\\n\")\n",
    "        \n",
    "plt.savefig(f\"{sector}.png\")\n",
    "plt.show()\n"
   ]
  }
 ],
 "metadata": {
  "kernelspec": {
   "display_name": "Python 3 (ipykernel)",
   "language": "python",
   "name": "python3"
  },
  "language_info": {
   "codemirror_mode": {
    "name": "ipython",
    "version": 3
   },
   "file_extension": ".py",
   "mimetype": "text/x-python",
   "name": "python",
   "nbconvert_exporter": "python",
   "pygments_lexer": "ipython3",
   "version": "3.11.5"
  }
 },
 "nbformat": 4,
 "nbformat_minor": 5
}
