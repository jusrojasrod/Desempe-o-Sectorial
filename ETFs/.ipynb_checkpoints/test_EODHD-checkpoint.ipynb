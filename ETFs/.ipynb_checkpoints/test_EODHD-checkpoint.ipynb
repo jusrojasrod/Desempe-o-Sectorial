{
 "cells": [
  {
   "cell_type": "code",
   "execution_count": 10,
   "id": "0604a9a5-1666-4359-9cad-c256c9671c7d",
   "metadata": {
    "tags": []
   },
   "outputs": [
    {
     "name": "stdout",
     "output_type": "stream",
     "text": [
      "The autoreload extension is already loaded. To reload it, use:\n",
      "  %reload_ext autoreload\n"
     ]
    }
   ],
   "source": [
    "%load_ext autoreload\n",
    "%autoreload 2\n",
    "\n",
    "#import libraries\n",
    "import pandas as pd\n",
    "import numpy as np\n",
    "import matplotlib.pyplot as plt\n",
    "\n",
    "from datetime import date\n",
    "from datetime import datetime\n",
    "import os\n",
    "\n",
    "import data as data_"
   ]
  },
  {
   "cell_type": "code",
   "execution_count": 24,
   "id": "b9650fe0-2adb-4fc4-8387-7b140cc9c485",
   "metadata": {
    "tags": []
   },
   "outputs": [],
   "source": [
    "# Paths\n",
    "\n",
    "folderPath_rsrc = '/Resources/'\n",
    "folderPath_results = '/Results/'\n",
    "cwd = os.getcwd()\n",
    "path_rsrc = cwd + folderPath_rsrc\n",
    "path_results = cwd + folderPath_results\n",
    "# read data\n",
    "ETFs = pd.read_excel(path_rsrc + \"ETFs list.xlsx\")"
   ]
  },
  {
   "cell_type": "code",
   "execution_count": 12,
   "id": "f44095da-94c4-49d6-be1b-d20d854fd757",
   "metadata": {
    "tags": []
   },
   "outputs": [
    {
     "data": {
      "text/html": [
       "<div>\n",
       "<style scoped>\n",
       "    .dataframe tbody tr th:only-of-type {\n",
       "        vertical-align: middle;\n",
       "    }\n",
       "\n",
       "    .dataframe tbody tr th {\n",
       "        vertical-align: top;\n",
       "    }\n",
       "\n",
       "    .dataframe thead th {\n",
       "        text-align: right;\n",
       "    }\n",
       "</style>\n",
       "<table border=\"1\" class=\"dataframe\">\n",
       "  <thead>\n",
       "    <tr style=\"text-align: right;\">\n",
       "      <th></th>\n",
       "      <th>Technology</th>\n",
       "      <th>Energy</th>\n",
       "      <th>Telecom</th>\n",
       "      <th>Consumer Discretionary</th>\n",
       "      <th>Real Estate</th>\n",
       "      <th>Industrials</th>\n",
       "      <th>Utilities</th>\n",
       "      <th>Materials</th>\n",
       "      <th>Healthcare</th>\n",
       "      <th>Consumer Staples</th>\n",
       "      <th>Financials</th>\n",
       "    </tr>\n",
       "  </thead>\n",
       "  <tbody>\n",
       "    <tr>\n",
       "      <th>0</th>\n",
       "      <td>AAPB</td>\n",
       "      <td>ACES</td>\n",
       "      <td>FCOM</td>\n",
       "      <td>AMZD</td>\n",
       "      <td>BBRE</td>\n",
       "      <td>AIRR</td>\n",
       "      <td>BLLD</td>\n",
       "      <td>ALUM</td>\n",
       "      <td>AGNG</td>\n",
       "      <td>CHIS</td>\n",
       "      <td>BDCX</td>\n",
       "    </tr>\n",
       "    <tr>\n",
       "      <th>1</th>\n",
       "      <td>AAPD</td>\n",
       "      <td>AMJ</td>\n",
       "      <td>IXP</td>\n",
       "      <td>AMZU</td>\n",
       "      <td>BLDG</td>\n",
       "      <td>AQWA</td>\n",
       "      <td>CHIU</td>\n",
       "      <td>BATT</td>\n",
       "      <td>ARKG</td>\n",
       "      <td>CLIX</td>\n",
       "      <td>BDCZ</td>\n",
       "    </tr>\n",
       "    <tr>\n",
       "      <th>2</th>\n",
       "      <td>AAPU</td>\n",
       "      <td>AMLP</td>\n",
       "      <td>IYZ</td>\n",
       "      <td>BAD</td>\n",
       "      <td>BYRE</td>\n",
       "      <td>ARKX</td>\n",
       "      <td>ECLN</td>\n",
       "      <td>CHIM</td>\n",
       "      <td>BBC</td>\n",
       "      <td>EATV</td>\n",
       "      <td>BIZD</td>\n",
       "    </tr>\n",
       "    <tr>\n",
       "      <th>3</th>\n",
       "      <td>AIQ</td>\n",
       "      <td>AMNA</td>\n",
       "      <td>LTL</td>\n",
       "      <td>BEDZ</td>\n",
       "      <td>CHIR</td>\n",
       "      <td>AWAY</td>\n",
       "      <td>EMIF</td>\n",
       "      <td>CIRC</td>\n",
       "      <td>BBH</td>\n",
       "      <td>EATZ</td>\n",
       "      <td>BNKD</td>\n",
       "    </tr>\n",
       "    <tr>\n",
       "      <th>4</th>\n",
       "      <td>ARKK</td>\n",
       "      <td>AMND</td>\n",
       "      <td>NXTG</td>\n",
       "      <td>BETZ</td>\n",
       "      <td>DFGR</td>\n",
       "      <td>BDRY</td>\n",
       "      <td>FUTY</td>\n",
       "      <td>COPX</td>\n",
       "      <td>BBP</td>\n",
       "      <td>ECON</td>\n",
       "      <td>BNKU</td>\n",
       "    </tr>\n",
       "    <tr>\n",
       "      <th>...</th>\n",
       "      <td>...</td>\n",
       "      <td>...</td>\n",
       "      <td>...</td>\n",
       "      <td>...</td>\n",
       "      <td>...</td>\n",
       "      <td>...</td>\n",
       "      <td>...</td>\n",
       "      <td>...</td>\n",
       "      <td>...</td>\n",
       "      <td>...</td>\n",
       "      <td>...</td>\n",
       "    </tr>\n",
       "    <tr>\n",
       "      <th>163</th>\n",
       "      <td>XPND</td>\n",
       "      <td>NaN</td>\n",
       "      <td>NaN</td>\n",
       "      <td>NaN</td>\n",
       "      <td>NaN</td>\n",
       "      <td>NaN</td>\n",
       "      <td>NaN</td>\n",
       "      <td>NaN</td>\n",
       "      <td>NaN</td>\n",
       "      <td>NaN</td>\n",
       "      <td>NaN</td>\n",
       "    </tr>\n",
       "    <tr>\n",
       "      <th>164</th>\n",
       "      <td>XSD</td>\n",
       "      <td>NaN</td>\n",
       "      <td>NaN</td>\n",
       "      <td>NaN</td>\n",
       "      <td>NaN</td>\n",
       "      <td>NaN</td>\n",
       "      <td>NaN</td>\n",
       "      <td>NaN</td>\n",
       "      <td>NaN</td>\n",
       "      <td>NaN</td>\n",
       "      <td>NaN</td>\n",
       "    </tr>\n",
       "    <tr>\n",
       "      <th>165</th>\n",
       "      <td>XSW</td>\n",
       "      <td>NaN</td>\n",
       "      <td>NaN</td>\n",
       "      <td>NaN</td>\n",
       "      <td>NaN</td>\n",
       "      <td>NaN</td>\n",
       "      <td>NaN</td>\n",
       "      <td>NaN</td>\n",
       "      <td>NaN</td>\n",
       "      <td>NaN</td>\n",
       "      <td>NaN</td>\n",
       "    </tr>\n",
       "    <tr>\n",
       "      <th>166</th>\n",
       "      <td>XT</td>\n",
       "      <td>NaN</td>\n",
       "      <td>NaN</td>\n",
       "      <td>NaN</td>\n",
       "      <td>NaN</td>\n",
       "      <td>NaN</td>\n",
       "      <td>NaN</td>\n",
       "      <td>NaN</td>\n",
       "      <td>NaN</td>\n",
       "      <td>NaN</td>\n",
       "      <td>NaN</td>\n",
       "    </tr>\n",
       "    <tr>\n",
       "      <th>167</th>\n",
       "      <td>XWEB</td>\n",
       "      <td>NaN</td>\n",
       "      <td>NaN</td>\n",
       "      <td>NaN</td>\n",
       "      <td>NaN</td>\n",
       "      <td>NaN</td>\n",
       "      <td>NaN</td>\n",
       "      <td>NaN</td>\n",
       "      <td>NaN</td>\n",
       "      <td>NaN</td>\n",
       "      <td>NaN</td>\n",
       "    </tr>\n",
       "  </tbody>\n",
       "</table>\n",
       "<p>168 rows × 11 columns</p>\n",
       "</div>"
      ],
      "text/plain": [
       "    Technology Energy Telecom Consumer Discretionary Real Estate Industrials  \\\n",
       "0         AAPB   ACES    FCOM                   AMZD        BBRE        AIRR   \n",
       "1         AAPD    AMJ     IXP                   AMZU        BLDG        AQWA   \n",
       "2         AAPU   AMLP     IYZ                    BAD        BYRE        ARKX   \n",
       "3          AIQ   AMNA     LTL                   BEDZ        CHIR        AWAY   \n",
       "4         ARKK   AMND    NXTG                   BETZ        DFGR        BDRY   \n",
       "..         ...    ...     ...                    ...         ...         ...   \n",
       "163       XPND    NaN     NaN                    NaN         NaN         NaN   \n",
       "164        XSD    NaN     NaN                    NaN         NaN         NaN   \n",
       "165        XSW    NaN     NaN                    NaN         NaN         NaN   \n",
       "166         XT    NaN     NaN                    NaN         NaN         NaN   \n",
       "167       XWEB    NaN     NaN                    NaN         NaN         NaN   \n",
       "\n",
       "    Utilities Materials Healthcare Consumer Staples Financials  \n",
       "0        BLLD      ALUM       AGNG             CHIS       BDCX  \n",
       "1        CHIU      BATT       ARKG             CLIX       BDCZ  \n",
       "2        ECLN      CHIM        BBC             EATV       BIZD  \n",
       "3        EMIF      CIRC        BBH             EATZ       BNKD  \n",
       "4        FUTY      COPX        BBP             ECON       BNKU  \n",
       "..        ...       ...        ...              ...        ...  \n",
       "163       NaN       NaN        NaN              NaN        NaN  \n",
       "164       NaN       NaN        NaN              NaN        NaN  \n",
       "165       NaN       NaN        NaN              NaN        NaN  \n",
       "166       NaN       NaN        NaN              NaN        NaN  \n",
       "167       NaN       NaN        NaN              NaN        NaN  \n",
       "\n",
       "[168 rows x 11 columns]"
      ]
     },
     "execution_count": 12,
     "metadata": {},
     "output_type": "execute_result"
    }
   ],
   "source": [
    "ETFs"
   ]
  },
  {
   "cell_type": "code",
   "execution_count": 13,
   "id": "f23c2d23-0564-45be-bf7c-4f97fa9e9dc5",
   "metadata": {
    "tags": []
   },
   "outputs": [],
   "source": [
    "sector = \"Energy\"\n",
    "energy = ETFs[sector]\n",
    "energy.dropna(inplace=True)"
   ]
  },
  {
   "cell_type": "code",
   "execution_count": 14,
   "id": "0b76aa2f-c1fd-466c-b474-a0e8fa104e7a",
   "metadata": {
    "tags": []
   },
   "outputs": [],
   "source": [
    "energy = energy.to_list()"
   ]
  },
  {
   "cell_type": "code",
   "execution_count": 15,
   "id": "7210bf05-1a56-48dc-87cd-1e73180f6d06",
   "metadata": {
    "tags": []
   },
   "outputs": [
    {
     "data": {
      "text/plain": [
       "['ACES', 'AMJ', 'AMLP', 'AMNA', 'AMND']"
      ]
     },
     "execution_count": 15,
     "metadata": {},
     "output_type": "execute_result"
    }
   ],
   "source": [
    "energy[:5]"
   ]
  },
  {
   "cell_type": "markdown",
   "id": "20f05e67-9031-4d94-bba9-c2dcd4b92df5",
   "metadata": {
    "tags": []
   },
   "source": [
    "## Handling data\n",
    "---"
   ]
  },
  {
   "cell_type": "markdown",
   "id": "0aa2e294-82d6-46b4-872f-7ae040a4eb09",
   "metadata": {
    "tags": []
   },
   "source": [
    "### Download data"
   ]
  },
  {
   "cell_type": "code",
   "execution_count": 30,
   "id": "5c650f74-18d0-472b-a67a-03a89926cd40",
   "metadata": {
    "tags": []
   },
   "outputs": [],
   "source": [
    "# download data\n",
    "\n",
    "end_ = date.today()  # yyyy-mm-dd\n",
    "if end_.day == 31:\n",
    "    start_ = datetime(end_.year, end_.month - 1, 30)\n",
    "else:\n",
    "    start_ = datetime(end_.year, end_.month - 1, end_.day)\n",
    "\n",
    "download = False    \n",
    "if download:\n",
    "    data_.downloadAllTickers(tickers=energy, start=start_, end=end_, period='w')"
   ]
  },
  {
   "cell_type": "markdown",
   "id": "48ab6b34-2094-4b59-b95b-80cedead4cfd",
   "metadata": {
    "tags": []
   },
   "source": [
    "### Read data"
   ]
  },
  {
   "cell_type": "code",
   "execution_count": 27,
   "id": "4e5487d5-5781-470a-9511-b38b91754d10",
   "metadata": {
    "tags": []
   },
   "outputs": [],
   "source": [
    "df = pd.read_pickle(f\"{path_rsrc}{energy[0]}\")"
   ]
  },
  {
   "cell_type": "code",
   "execution_count": 28,
   "id": "26cf5b63-0fa8-48d7-a3d9-ec8938075d58",
   "metadata": {
    "tags": []
   },
   "outputs": [
    {
     "data": {
      "text/html": [
       "<div>\n",
       "<style scoped>\n",
       "    .dataframe tbody tr th:only-of-type {\n",
       "        vertical-align: middle;\n",
       "    }\n",
       "\n",
       "    .dataframe tbody tr th {\n",
       "        vertical-align: top;\n",
       "    }\n",
       "\n",
       "    .dataframe thead th {\n",
       "        text-align: right;\n",
       "    }\n",
       "</style>\n",
       "<table border=\"1\" class=\"dataframe\">\n",
       "  <thead>\n",
       "    <tr style=\"text-align: right;\">\n",
       "      <th></th>\n",
       "      <th>date</th>\n",
       "      <th>open</th>\n",
       "      <th>high</th>\n",
       "      <th>low</th>\n",
       "      <th>close</th>\n",
       "      <th>adjusted_close</th>\n",
       "      <th>volume</th>\n",
       "    </tr>\n",
       "  </thead>\n",
       "  <tbody>\n",
       "    <tr>\n",
       "      <th>0</th>\n",
       "      <td>2023-10-03</td>\n",
       "      <td>34.50</td>\n",
       "      <td>34.500</td>\n",
       "      <td>32.200</td>\n",
       "      <td>33.37</td>\n",
       "      <td>33.37</td>\n",
       "      <td>583400</td>\n",
       "    </tr>\n",
       "    <tr>\n",
       "      <th>1</th>\n",
       "      <td>2023-10-09</td>\n",
       "      <td>32.97</td>\n",
       "      <td>35.685</td>\n",
       "      <td>32.540</td>\n",
       "      <td>33.72</td>\n",
       "      <td>33.72</td>\n",
       "      <td>592500</td>\n",
       "    </tr>\n",
       "    <tr>\n",
       "      <th>2</th>\n",
       "      <td>2023-10-16</td>\n",
       "      <td>33.77</td>\n",
       "      <td>34.950</td>\n",
       "      <td>30.550</td>\n",
       "      <td>30.58</td>\n",
       "      <td>30.58</td>\n",
       "      <td>599000</td>\n",
       "    </tr>\n",
       "    <tr>\n",
       "      <th>3</th>\n",
       "      <td>2023-10-23</td>\n",
       "      <td>30.25</td>\n",
       "      <td>31.444</td>\n",
       "      <td>29.450</td>\n",
       "      <td>29.51</td>\n",
       "      <td>29.51</td>\n",
       "      <td>349500</td>\n",
       "    </tr>\n",
       "    <tr>\n",
       "      <th>4</th>\n",
       "      <td>2023-10-30</td>\n",
       "      <td>29.81</td>\n",
       "      <td>31.400</td>\n",
       "      <td>28.865</td>\n",
       "      <td>31.33</td>\n",
       "      <td>31.33</td>\n",
       "      <td>530345</td>\n",
       "    </tr>\n",
       "  </tbody>\n",
       "</table>\n",
       "</div>"
      ],
      "text/plain": [
       "         date   open    high     low  close  adjusted_close  volume\n",
       "0  2023-10-03  34.50  34.500  32.200  33.37           33.37  583400\n",
       "1  2023-10-09  32.97  35.685  32.540  33.72           33.72  592500\n",
       "2  2023-10-16  33.77  34.950  30.550  30.58           30.58  599000\n",
       "3  2023-10-23  30.25  31.444  29.450  29.51           29.51  349500\n",
       "4  2023-10-30  29.81  31.400  28.865  31.33           31.33  530345"
      ]
     },
     "execution_count": 28,
     "metadata": {},
     "output_type": "execute_result"
    }
   ],
   "source": [
    "df"
   ]
  }
 ],
 "metadata": {
  "kernelspec": {
   "display_name": "Python 3 (ipykernel)",
   "language": "python",
   "name": "python3"
  },
  "language_info": {
   "codemirror_mode": {
    "name": "ipython",
    "version": 3
   },
   "file_extension": ".py",
   "mimetype": "text/x-python",
   "name": "python",
   "nbconvert_exporter": "python",
   "pygments_lexer": "ipython3",
   "version": "3.11.5"
  }
 },
 "nbformat": 4,
 "nbformat_minor": 5
}
