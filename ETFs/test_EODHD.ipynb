{
 "cells": [
  {
   "cell_type": "code",
   "execution_count": 1,
   "id": "0604a9a5-1666-4359-9cad-c256c9671c7d",
   "metadata": {
    "tags": []
   },
   "outputs": [],
   "source": [
    "%load_ext autoreload\n",
    "%autoreload 2\n",
    "\n",
    "#import libraries\n",
    "import pandas as pd\n",
    "import numpy as np\n",
    "import matplotlib.pyplot as plt\n",
    "\n",
    "from datetime import date\n",
    "from datetime import datetime\n",
    "import os\n",
    "\n",
    "import data as data_"
   ]
  },
  {
   "cell_type": "code",
   "execution_count": 2,
   "id": "b9650fe0-2adb-4fc4-8387-7b140cc9c485",
   "metadata": {
    "tags": []
   },
   "outputs": [
    {
     "ename": "FileNotFoundError",
     "evalue": "[Errno 2] No such file or directory: 'C:\\\\Users\\\\Usuario\\\\Documents\\\\GitHub\\\\Desempe-o-Sectorial\\\\ETFs/Resources/ETFs list.xlsx'",
     "output_type": "error",
     "traceback": [
      "\u001b[1;31m---------------------------------------------------------------------------\u001b[0m",
      "\u001b[1;31mFileNotFoundError\u001b[0m                         Traceback (most recent call last)",
      "Cell \u001b[1;32mIn[2], line 9\u001b[0m\n\u001b[0;32m      7\u001b[0m path_results \u001b[38;5;241m=\u001b[39m cwd \u001b[38;5;241m+\u001b[39m folderPath_results\n\u001b[0;32m      8\u001b[0m \u001b[38;5;66;03m# read data\u001b[39;00m\n\u001b[1;32m----> 9\u001b[0m ETFs \u001b[38;5;241m=\u001b[39m pd\u001b[38;5;241m.\u001b[39mread_excel(path_rsrc \u001b[38;5;241m+\u001b[39m \u001b[38;5;124m\"\u001b[39m\u001b[38;5;124mETFs list.xlsx\u001b[39m\u001b[38;5;124m\"\u001b[39m)\n",
      "File \u001b[1;32m~\\anaconda3\\Lib\\site-packages\\pandas\\io\\excel\\_base.py:478\u001b[0m, in \u001b[0;36mread_excel\u001b[1;34m(io, sheet_name, header, names, index_col, usecols, dtype, engine, converters, true_values, false_values, skiprows, nrows, na_values, keep_default_na, na_filter, verbose, parse_dates, date_parser, date_format, thousands, decimal, comment, skipfooter, storage_options, dtype_backend)\u001b[0m\n\u001b[0;32m    476\u001b[0m \u001b[38;5;28;01mif\u001b[39;00m \u001b[38;5;129;01mnot\u001b[39;00m \u001b[38;5;28misinstance\u001b[39m(io, ExcelFile):\n\u001b[0;32m    477\u001b[0m     should_close \u001b[38;5;241m=\u001b[39m \u001b[38;5;28;01mTrue\u001b[39;00m\n\u001b[1;32m--> 478\u001b[0m     io \u001b[38;5;241m=\u001b[39m ExcelFile(io, storage_options\u001b[38;5;241m=\u001b[39mstorage_options, engine\u001b[38;5;241m=\u001b[39mengine)\n\u001b[0;32m    479\u001b[0m \u001b[38;5;28;01melif\u001b[39;00m engine \u001b[38;5;129;01mand\u001b[39;00m engine \u001b[38;5;241m!=\u001b[39m io\u001b[38;5;241m.\u001b[39mengine:\n\u001b[0;32m    480\u001b[0m     \u001b[38;5;28;01mraise\u001b[39;00m \u001b[38;5;167;01mValueError\u001b[39;00m(\n\u001b[0;32m    481\u001b[0m         \u001b[38;5;124m\"\u001b[39m\u001b[38;5;124mEngine should not be specified when passing \u001b[39m\u001b[38;5;124m\"\u001b[39m\n\u001b[0;32m    482\u001b[0m         \u001b[38;5;124m\"\u001b[39m\u001b[38;5;124man ExcelFile - ExcelFile already has the engine set\u001b[39m\u001b[38;5;124m\"\u001b[39m\n\u001b[0;32m    483\u001b[0m     )\n",
      "File \u001b[1;32m~\\anaconda3\\Lib\\site-packages\\pandas\\io\\excel\\_base.py:1496\u001b[0m, in \u001b[0;36mExcelFile.__init__\u001b[1;34m(self, path_or_buffer, engine, storage_options)\u001b[0m\n\u001b[0;32m   1494\u001b[0m     ext \u001b[38;5;241m=\u001b[39m \u001b[38;5;124m\"\u001b[39m\u001b[38;5;124mxls\u001b[39m\u001b[38;5;124m\"\u001b[39m\n\u001b[0;32m   1495\u001b[0m \u001b[38;5;28;01melse\u001b[39;00m:\n\u001b[1;32m-> 1496\u001b[0m     ext \u001b[38;5;241m=\u001b[39m inspect_excel_format(\n\u001b[0;32m   1497\u001b[0m         content_or_path\u001b[38;5;241m=\u001b[39mpath_or_buffer, storage_options\u001b[38;5;241m=\u001b[39mstorage_options\n\u001b[0;32m   1498\u001b[0m     )\n\u001b[0;32m   1499\u001b[0m     \u001b[38;5;28;01mif\u001b[39;00m ext \u001b[38;5;129;01mis\u001b[39;00m \u001b[38;5;28;01mNone\u001b[39;00m:\n\u001b[0;32m   1500\u001b[0m         \u001b[38;5;28;01mraise\u001b[39;00m \u001b[38;5;167;01mValueError\u001b[39;00m(\n\u001b[0;32m   1501\u001b[0m             \u001b[38;5;124m\"\u001b[39m\u001b[38;5;124mExcel file format cannot be determined, you must specify \u001b[39m\u001b[38;5;124m\"\u001b[39m\n\u001b[0;32m   1502\u001b[0m             \u001b[38;5;124m\"\u001b[39m\u001b[38;5;124man engine manually.\u001b[39m\u001b[38;5;124m\"\u001b[39m\n\u001b[0;32m   1503\u001b[0m         )\n",
      "File \u001b[1;32m~\\anaconda3\\Lib\\site-packages\\pandas\\io\\excel\\_base.py:1371\u001b[0m, in \u001b[0;36minspect_excel_format\u001b[1;34m(content_or_path, storage_options)\u001b[0m\n\u001b[0;32m   1368\u001b[0m \u001b[38;5;28;01mif\u001b[39;00m \u001b[38;5;28misinstance\u001b[39m(content_or_path, \u001b[38;5;28mbytes\u001b[39m):\n\u001b[0;32m   1369\u001b[0m     content_or_path \u001b[38;5;241m=\u001b[39m BytesIO(content_or_path)\n\u001b[1;32m-> 1371\u001b[0m \u001b[38;5;28;01mwith\u001b[39;00m get_handle(\n\u001b[0;32m   1372\u001b[0m     content_or_path, \u001b[38;5;124m\"\u001b[39m\u001b[38;5;124mrb\u001b[39m\u001b[38;5;124m\"\u001b[39m, storage_options\u001b[38;5;241m=\u001b[39mstorage_options, is_text\u001b[38;5;241m=\u001b[39m\u001b[38;5;28;01mFalse\u001b[39;00m\n\u001b[0;32m   1373\u001b[0m ) \u001b[38;5;28;01mas\u001b[39;00m handle:\n\u001b[0;32m   1374\u001b[0m     stream \u001b[38;5;241m=\u001b[39m handle\u001b[38;5;241m.\u001b[39mhandle\n\u001b[0;32m   1375\u001b[0m     stream\u001b[38;5;241m.\u001b[39mseek(\u001b[38;5;241m0\u001b[39m)\n",
      "File \u001b[1;32m~\\anaconda3\\Lib\\site-packages\\pandas\\io\\common.py:868\u001b[0m, in \u001b[0;36mget_handle\u001b[1;34m(path_or_buf, mode, encoding, compression, memory_map, is_text, errors, storage_options)\u001b[0m\n\u001b[0;32m    859\u001b[0m         handle \u001b[38;5;241m=\u001b[39m \u001b[38;5;28mopen\u001b[39m(\n\u001b[0;32m    860\u001b[0m             handle,\n\u001b[0;32m    861\u001b[0m             ioargs\u001b[38;5;241m.\u001b[39mmode,\n\u001b[1;32m   (...)\u001b[0m\n\u001b[0;32m    864\u001b[0m             newline\u001b[38;5;241m=\u001b[39m\u001b[38;5;124m\"\u001b[39m\u001b[38;5;124m\"\u001b[39m,\n\u001b[0;32m    865\u001b[0m         )\n\u001b[0;32m    866\u001b[0m     \u001b[38;5;28;01melse\u001b[39;00m:\n\u001b[0;32m    867\u001b[0m         \u001b[38;5;66;03m# Binary mode\u001b[39;00m\n\u001b[1;32m--> 868\u001b[0m         handle \u001b[38;5;241m=\u001b[39m \u001b[38;5;28mopen\u001b[39m(handle, ioargs\u001b[38;5;241m.\u001b[39mmode)\n\u001b[0;32m    869\u001b[0m     handles\u001b[38;5;241m.\u001b[39mappend(handle)\n\u001b[0;32m    871\u001b[0m \u001b[38;5;66;03m# Convert BytesIO or file objects passed with an encoding\u001b[39;00m\n",
      "\u001b[1;31mFileNotFoundError\u001b[0m: [Errno 2] No such file or directory: 'C:\\\\Users\\\\Usuario\\\\Documents\\\\GitHub\\\\Desempe-o-Sectorial\\\\ETFs/Resources/ETFs list.xlsx'"
     ]
    }
   ],
   "source": [
    "# Paths\n",
    "\n",
    "folderPath_rsrc = '/Resources/'\n",
    "folderPath_results = '/Results/'\n",
    "cwd = os.getcwd()\n",
    "path_rsrc = cwd + folderPath_rsrc\n",
    "path_results = cwd + folderPath_results\n",
    "# read data\n",
    "ETFs = pd.read_excel(path_rsrc + \"ETFs list.xlsx\")"
   ]
  },
  {
   "cell_type": "code",
   "execution_count": 12,
   "id": "f44095da-94c4-49d6-be1b-d20d854fd757",
   "metadata": {
    "tags": []
   },
   "outputs": [
    {
     "data": {
      "text/html": [
       "<div>\n",
       "<style scoped>\n",
       "    .dataframe tbody tr th:only-of-type {\n",
       "        vertical-align: middle;\n",
       "    }\n",
       "\n",
       "    .dataframe tbody tr th {\n",
       "        vertical-align: top;\n",
       "    }\n",
       "\n",
       "    .dataframe thead th {\n",
       "        text-align: right;\n",
       "    }\n",
       "</style>\n",
       "<table border=\"1\" class=\"dataframe\">\n",
       "  <thead>\n",
       "    <tr style=\"text-align: right;\">\n",
       "      <th></th>\n",
       "      <th>Technology</th>\n",
       "      <th>Energy</th>\n",
       "      <th>Telecom</th>\n",
       "      <th>Consumer Discretionary</th>\n",
       "      <th>Real Estate</th>\n",
       "      <th>Industrials</th>\n",
       "      <th>Utilities</th>\n",
       "      <th>Materials</th>\n",
       "      <th>Healthcare</th>\n",
       "      <th>Consumer Staples</th>\n",
       "      <th>Financials</th>\n",
       "    </tr>\n",
       "  </thead>\n",
       "  <tbody>\n",
       "    <tr>\n",
       "      <th>0</th>\n",
       "      <td>AAPB</td>\n",
       "      <td>ACES</td>\n",
       "      <td>FCOM</td>\n",
       "      <td>AMZD</td>\n",
       "      <td>BBRE</td>\n",
       "      <td>AIRR</td>\n",
       "      <td>BLLD</td>\n",
       "      <td>ALUM</td>\n",
       "      <td>AGNG</td>\n",
       "      <td>CHIS</td>\n",
       "      <td>BDCX</td>\n",
       "    </tr>\n",
       "    <tr>\n",
       "      <th>1</th>\n",
       "      <td>AAPD</td>\n",
       "      <td>AMJ</td>\n",
       "      <td>IXP</td>\n",
       "      <td>AMZU</td>\n",
       "      <td>BLDG</td>\n",
       "      <td>AQWA</td>\n",
       "      <td>CHIU</td>\n",
       "      <td>BATT</td>\n",
       "      <td>ARKG</td>\n",
       "      <td>CLIX</td>\n",
       "      <td>BDCZ</td>\n",
       "    </tr>\n",
       "    <tr>\n",
       "      <th>2</th>\n",
       "      <td>AAPU</td>\n",
       "      <td>AMLP</td>\n",
       "      <td>IYZ</td>\n",
       "      <td>BAD</td>\n",
       "      <td>BYRE</td>\n",
       "      <td>ARKX</td>\n",
       "      <td>ECLN</td>\n",
       "      <td>CHIM</td>\n",
       "      <td>BBC</td>\n",
       "      <td>EATV</td>\n",
       "      <td>BIZD</td>\n",
       "    </tr>\n",
       "    <tr>\n",
       "      <th>3</th>\n",
       "      <td>AIQ</td>\n",
       "      <td>AMNA</td>\n",
       "      <td>LTL</td>\n",
       "      <td>BEDZ</td>\n",
       "      <td>CHIR</td>\n",
       "      <td>AWAY</td>\n",
       "      <td>EMIF</td>\n",
       "      <td>CIRC</td>\n",
       "      <td>BBH</td>\n",
       "      <td>EATZ</td>\n",
       "      <td>BNKD</td>\n",
       "    </tr>\n",
       "    <tr>\n",
       "      <th>4</th>\n",
       "      <td>ARKK</td>\n",
       "      <td>AMND</td>\n",
       "      <td>NXTG</td>\n",
       "      <td>BETZ</td>\n",
       "      <td>DFGR</td>\n",
       "      <td>BDRY</td>\n",
       "      <td>FUTY</td>\n",
       "      <td>COPX</td>\n",
       "      <td>BBP</td>\n",
       "      <td>ECON</td>\n",
       "      <td>BNKU</td>\n",
       "    </tr>\n",
       "    <tr>\n",
       "      <th>...</th>\n",
       "      <td>...</td>\n",
       "      <td>...</td>\n",
       "      <td>...</td>\n",
       "      <td>...</td>\n",
       "      <td>...</td>\n",
       "      <td>...</td>\n",
       "      <td>...</td>\n",
       "      <td>...</td>\n",
       "      <td>...</td>\n",
       "      <td>...</td>\n",
       "      <td>...</td>\n",
       "    </tr>\n",
       "    <tr>\n",
       "      <th>163</th>\n",
       "      <td>XPND</td>\n",
       "      <td>NaN</td>\n",
       "      <td>NaN</td>\n",
       "      <td>NaN</td>\n",
       "      <td>NaN</td>\n",
       "      <td>NaN</td>\n",
       "      <td>NaN</td>\n",
       "      <td>NaN</td>\n",
       "      <td>NaN</td>\n",
       "      <td>NaN</td>\n",
       "      <td>NaN</td>\n",
       "    </tr>\n",
       "    <tr>\n",
       "      <th>164</th>\n",
       "      <td>XSD</td>\n",
       "      <td>NaN</td>\n",
       "      <td>NaN</td>\n",
       "      <td>NaN</td>\n",
       "      <td>NaN</td>\n",
       "      <td>NaN</td>\n",
       "      <td>NaN</td>\n",
       "      <td>NaN</td>\n",
       "      <td>NaN</td>\n",
       "      <td>NaN</td>\n",
       "      <td>NaN</td>\n",
       "    </tr>\n",
       "    <tr>\n",
       "      <th>165</th>\n",
       "      <td>XSW</td>\n",
       "      <td>NaN</td>\n",
       "      <td>NaN</td>\n",
       "      <td>NaN</td>\n",
       "      <td>NaN</td>\n",
       "      <td>NaN</td>\n",
       "      <td>NaN</td>\n",
       "      <td>NaN</td>\n",
       "      <td>NaN</td>\n",
       "      <td>NaN</td>\n",
       "      <td>NaN</td>\n",
       "    </tr>\n",
       "    <tr>\n",
       "      <th>166</th>\n",
       "      <td>XT</td>\n",
       "      <td>NaN</td>\n",
       "      <td>NaN</td>\n",
       "      <td>NaN</td>\n",
       "      <td>NaN</td>\n",
       "      <td>NaN</td>\n",
       "      <td>NaN</td>\n",
       "      <td>NaN</td>\n",
       "      <td>NaN</td>\n",
       "      <td>NaN</td>\n",
       "      <td>NaN</td>\n",
       "    </tr>\n",
       "    <tr>\n",
       "      <th>167</th>\n",
       "      <td>XWEB</td>\n",
       "      <td>NaN</td>\n",
       "      <td>NaN</td>\n",
       "      <td>NaN</td>\n",
       "      <td>NaN</td>\n",
       "      <td>NaN</td>\n",
       "      <td>NaN</td>\n",
       "      <td>NaN</td>\n",
       "      <td>NaN</td>\n",
       "      <td>NaN</td>\n",
       "      <td>NaN</td>\n",
       "    </tr>\n",
       "  </tbody>\n",
       "</table>\n",
       "<p>168 rows × 11 columns</p>\n",
       "</div>"
      ],
      "text/plain": [
       "    Technology Energy Telecom Consumer Discretionary Real Estate Industrials  \\\n",
       "0         AAPB   ACES    FCOM                   AMZD        BBRE        AIRR   \n",
       "1         AAPD    AMJ     IXP                   AMZU        BLDG        AQWA   \n",
       "2         AAPU   AMLP     IYZ                    BAD        BYRE        ARKX   \n",
       "3          AIQ   AMNA     LTL                   BEDZ        CHIR        AWAY   \n",
       "4         ARKK   AMND    NXTG                   BETZ        DFGR        BDRY   \n",
       "..         ...    ...     ...                    ...         ...         ...   \n",
       "163       XPND    NaN     NaN                    NaN         NaN         NaN   \n",
       "164        XSD    NaN     NaN                    NaN         NaN         NaN   \n",
       "165        XSW    NaN     NaN                    NaN         NaN         NaN   \n",
       "166         XT    NaN     NaN                    NaN         NaN         NaN   \n",
       "167       XWEB    NaN     NaN                    NaN         NaN         NaN   \n",
       "\n",
       "    Utilities Materials Healthcare Consumer Staples Financials  \n",
       "0        BLLD      ALUM       AGNG             CHIS       BDCX  \n",
       "1        CHIU      BATT       ARKG             CLIX       BDCZ  \n",
       "2        ECLN      CHIM        BBC             EATV       BIZD  \n",
       "3        EMIF      CIRC        BBH             EATZ       BNKD  \n",
       "4        FUTY      COPX        BBP             ECON       BNKU  \n",
       "..        ...       ...        ...              ...        ...  \n",
       "163       NaN       NaN        NaN              NaN        NaN  \n",
       "164       NaN       NaN        NaN              NaN        NaN  \n",
       "165       NaN       NaN        NaN              NaN        NaN  \n",
       "166       NaN       NaN        NaN              NaN        NaN  \n",
       "167       NaN       NaN        NaN              NaN        NaN  \n",
       "\n",
       "[168 rows x 11 columns]"
      ]
     },
     "execution_count": 12,
     "metadata": {},
     "output_type": "execute_result"
    }
   ],
   "source": [
    "ETFs"
   ]
  },
  {
   "cell_type": "code",
   "execution_count": 13,
   "id": "f23c2d23-0564-45be-bf7c-4f97fa9e9dc5",
   "metadata": {
    "tags": []
   },
   "outputs": [],
   "source": [
    "sector = \"Energy\"\n",
    "energy = ETFs[sector]\n",
    "energy.dropna(inplace=True)"
   ]
  },
  {
   "cell_type": "code",
   "execution_count": 14,
   "id": "0b76aa2f-c1fd-466c-b474-a0e8fa104e7a",
   "metadata": {
    "tags": []
   },
   "outputs": [],
   "source": [
    "energy = energy.to_list()"
   ]
  },
  {
   "cell_type": "code",
   "execution_count": 15,
   "id": "7210bf05-1a56-48dc-87cd-1e73180f6d06",
   "metadata": {
    "tags": []
   },
   "outputs": [
    {
     "data": {
      "text/plain": [
       "['ACES', 'AMJ', 'AMLP', 'AMNA', 'AMND']"
      ]
     },
     "execution_count": 15,
     "metadata": {},
     "output_type": "execute_result"
    }
   ],
   "source": [
    "energy[:5]"
   ]
  },
  {
   "cell_type": "markdown",
   "id": "20f05e67-9031-4d94-bba9-c2dcd4b92df5",
   "metadata": {
    "tags": []
   },
   "source": [
    "## Handling data\n",
    "---"
   ]
  },
  {
   "cell_type": "markdown",
   "id": "0aa2e294-82d6-46b4-872f-7ae040a4eb09",
   "metadata": {
    "tags": []
   },
   "source": [
    "### Download data"
   ]
  },
  {
   "cell_type": "code",
   "execution_count": 30,
   "id": "5c650f74-18d0-472b-a67a-03a89926cd40",
   "metadata": {
    "tags": []
   },
   "outputs": [],
   "source": [
    "# download data\n",
    "\n",
    "end_ = date.today()  # yyyy-mm-dd\n",
    "if end_.day == 31:\n",
    "    start_ = datetime(end_.year, end_.month - 1, 30)\n",
    "else:\n",
    "    start_ = datetime(end_.year, end_.month - 1, end_.day)\n",
    "\n",
    "download = False    \n",
    "if download:\n",
    "    data_.downloadAllTickers(tickers=energy, start=start_, end=end_, period='w')"
   ]
  },
  {
   "cell_type": "markdown",
   "id": "48ab6b34-2094-4b59-b95b-80cedead4cfd",
   "metadata": {
    "tags": []
   },
   "source": [
    "### Read data"
   ]
  },
  {
   "cell_type": "code",
   "execution_count": 27,
   "id": "4e5487d5-5781-470a-9511-b38b91754d10",
   "metadata": {
    "tags": []
   },
   "outputs": [],
   "source": [
    "df = pd.read_pickle(f\"{path_rsrc}{energy[0]}\")"
   ]
  },
  {
   "cell_type": "code",
   "execution_count": 28,
   "id": "26cf5b63-0fa8-48d7-a3d9-ec8938075d58",
   "metadata": {
    "tags": []
   },
   "outputs": [
    {
     "data": {
      "text/html": [
       "<div>\n",
       "<style scoped>\n",
       "    .dataframe tbody tr th:only-of-type {\n",
       "        vertical-align: middle;\n",
       "    }\n",
       "\n",
       "    .dataframe tbody tr th {\n",
       "        vertical-align: top;\n",
       "    }\n",
       "\n",
       "    .dataframe thead th {\n",
       "        text-align: right;\n",
       "    }\n",
       "</style>\n",
       "<table border=\"1\" class=\"dataframe\">\n",
       "  <thead>\n",
       "    <tr style=\"text-align: right;\">\n",
       "      <th></th>\n",
       "      <th>date</th>\n",
       "      <th>open</th>\n",
       "      <th>high</th>\n",
       "      <th>low</th>\n",
       "      <th>close</th>\n",
       "      <th>adjusted_close</th>\n",
       "      <th>volume</th>\n",
       "    </tr>\n",
       "  </thead>\n",
       "  <tbody>\n",
       "    <tr>\n",
       "      <th>0</th>\n",
       "      <td>2023-10-03</td>\n",
       "      <td>34.50</td>\n",
       "      <td>34.500</td>\n",
       "      <td>32.200</td>\n",
       "      <td>33.37</td>\n",
       "      <td>33.37</td>\n",
       "      <td>583400</td>\n",
       "    </tr>\n",
       "    <tr>\n",
       "      <th>1</th>\n",
       "      <td>2023-10-09</td>\n",
       "      <td>32.97</td>\n",
       "      <td>35.685</td>\n",
       "      <td>32.540</td>\n",
       "      <td>33.72</td>\n",
       "      <td>33.72</td>\n",
       "      <td>592500</td>\n",
       "    </tr>\n",
       "    <tr>\n",
       "      <th>2</th>\n",
       "      <td>2023-10-16</td>\n",
       "      <td>33.77</td>\n",
       "      <td>34.950</td>\n",
       "      <td>30.550</td>\n",
       "      <td>30.58</td>\n",
       "      <td>30.58</td>\n",
       "      <td>599000</td>\n",
       "    </tr>\n",
       "    <tr>\n",
       "      <th>3</th>\n",
       "      <td>2023-10-23</td>\n",
       "      <td>30.25</td>\n",
       "      <td>31.444</td>\n",
       "      <td>29.450</td>\n",
       "      <td>29.51</td>\n",
       "      <td>29.51</td>\n",
       "      <td>349500</td>\n",
       "    </tr>\n",
       "    <tr>\n",
       "      <th>4</th>\n",
       "      <td>2023-10-30</td>\n",
       "      <td>29.81</td>\n",
       "      <td>31.400</td>\n",
       "      <td>28.865</td>\n",
       "      <td>31.33</td>\n",
       "      <td>31.33</td>\n",
       "      <td>530345</td>\n",
       "    </tr>\n",
       "  </tbody>\n",
       "</table>\n",
       "</div>"
      ],
      "text/plain": [
       "         date   open    high     low  close  adjusted_close  volume\n",
       "0  2023-10-03  34.50  34.500  32.200  33.37           33.37  583400\n",
       "1  2023-10-09  32.97  35.685  32.540  33.72           33.72  592500\n",
       "2  2023-10-16  33.77  34.950  30.550  30.58           30.58  599000\n",
       "3  2023-10-23  30.25  31.444  29.450  29.51           29.51  349500\n",
       "4  2023-10-30  29.81  31.400  28.865  31.33           31.33  530345"
      ]
     },
     "execution_count": 28,
     "metadata": {},
     "output_type": "execute_result"
    }
   ],
   "source": [
    "df"
   ]
  }
 ],
 "metadata": {
  "kernelspec": {
   "display_name": "Python 3 (ipykernel)",
   "language": "python",
   "name": "python3"
  },
  "language_info": {
   "codemirror_mode": {
    "name": "ipython",
    "version": 3
   },
   "file_extension": ".py",
   "mimetype": "text/x-python",
   "name": "python",
   "nbconvert_exporter": "python",
   "pygments_lexer": "ipython3",
   "version": "3.11.5"
  }
 },
 "nbformat": 4,
 "nbformat_minor": 5
}
